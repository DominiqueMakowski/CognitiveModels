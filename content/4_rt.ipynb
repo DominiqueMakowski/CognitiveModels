{
  "cells": [
    {
      "cell_type": "markdown",
      "metadata": {},
      "source": [
        "# Reaction Times\n",
        "\n",
        "![](https://img.shields.io/badge/status-WIP-orange)\n",
        "\n",
        "## The Data\n",
        "\n",
        "Data from @wagenmakers2008diffusion - Experiment 1.\n",
        "Using the same procedure as the authors, we excluded all trials with uninterpretable response time [see @theriault2024check], i.e., responses that are too fast response (<180 ms) or too slow (>2 sec instead of >3 sec). \n"
      ],
      "id": "181fc7f7"
    },
    {
      "cell_type": "code",
      "metadata": {},
      "source": [
        "#| code-fold: false\n",
        "\n",
        "using Downloads, CSV, DataFrames\n",
        "using Turing, Distributions, SequentialSamplingModels\n",
        "using CairoMakie\n",
        "\n",
        "df = CSV.read(Downloads.download(\"https://raw.githubusercontent.com/DominiqueMakowski/CognitiveModels/main/data/wagenmakers2008.csv\"), DataFrame)\n",
        "first(df, 10)"
      ],
      "id": "f278596d",
      "execution_count": null,
      "outputs": []
    },
    {
      "cell_type": "markdown",
      "metadata": {},
      "source": [
        "We create a new column, `Accuracy`, which is the \"binarization\" of the `Condition` column, and is equal to 1 when the condition is `\"Accuracy\"` and 0 when it is `\"Speed\"`.\n"
      ],
      "id": "5de12d52"
    },
    {
      "cell_type": "code",
      "metadata": {},
      "source": [
        "#| output: false\n",
        "\n",
        "df = df[df.Error .== 0, :]\n",
        "df.Accuracy = df.Condition .== \"Accuracy\""
      ],
      "id": "735bdb12",
      "execution_count": null,
      "outputs": []
    },
    {
      "cell_type": "markdown",
      "metadata": {},
      "source": [
        "::: {.callout-tip title=\"Code Tip\"}\n",
        "Note the usage of *vectorization* `.==` as we want to compare each element of the `Condition` vector to the target `\"Accuracy\"`.\n",
        ":::\n"
      ],
      "id": "eda6ee79"
    },
    {
      "cell_type": "code",
      "metadata": {},
      "source": [
        "function plot_distribution(df, title=\"Empirical Distribution of Data from Wagenmakers et al. (2018)\")\n",
        "    fig = Figure()\n",
        "    ax = Axis(fig[1, 1], title=title,\n",
        "        xlabel=\"RT (s)\",\n",
        "        ylabel=\"Distribution\",\n",
        "        yticksvisible=false,\n",
        "        xticksvisible=false,\n",
        "        yticklabelsvisible=false)\n",
        "    CairoMakie.density!(df[df.Condition .== \"Speed\", :RT], color=(\"#EF5350\", 0.7), label = \"Speed\")\n",
        "    CairoMakie.density!(df[df.Condition .== \"Accuracy\", :RT], color=(\"#66BB6A\", 0.7), label = \"Accuracy\")\n",
        "    CairoMakie.axislegend(\"Condition\"; position=:rt)\n",
        "    CairoMakie.ylims!(ax, (0, nothing))\n",
        "    return fig\n",
        "end\n",
        "\n",
        "plot_distribution(df, \"Empirical Distribution of Data from Wagenmakers et al. (2018)\")"
      ],
      "id": "154f0693",
      "execution_count": null,
      "outputs": []
    },
    {
      "cell_type": "markdown",
      "metadata": {},
      "source": [
        "## Descriptive Models \n",
        "\n",
        "### Bayesian Linear Models\n",
        "\n",
        "#### The Model\n"
      ],
      "id": "2925b53c"
    },
    {
      "cell_type": "code",
      "metadata": {},
      "source": [
        "#| code-fold: false\n",
        "\n",
        "@model function model_linear(rt; condition=nothing)\n",
        "\n",
        "    # Set priors on variance, intercept and effect of ISI\n",
        "    σ ~ truncated(Normal(0, 1); lower=0)\n",
        "    intercept ~ truncated(Normal(0, 1); lower=0)\n",
        "    slope_accuracy ~ Normal(0, 0.5)\n",
        "\n",
        "    for i in 1:length(rt)\n",
        "        μ = intercept + slope_accuracy * condition[i]\n",
        "        rt[i] ~ Normal(μ, σ)\n",
        "    end\n",
        "end\n",
        "\n",
        "\n",
        "model = model_linear(df.RT; condition=df.Accuracy)\n",
        "chain_linear = sample(model, NUTS(), 400)\n",
        "\n",
        "# Summary (95% CI)\n",
        "quantile(chain_linear; q=[0.025, 0.975])"
      ],
      "id": "2b028224",
      "execution_count": null,
      "outputs": []
    },
    {
      "cell_type": "markdown",
      "metadata": {},
      "source": [
        "The effect of Condition is significant, people are on average slower (higher RT) when condition is `\"Accuracy\"`.\n",
        "But is our model good?\n",
        "\n",
        "#### Posterior Predictive Check\n"
      ],
      "id": "dc2fd030"
    },
    {
      "cell_type": "code",
      "metadata": {},
      "source": [
        "#| output: false\n",
        "\n",
        "pred = predict(model_linear([(missing) for i in 1:length(df.RT)], condition=df.Accuracy), chain_linear)\n",
        "pred = Array(pred)"
      ],
      "id": "ee21963d",
      "execution_count": null,
      "outputs": []
    },
    {
      "cell_type": "code",
      "metadata": {
        "fig-width": 10,
        "fig-height": 7
      },
      "source": [
        "fig = plot_distribution(df, \"Predictions made by Linear Model\")\n",
        "for i in 1:length(chain_linear)\n",
        "    lines!(Makie.KernelDensity.kde(pred[:, i]), color=ifelse(df.Accuracy[i] == 1, \"#388E3C\", \"#D32F2F\"), alpha=0.1)\n",
        "end\n",
        "fig"
      ],
      "id": "a3580b1c",
      "execution_count": null,
      "outputs": []
    },
    {
      "cell_type": "markdown",
      "metadata": {},
      "source": [
        "#### The Problem with Linear Models\n",
        "\n",
        "Reaction time (RTs) have been traditionally modeled using traditional linear models and their derived statistical tests such as *t*-test and ANOVAs. Importantly, linear models - by definition - will try to predict the *mean* of the outcome variable by estimating the \"best fitting\" *Normal* distribution. In the context of reaction times (RTs), this is not ideal, as RTs typically exhibit a non-normal distribution, skewed towards the left with a long tail towards the right. This means that the parameters of a Normal distribution (mean $\\mu$ and standard deviation $\\sigma$) are not good descriptors of the data.\n",
        "\n",
        "![](media/rt_normal.gif)\n",
        "\n",
        "> Linear models try to find the best fitting Normal distribution for the data. However, for reaction times, even the best fitting Normal distribution (in red) does not capture well the actual data (in grey).\n",
        "\n",
        "A popular mitigation method to account for the non-normality of RTs is to transform the data, using for instance the popular *log-transform*. \n",
        "However, this practice should be avoided as it leads to various issues, including loss of power and distorted results interpretation [@lo2015transform; @schramm2019reaction].\n",
        "Instead, rather than applying arbitrary data transformation, it would be better to swap the Normal distribution used by the model for a more appropriate one that can better capture the characteristics of a RT distribution.\n",
        "\n",
        "\n",
        "### Shifted LogNormal Model\n",
        "\n",
        "One of the obvious candidate alternative to the log-transformation would be to use a model with a Log-transformed Normal distribution.\n",
        "\n",
        "New parameter, $\\tau$ (Tau for delay), which corresponds to the \"starting time\". We need to set a prior for this parameter, which is usually truncated between 0 and the minimum RT of the data (the logic being that the minimum delay for response must be lower than the faster response actually observed).\n"
      ],
      "id": "6ba43ae2"
    },
    {
      "cell_type": "code",
      "metadata": {},
      "source": [
        "xaxis = range(0, 1, 1000)\n",
        "lines(xaxis, pdf.(Gamma(1.1, 11), xaxis))"
      ],
      "id": "c10bc726",
      "execution_count": null,
      "outputs": []
    },
    {
      "cell_type": "markdown",
      "metadata": {},
      "source": [
        "#### Model\n"
      ],
      "id": "051f3482"
    },
    {
      "cell_type": "code",
      "metadata": {},
      "source": [
        "#| code-fold: false\n",
        "\n",
        "@model function model_lognormal(rt; min_rt=minimum(df.RT), condition=nothing)\n",
        "\n",
        "    # Priors \n",
        "    σ ~ truncated(Normal(0, 0.5); lower=0)\n",
        "    τ ~ truncated(Gamma(1.1, 11); upper=min_rt)\n",
        "\n",
        "    intercept ~ Normal(0, 2)\n",
        "    slope_accuracy ~ Normal(0, 0.5)\n",
        "\n",
        "    for i in 1:length(rt)\n",
        "        μ = intercept + slope_accuracy * condition[i]\n",
        "        rt[i] ~ ShiftedLogNormal(μ, σ, τ)\n",
        "    end\n",
        "end\n",
        "\n",
        "model = model_lognormal(df.RT; condition=df.Accuracy)\n",
        "chain_lognormal = sample(model, NUTS(), 400)\n",
        "\n",
        "# Summary (95% CI)\n",
        "quantile(chain_lognormal; q=[0.025, 0.975])"
      ],
      "id": "b0c35107",
      "execution_count": null,
      "outputs": []
    },
    {
      "cell_type": "code",
      "metadata": {},
      "source": [
        "#| output: false\n",
        "\n",
        "# pred = predict(model_lognormal([(missing) for i in 1:length(df.RT)]; condition=df.Accuracy), chain_lognormal)\n",
        "# pred = Array(pred)"
      ],
      "id": "93a7c1a3",
      "execution_count": null,
      "outputs": []
    },
    {
      "cell_type": "code",
      "metadata": {
        "fig-width": 10,
        "fig-height": 7
      },
      "source": [
        "# fig = plot_distribution(df, \"Predictions made by Shifted LogNormal Model\")\n",
        "# for i in 1:length(chain_lognormal)\n",
        "#     lines!(Makie.KernelDensity.kde(pred[:, i]), color=ifelse(df.Accuracy[i] == 1, \"#388E3C\", \"#D32F2F\"), alpha=0.1)\n",
        "# end\n",
        "# fig"
      ],
      "id": "95be3843",
      "execution_count": null,
      "outputs": []
    },
    {
      "cell_type": "markdown",
      "metadata": {},
      "source": [
        "#### More Conditional Parameters\n",
        "\n",
        "\n",
        "\n",
        "### ExGaussian Model\n",
        "\n",
        "\n",
        "- [**Ex-Gaussian models in R: A Tutorial**](https://dominiquemakowski.github.io/easyRT/articles/exgaussian.html)\n",
        "\n",
        "### Wald Model\n",
        "\n",
        "Moe from statistical models that *describe* to models that *generate* RT-like data.\n",
        "\n",
        "## Generative Models (DDM)\n",
        "\n",
        "Use DDM as a case study to introduce generative models\n",
        "\n",
        "- [**Drift Diffusion Model (DDM) in R: A Tutorial**](https://dominiquemakowski.github.io/easyRT/articles/ddm.html)\n",
        "\n",
        "## Other Models (LBA, LNR)\n",
        "\n",
        "\n",
        "## Additional Resources\n",
        "\n",
        "- [**Lindelov's overview of RT models**](https://lindeloev.github.io/shiny-rt/): An absolute must-read.\n",
        "- [**De Boeck & Jeon (2019)**](https://www.frontiersin.org/articles/10.3389/fpsyg.2019.00102/full): A paper providing an overview of RT models.\n",
        "- [https://github.com/vasishth/bayescogsci](https://github.com/vasishth/bayescogsci)"
      ],
      "id": "f00c82c6"
    }
  ],
  "metadata": {
    "kernelspec": {
      "name": "julia-1.10",
      "language": "julia",
      "display_name": "Julia 1.10.2"
    }
  },
  "nbformat": 4,
  "nbformat_minor": 5
}