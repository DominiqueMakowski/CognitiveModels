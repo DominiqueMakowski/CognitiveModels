{
 "cells": [
  {
   "cell_type": "code",
   "execution_count": 1,
   "id": "18b051f2",
   "metadata": {},
   "outputs": [
    {
     "name": "stderr",
     "output_type": "stream",
     "text": [
      "\u001b[36m\u001b[1m[ \u001b[22m\u001b[39m\u001b[36m\u001b[1mInfo: \u001b[22m\u001b[39mPrecompiling CairoMakie [13f3f980-e62b-5c42-98c6-ff1f3baf88f0]\n"
     ]
    },
    {
     "name": "stderr",
     "output_type": "stream",
     "text": [
      "\u001b[91m\u001b[1mERROR: \u001b[22m\u001b[39mLoadError: "
     ]
    },
    {
     "name": "stderr",
     "output_type": "stream",
     "text": [
      "MethodError: no method matching to_rotation(::Nothing)\n",
      "\n",
      "\u001b[0mClosest candidates are:\n",
      "\u001b[0m  to_rotation(\u001b[91m::Makie.Quaternionf\u001b[39m)\n",
      "\u001b[0m\u001b[90m   @\u001b[39m \u001b[35mMakie\u001b[39m \u001b[90mC:\\Users\\domma\\.julia\\packages\\Makie\\rEu75\\src\\\u001b[39m\u001b[90m\u001b[4mconversions.jl:1245\u001b[24m\u001b[39m\n",
      "\u001b[0m  to_rotation(\u001b[91m::Tuple{Union{Tuple{Vararg{T, N}}, StaticArraysCore.StaticArray{Tuple{N}, T, 1}} where {N, T}, Number}\u001b[39m)\n",
      "\u001b[0m\u001b[90m   @\u001b[39m \u001b[35mMakie\u001b[39m \u001b[90mC:\\Users\\domma\\.julia\\packages\\Makie\\rEu75\\src\\\u001b[39m\u001b[90m\u001b[4mconversions.jl:1260\u001b[24m\u001b[39m\n",
      "\u001b[0m  to_rotation(\u001b[91m::Union{Tuple{Vararg{T, N}}, StaticArraysCore.StaticArray{Tuple{N}, T, 1}} where T\u001b[39m) where N\n",
      "\u001b[0m\u001b[90m   @\u001b[39m \u001b[35mMakie\u001b[39m \u001b[90mC:\\Users\\domma\\.julia\\packages\\Makie\\rEu75\\src\\\u001b[39m\u001b[90m\u001b[4mconversions.jl:1248\u001b[24m\u001b[39m\n",
      "\u001b[0m  ...\n",
      "\n",
      "Stacktrace:\n",
      "  [1] \u001b[0m\u001b[1mto_2d_rotation\u001b[22m\u001b[0m\u001b[1m(\u001b[22m\u001b[90mx\u001b[39m::\u001b[0mNothing\u001b[0m\u001b[1m)\u001b[22m\n",
      "\u001b[90m    @\u001b[39m \u001b[36mCairoMakie\u001b[39m \u001b[90mC:\\Users\\domma\\.julia\\packages\\CairoMakie\\W0SZK\\src\\\u001b[39m\u001b[90m\u001b[4mutils.jl:76\u001b[24m\u001b[39m\n",
      "  [2] \u001b[0m\u001b[1mdraw_marker\u001b[22m\u001b[0m\u001b[1m(\u001b[22m\u001b[90mctx\u001b[39m::\u001b[0mCairo.CairoContext, \u001b[90mbeziermarker\u001b[39m::\u001b[0mMakie.BezierPath, \u001b[90mpos\u001b[39m::\u001b[0mGeometryBasics.Vec\u001b[90m{2, Float32}\u001b[39m, \u001b[90mscale\u001b[39m::\u001b[0mGeometryBasics.Vec\u001b[90m{2, Float32}\u001b[39m, \u001b[90mstrokecolor\u001b[39m::\u001b[0mColorTypes.RGBA\u001b[90m{Float32}\u001b[39m, \u001b[90mstrokewidth\u001b[39m::\u001b[0mFloat32, \u001b[90mmarker_offset\u001b[39m::\u001b[0mGeometryBasics.Vec\u001b[90m{2, Float32}\u001b[39m, \u001b[90mrotation\u001b[39m::\u001b[0mNothing\u001b[0m\u001b[1m)\u001b[22m\n",
      "\u001b[90m    @\u001b[39m \u001b[36mCairoMakie\u001b[39m \u001b[90mC:\\Users\\domma\\.julia\\packages\\CairoMakie\\W0SZK\\src\\\u001b[39m\u001b[90m\u001b[4mprimitives.jl:434\u001b[24m\u001b[39m\n",
      "  [3] \u001b[0m\u001b[1m(::CairoMakie.var\"#27#28\"{Makie.Scene, Cairo.CairoContext, Tuple{typeof(identity), typeof(identity)}, StaticArraysCore.SMatrix{4, 4, Float64, 16}, StaticArraysCore.SMatrix{4, 4, Float32, 16}, FreeTypeAbstraction.FTFont, Symbol, Symbol})\u001b[22m\u001b[0m\u001b[1m(\u001b[22m\u001b[90mpoint\u001b[39m::\u001b[0mGeometryBasics.Point\u001b[90m{2, Float64}\u001b[39m, \u001b[90mcol\u001b[39m::\u001b[0mColorTypes.RGBA\u001b[90m{Float32}\u001b[39m, \u001b[90mmarkersize\u001b[39m::\u001b[0mGeometryBasics.Vec\u001b[90m{2, Float32}\u001b[39m, \u001b[90mstrokecolor\u001b[39m::\u001b[0mColorTypes.RGBA\u001b[90m{Float32}\u001b[39m, \u001b[90mstrokewidth\u001b[39m::\u001b[0mFloat32, \u001b[90mm\u001b[39m::\u001b[0mMakie.BezierPath, \u001b[90mmo\u001b[39m::\u001b[0mGeometryBasics.Vec\u001b[90m{2, Float32}\u001b[39m, \u001b[90mrotation\u001b[39m::\u001b[0mNothing\u001b[0m\u001b[1m)\u001b[22m\n",
      "\u001b[90m    @\u001b[39m \u001b[36mCairoMakie\u001b[39m \u001b[90mC:\\Users\\domma\\.julia\\packages\\CairoMakie\\W0SZK\\src\\\u001b[39m\u001b[90m\u001b[4mprimitives.jl:337\u001b[24m\u001b[39m\n",
      "  [4] \u001b[0m\u001b[1mmacro expansion\u001b[22m\n",
      "\u001b[90m    @\u001b[39m \u001b[90mC:\\Users\\domma\\.julia\\packages\\Makie\\rEu75\\src\\utilities\\\u001b[39m\u001b[90m\u001b[4mutilities.jl:213\u001b[24m\u001b[39m\u001b[90m [inlined]\u001b[39m\n",
      "  [5] \u001b[0m\u001b[1mbroadcast_foreach\u001b[22m\u001b[0m\u001b[1m(\u001b[22m::\u001b[0mCairoMakie.var\"#27#28\"\u001b[90m{Makie.Scene, Cairo.CairoContext, Tuple{typeof(identity), typeof(identity)}, StaticArraysCore.SMatrix{4, 4, Float64, 16}, StaticArraysCore.SMatrix{4, 4, Float32, 16}, FreeTypeAbstraction.FTFont, Symbol, Symbol}\u001b[39m, ::\u001b[0mVector\u001b[90m{GeometryBasics.Point{2, Float64}}\u001b[39m, ::\u001b[0mVector\u001b[90m{ColorTypes.RGBA{Float32}}\u001b[39m, ::\u001b[0mGeometryBasics.Vec\u001b[90m{2, Float32}\u001b[39m, ::\u001b[0mColorTypes.RGBA\u001b[90m{Float32}\u001b[39m, ::\u001b[0mFloat32, ::\u001b[0mMakie.BezierPath, ::\u001b[0mGeometryBasics.Vec\u001b[90m{2, Float32}\u001b[39m, ::\u001b[0mNothing\u001b[0m\u001b[1m)\u001b[22m\n",
      "\u001b[90m    @\u001b[39m \u001b[35mMakie\u001b[39m \u001b[90mC:\\Users\\domma\\.julia\\packages\\Makie\\rEu75\\src\\utilities\\\u001b[39m\u001b[90m\u001b[4mutilities.jl:199\u001b[24m\u001b[39m\n",
      "  [6] \u001b[0m\u001b[1mdraw_atomic_scatter\u001b[22m\u001b[0m\u001b[1m(\u001b[22m\u001b[90mscene\u001b[39m::\u001b[0mMakie.Scene, \u001b[90mctx\u001b[39m::\u001b[0mCairo.CairoContext, \u001b[90mtransfunc\u001b[39m::\u001b[0mTuple\u001b[90m{typeof(identity), typeof(identity)}\u001b[39m, \u001b[90mcolors\u001b[39m::\u001b[0mVector\u001b[90m{ColorTypes.RGBA{Float32}}\u001b[39m, \u001b[90mmarkersize\u001b[39m::\u001b[0mGeometryBasics.Vec\u001b[90m{2, Float32}\u001b[39m, \u001b[90mstrokecolor\u001b[39m::\u001b[0mColorTypes.RGBA\u001b[90m{Float32}\u001b[39m, \u001b[90mstrokewidth\u001b[39m::\u001b[0mFloat32, \u001b[90mmarker\u001b[39m::\u001b[0mMakie.BezierPath, \u001b[90mmarker_offset\u001b[39m::\u001b[0mGeometryBasics.Vec\u001b[90m{2, Float32}\u001b[39m, \u001b[90mrotations\u001b[39m::\u001b[0mNothing, \u001b[90mmodel\u001b[39m::\u001b[0mStaticArraysCore.SMatrix\u001b[90m{4, 4, Float64, 16}\u001b[39m, \u001b[90mpositions\u001b[39m::\u001b[0mVector\u001b[90m{GeometryBasics.Point{2, Float64}}\u001b[39m, \u001b[90msize_model\u001b[39m::\u001b[0mStaticArraysCore.SMatrix\u001b[90m{4, 4, Float32, 16}\u001b[39m, \u001b[90mfont\u001b[39m::\u001b[0mFreeTypeAbstraction.FTFont, \u001b[90mmarkerspace\u001b[39m::\u001b[0mSymbol, \u001b[90mspace\u001b[39m::\u001b[0mSymbol\u001b[0m\u001b[1m)\u001b[22m\n",
      "\u001b[90m    @\u001b[39m \u001b[36mCairoMakie\u001b[39m \u001b[90mC:\\Users\\domma\\.julia\\packages\\CairoMakie\\W0SZK\\src\\\u001b[39m\u001b[90m\u001b[4mprimitives.jl:317\u001b[24m\u001b[39m\n",
      "  [7] \u001b[0m\u001b[1mdraw_atomic\u001b[22m\u001b[0m\u001b[1m(\u001b[22m\u001b[90mscene\u001b[39m::\u001b[0mMakie.Scene, \u001b[90mscreen\u001b[39m::\u001b[0mCairoMakie.Screen\u001b[90m{CairoMakie.IMAGE}\u001b[39m, \u001b[90mprimitive\u001b[39m::\u001b[0mMakieCore.Scatter\u001b[0m\u001b[1m)\u001b[22m\n",
      "\u001b[90m    @\u001b[39m \u001b[36mCairoMakie\u001b[39m \u001b[90mC:\\Users\\domma\\.julia\\packages\\CairoMakie\\W0SZK\\src\\\u001b[39m\u001b[90m\u001b[4mprimitives.jl:311\u001b[24m\u001b[39m\n",
      "  [8] \u001b[0m\u001b[1mdraw_plot\u001b[22m\u001b[0m\u001b[1m(\u001b[22m\u001b[90mscene\u001b[39m::\u001b[0mMakie.Scene, \u001b[90mscreen\u001b[39m::\u001b[0mCairoMakie.Screen\u001b[90m{CairoMakie.IMAGE}\u001b[39m, \u001b[90mprimitive\u001b[39m::\u001b[0mMakieCore.Scatter\u001b[90m{Tuple{Vector{GeometryBasics.Point{2, Float64}}}}\u001b[39m\u001b[0m\u001b[1m)\u001b[22m\n",
      "\u001b[90m    @\u001b[39m \u001b[36mCairoMakie\u001b[39m \u001b[90mC:\\Users\\domma\\.julia\\packages\\CairoMakie\\W0SZK\\src\\\u001b[39m\u001b[90m\u001b[4minfrastructure.jl:129\u001b[24m\u001b[39m\n",
      "  [9] \u001b[0m\u001b[1mcairo_draw\u001b[22m\u001b[0m\u001b[1m(\u001b[22m\u001b[90mscreen\u001b[39m::\u001b[0mCairoMakie.Screen\u001b[90m{CairoMakie.IMAGE}\u001b[39m, \u001b[90mscene\u001b[39m::\u001b[0mMakie.Scene\u001b[0m\u001b[1m)\u001b[22m\n",
      "\u001b[90m    @\u001b[39m \u001b[36mCairoMakie\u001b[39m \u001b[90mC:\\Users\\domma\\.julia\\packages\\CairoMakie\\W0SZK\\src\\\u001b[39m\u001b[90m\u001b[4minfrastructure.jl:51\u001b[24m\u001b[39m\n",
      " [10] \u001b[0m\u001b[1mcolorbuffer\u001b[22m\u001b[0m\u001b[1m(\u001b[22m\u001b[90mscreen\u001b[39m::\u001b[0mCairoMakie.Screen\u001b[90m{CairoMakie.IMAGE}\u001b[39m\u001b[0m\u001b[1m)\u001b[22m\n",
      "\u001b[90m    @\u001b[39m \u001b[36mCairoMakie\u001b[39m \u001b[90mC:\\Users\\domma\\.julia\\packages\\CairoMakie\\W0SZK\\src\\\u001b[39m\u001b[90m\u001b[4mscreen.jl:311\u001b[24m\u001b[39m\n",
      " [11] \u001b[0m\u001b[1mcolorbuffer\u001b[22m\u001b[0m\u001b[1m(\u001b[22m\u001b[90mscreen\u001b[39m::\u001b[0mCairoMakie.Screen\u001b[90m{CairoMakie.IMAGE}\u001b[39m, \u001b[90mformat\u001b[39m::\u001b[0mMakie.ImageStorageFormat\u001b[0m\u001b[1m)\u001b[22m\n",
      "\u001b[90m    @\u001b[39m \u001b[35mMakie\u001b[39m \u001b[90mC:\\Users\\domma\\.julia\\packages\\Makie\\rEu75\\src\\\u001b[39m\u001b[90m\u001b[4mdisplay.jl:382\u001b[24m\u001b[39m\n",
      " [12] \u001b[0m\u001b[1mcolorbuffer\u001b[22m\u001b[0m\u001b[1m(\u001b[22m\u001b[90mfig\u001b[39m::\u001b[0mMakie.FigureAxisPlot, \u001b[90mformat\u001b[39m::\u001b[0mMakie.ImageStorageFormat; \u001b[90mupdate\u001b[39m::\u001b[0mBool, \u001b[90mbackend\u001b[39m::\u001b[0mModule, \u001b[90mscreen_config\u001b[39m::\u001b[0m@Kwargs\u001b[90m{}\u001b[39m\u001b[0m\u001b[1m)\u001b[22m\n",
      "\u001b[90m    @\u001b[39m \u001b[35mMakie\u001b[39m \u001b[90mC:\\Users\\domma\\.julia\\packages\\Makie\\rEu75\\src\\\u001b[39m\u001b[90m\u001b[4mdisplay.jl:466\u001b[24m\u001b[39m\n",
      " [13] \u001b[0m\u001b[1mcolorbuffer\u001b[22m\n",
      "\u001b[90m    @\u001b[39m \u001b[90mC:\\Users\\domma\\.julia\\packages\\Makie\\rEu75\\src\\\u001b[39m\u001b[90m\u001b[4mdisplay.jl:457\u001b[24m\u001b[39m\u001b[90m [inlined]\u001b[39m\n",
      " [14] \u001b[0m\u001b[1mcolorbuffer\u001b[22m\u001b[0m\u001b[1m(\u001b[22m\u001b[90mfig\u001b[39m::\u001b[0mMakie.FigureAxisPlot\u001b[0m\u001b[1m)\u001b[22m\n",
      "\u001b[90m    @\u001b[39m \u001b[35mMakie\u001b[39m \u001b[90mC:\\Users\\domma\\.julia\\packages\\Makie\\rEu75\\src\\\u001b[39m\u001b[90m\u001b[4mdisplay.jl:457\u001b[24m\u001b[39m\n",
      " [15] top-level scope\n",
      "\u001b[90m    @\u001b[39m \u001b[90mC:\\Users\\domma\\.julia\\packages\\Makie\\rEu75\\precompile\\\u001b[39m\u001b[90m\u001b[4mshared-precompile.jl:6\u001b[24m\u001b[39m\n",
      " [16] \u001b[0m\u001b[1minclude\u001b[22m\u001b[0m\u001b[1m(\u001b[22m\u001b[90mmod\u001b[39m::\u001b[0mModule, \u001b[90m_path\u001b[39m::\u001b[0mString\u001b[0m\u001b[1m)\u001b[22m\n",
      "\u001b[90m    @\u001b[39m \u001b[90mBase\u001b[39m \u001b[90m.\\\u001b[39m\u001b[90m\u001b[4mBase.jl:495\u001b[24m\u001b[39m\n",
      " [17] \u001b[0m\u001b[1minclude\u001b[22m\n",
      "\u001b[90m    @\u001b[39m \u001b[90mC:\\Users\\domma\\.julia\\packages\\CairoMakie\\W0SZK\\src\\\u001b[39m\u001b[90m\u001b[4mCairoMakie.jl:1\u001b[24m\u001b[39m\u001b[90m [inlined]\u001b[39m\n",
      " [18] \u001b[0m\u001b[1mmacro expansion\u001b[22m\n",
      "\u001b[90m    @\u001b[39m \u001b[90mC:\\Users\\domma\\.julia\\packages\\CairoMakie\\W0SZK\\src\\\u001b[39m\u001b[90m\u001b[4mprecompiles.jl:15\u001b[24m\u001b[39m\u001b[90m [inlined]\u001b[39m\n",
      " [19] \u001b[0m\u001b[1mmacro expansion\u001b[22m\n",
      "\u001b[90m    @\u001b[39m \u001b[90mC:\\Users\\domma\\.julia\\packages\\PrecompileTools\\L8A3n\\src\\\u001b[39m\u001b[90m\u001b[4mworkloads.jl:78\u001b[24m\u001b[39m\u001b[90m [inlined]\u001b[39m\n",
      " [20] top-level scope\n",
      "\u001b[90m    @\u001b[39m \u001b[90mC:\\Users\\domma\\.julia\\packages\\CairoMakie\\W0SZK\\src\\\u001b[39m\u001b[90m\u001b[4mprecompiles.jl:11\u001b[24m\u001b[39m\n",
      " [21] \u001b[0m\u001b[1minclude\u001b[22m\u001b[0m\u001b[1m(\u001b[22m\u001b[90mmod\u001b[39m::\u001b[0mModule, \u001b[90m_path\u001b[39m::\u001b[0mString\u001b[0m\u001b[1m)\u001b[22m\n",
      "\u001b[90m    @\u001b[39m \u001b[90mBase\u001b[39m \u001b[90m.\\\u001b[39m\u001b[90m\u001b[4mBase.jl:495\u001b[24m\u001b[39m\n",
      " [22] \u001b[0m\u001b[1minclude\u001b[22m\u001b[0m\u001b[1m(\u001b[22m\u001b[90mx\u001b[39m::\u001b[0mString\u001b[0m\u001b[1m)\u001b[22m\n",
      "\u001b[90m    @\u001b[39m \u001b[36mCairoMakie\u001b[39m \u001b[90mC:\\Users\\domma\\.julia\\packages\\CairoMakie\\W0SZK\\src\\\u001b[39m\u001b[90m\u001b[4mCairoMakie.jl:1\u001b[24m\u001b[39m\n",
      " [23] top-level scope\n",
      "\u001b[90m    @\u001b[39m \u001b[90mC:\\Users\\domma\\.julia\\packages\\CairoMakie\\W0SZK\\src\\\u001b[39m\u001b[90m\u001b[4mCairoMakie.jl:36\u001b[24m\u001b[39m\n",
      " [24] \u001b[0m\u001b[1minclude\u001b[22m\n",
      "\u001b[90m    @\u001b[39m \u001b[90m.\\\u001b[39m\u001b[90m\u001b[4mBase.jl:495\u001b[24m\u001b[39m\u001b[90m [inlined]\u001b[39m\n",
      " [25] \u001b[0m\u001b[1minclude_package_for_output\u001b[22m\u001b[0m\u001b[1m(\u001b[22m\u001b[90mpkg\u001b[39m::\u001b[0mBase.PkgId, \u001b[90minput\u001b[39m::\u001b[0mString, \u001b[90mdepot_path\u001b[39m::\u001b[0mVector\u001b[90m{String}\u001b[39m, \u001b[90mdl_load_path\u001b[39m::\u001b[0mVector\u001b[90m{String}\u001b[39m, \u001b[90mload_path\u001b[39m::\u001b[0mVector\u001b[90m{String}\u001b[39m, \u001b[90mconcrete_deps\u001b[39m::\u001b[0mVector\u001b[90m{Pair{Base.PkgId, UInt128}}\u001b[39m, \u001b[90msource\u001b[39m::\u001b[0mNothing\u001b[0m\u001b[1m)\u001b[22m\n",
      "\u001b[90m    @\u001b[39m \u001b[90mBase\u001b[39m \u001b[90m.\\\u001b[39m\u001b[90m\u001b[4mloading.jl:2222\u001b[24m\u001b[39m\n",
      " [26] top-level scope\n",
      "\u001b[90m    @\u001b[39m \u001b[90m\u001b[4mstdin:3\u001b[24m\u001b[39m\n",
      "in expression starting at C:\\Users\\domma\\.julia\\packages\\Makie\\rEu75\\precompile\\shared-precompile.jl:4\n",
      "in expression starting at C:\\Users\\domma\\.julia\\packages\\CairoMakie\\W0SZK\\src\\precompiles.jl:10\n",
      "in expression starting at C:\\Users\\domma\\.julia\\packages\\CairoMakie\\W0SZK\\src\\CairoMakie.jl:1\n",
      "in expression starting at stdin:3\n"
     ]
    }
   ],
   "source": [
    "import IJulia\n",
    "\n",
    "# The julia kernel has built in support for Revise.jl, so this is the \n",
    "# recommended approach for long-running sessions:\n",
    "# https://github.com/JuliaLang/IJulia.jl/blob/9b10fa9b879574bbf720f5285029e07758e50a5e/src/kernel.jl#L46-L51\n",
    "\n",
    "# Users should enable revise within .julia/config/startup_ijulia.jl:\n",
    "# https://timholy.github.io/Revise.jl/stable/config/#Using-Revise-automatically-within-Jupyter/IJulia-1\n",
    "\n",
    "# clear console history\n",
    "IJulia.clear_history()\n",
    "\n",
    "fig_width = 7\n",
    "fig_height = 5\n",
    "fig_format = :retina\n",
    "fig_dpi = 96\n",
    "\n",
    "# no retina format type, use svg for high quality type/marks\n",
    "if fig_format == :retina\n",
    "  fig_format = :svg\n",
    "elseif fig_format == :pdf\n",
    "  fig_dpi = 96\n",
    "  # Enable PDF support for IJulia\n",
    "  IJulia.register_mime(MIME(\"application/pdf\"))\n",
    "end\n",
    "\n",
    "# convert inches to pixels\n",
    "fig_width = fig_width * fig_dpi\n",
    "fig_height = fig_height * fig_dpi\n",
    "\n",
    "# Intialize Plots w/ default fig width/height\n",
    "try\n",
    "  import Plots\n",
    "\n",
    "  # Plots.jl doesn't support PDF output for versions < 1.28.1\n",
    "  # so use png (if the DPI remains the default of 300 then set to 96)\n",
    "  if (Plots._current_plots_version < v\"1.28.1\") & (fig_format == :pdf)\n",
    "    Plots.gr(size=(fig_width, fig_height), fmt = :png, dpi = fig_dpi)\n",
    "  else\n",
    "    Plots.gr(size=(fig_width, fig_height), fmt = fig_format, dpi = fig_dpi)\n",
    "  end\n",
    "catch e\n",
    "  # @warn \"Plots init\" exception=(e, catch_backtrace())\n",
    "end\n",
    "\n",
    "# Initialize CairoMakie with default fig width/height\n",
    "try\n",
    "  import CairoMakie\n",
    "\n",
    "  # CairoMakie's display() in PDF format opens an interactive window\n",
    "  # instead of saving to the ipynb file, so we don't do that.\n",
    "  # https://github.com/quarto-dev/quarto-cli/issues/7548\n",
    "  if fig_format == :pdf\n",
    "    CairoMakie.activate!(type = \"png\")\n",
    "  else\n",
    "    CairoMakie.activate!(type = string(fig_format))\n",
    "  end\n",
    "  CairoMakie.update_theme!(resolution=(fig_width, fig_height))\n",
    "catch e\n",
    "    # @warn \"CairoMakie init\" exception=(e, catch_backtrace())\n",
    "end\n",
    "  \n",
    "# Set run_path if specified\n",
    "try\n",
    "  run_path = raw\"C:\\Users\\domma\\Dropbox\\Software\\CognitiveModels\\content\"\n",
    "  if !isempty(run_path)\n",
    "    cd(run_path)\n",
    "  end\n",
    "catch e\n",
    "  @warn \"Run path init:\" exception=(e, catch_backtrace())\n",
    "end\n",
    "\n",
    "\n",
    "# emulate old Pkg.installed beahvior, see\n",
    "# https://discourse.julialang.org/t/how-to-use-pkg-dependencies-instead-of-pkg-installed/36416/9\n",
    "import Pkg\n",
    "function isinstalled(pkg::String)\n",
    "  any(x -> x.name == pkg && x.is_direct_dep, values(Pkg.dependencies()))\n",
    "end\n",
    "\n",
    "# ojs_define\n",
    "if isinstalled(\"JSON\") && isinstalled(\"DataFrames\")\n",
    "  import JSON, DataFrames\n",
    "  global function ojs_define(; kwargs...)\n",
    "    convert(x) = x\n",
    "    convert(x::DataFrames.AbstractDataFrame) = Tables.rows(x)\n",
    "    content = Dict(\"contents\" => [Dict(\"name\" => k, \"value\" => convert(v)) for (k, v) in kwargs])\n",
    "    tag = \"<script type='ojs-define'>$(JSON.json(content))</script>\"\n",
    "    IJulia.display(MIME(\"text/html\"), tag)\n",
    "  end\n",
    "elseif isinstalled(\"JSON\")\n",
    "  import JSON\n",
    "  global function ojs_define(; kwargs...)\n",
    "    content = Dict(\"contents\" => [Dict(\"name\" => k, \"value\" => v) for (k, v) in kwargs])\n",
    "    tag = \"<script type='ojs-define'>$(JSON.json(content))</script>\"\n",
    "    IJulia.display(MIME(\"text/html\"), tag)\n",
    "  end\n",
    "else\n",
    "  global function ojs_define(; kwargs...)\n",
    "    @warn \"JSON package not available. Please install the JSON.jl package to use ojs_define.\"\n",
    "  end\n",
    "end\n",
    "\n",
    "\n",
    "# don't return kernel dependencies (b/c Revise should take care of dependencies)\n",
    "nothing\n"
   ]
  },
  {
   "cell_type": "code",
   "execution_count": 2,
   "id": "27db495d",
   "metadata": {},
   "outputs": [
    {
     "data": {
      "text/html": [
       "<div><div style = \"float: left;\"><span>10×5 DataFrame</span></div><div style = \"clear: both;\"></div></div><div class = \"data-frame\" style = \"overflow-x: scroll;\"><table class = \"data-frame\" style = \"margin-bottom: 6px;\"><thead><tr class = \"header\"><th class = \"rowNumber\" style = \"font-weight: bold; text-align: right;\">Row</th><th style = \"text-align: left;\">Participant</th><th style = \"text-align: left;\">Condition</th><th style = \"text-align: left;\">RT</th><th style = \"text-align: left;\">Error</th><th style = \"text-align: left;\">Frequency</th></tr><tr class = \"subheader headerLastRow\"><th class = \"rowNumber\" style = \"font-weight: bold; text-align: right;\"></th><th title = \"Int64\" style = \"text-align: left;\">Int64</th><th title = \"String15\" style = \"text-align: left;\">String15</th><th title = \"Float64\" style = \"text-align: left;\">Float64</th><th title = \"Bool\" style = \"text-align: left;\">Bool</th><th title = \"String15\" style = \"text-align: left;\">String15</th></tr></thead><tbody><tr><td class = \"rowNumber\" style = \"font-weight: bold; text-align: right;\">1</td><td style = \"text-align: right;\">1</td><td style = \"text-align: left;\">Speed</td><td style = \"text-align: right;\">0.7</td><td style = \"text-align: right;\">false</td><td style = \"text-align: left;\">Low</td></tr><tr><td class = \"rowNumber\" style = \"font-weight: bold; text-align: right;\">2</td><td style = \"text-align: right;\">1</td><td style = \"text-align: left;\">Speed</td><td style = \"text-align: right;\">0.392</td><td style = \"text-align: right;\">true</td><td style = \"text-align: left;\">Very Low</td></tr><tr><td class = \"rowNumber\" style = \"font-weight: bold; text-align: right;\">3</td><td style = \"text-align: right;\">1</td><td style = \"text-align: left;\">Speed</td><td style = \"text-align: right;\">0.46</td><td style = \"text-align: right;\">false</td><td style = \"text-align: left;\">Very Low</td></tr><tr><td class = \"rowNumber\" style = \"font-weight: bold; text-align: right;\">4</td><td style = \"text-align: right;\">1</td><td style = \"text-align: left;\">Speed</td><td style = \"text-align: right;\">0.455</td><td style = \"text-align: right;\">false</td><td style = \"text-align: left;\">Very Low</td></tr><tr><td class = \"rowNumber\" style = \"font-weight: bold; text-align: right;\">5</td><td style = \"text-align: right;\">1</td><td style = \"text-align: left;\">Speed</td><td style = \"text-align: right;\">0.505</td><td style = \"text-align: right;\">true</td><td style = \"text-align: left;\">Low</td></tr><tr><td class = \"rowNumber\" style = \"font-weight: bold; text-align: right;\">6</td><td style = \"text-align: right;\">1</td><td style = \"text-align: left;\">Speed</td><td style = \"text-align: right;\">0.773</td><td style = \"text-align: right;\">false</td><td style = \"text-align: left;\">High</td></tr><tr><td class = \"rowNumber\" style = \"font-weight: bold; text-align: right;\">7</td><td style = \"text-align: right;\">1</td><td style = \"text-align: left;\">Speed</td><td style = \"text-align: right;\">0.39</td><td style = \"text-align: right;\">false</td><td style = \"text-align: left;\">High</td></tr><tr><td class = \"rowNumber\" style = \"font-weight: bold; text-align: right;\">8</td><td style = \"text-align: right;\">1</td><td style = \"text-align: left;\">Speed</td><td style = \"text-align: right;\">0.587</td><td style = \"text-align: right;\">true</td><td style = \"text-align: left;\">Low</td></tr><tr><td class = \"rowNumber\" style = \"font-weight: bold; text-align: right;\">9</td><td style = \"text-align: right;\">1</td><td style = \"text-align: left;\">Speed</td><td style = \"text-align: right;\">0.603</td><td style = \"text-align: right;\">false</td><td style = \"text-align: left;\">Low</td></tr><tr><td class = \"rowNumber\" style = \"font-weight: bold; text-align: right;\">10</td><td style = \"text-align: right;\">1</td><td style = \"text-align: left;\">Speed</td><td style = \"text-align: right;\">0.435</td><td style = \"text-align: right;\">false</td><td style = \"text-align: left;\">High</td></tr></tbody></table></div>"
      ],
      "text/latex": [
       "\\begin{tabular}{r|ccccc}\n",
       "\t& Participant & Condition & RT & Error & Frequency\\\\\n",
       "\t\\hline\n",
       "\t& Int64 & String15 & Float64 & Bool & String15\\\\\n",
       "\t\\hline\n",
       "\t1 & 1 & Speed & 0.7 & 0 & Low \\\\\n",
       "\t2 & 1 & Speed & 0.392 & 1 & Very Low \\\\\n",
       "\t3 & 1 & Speed & 0.46 & 0 & Very Low \\\\\n",
       "\t4 & 1 & Speed & 0.455 & 0 & Very Low \\\\\n",
       "\t5 & 1 & Speed & 0.505 & 1 & Low \\\\\n",
       "\t6 & 1 & Speed & 0.773 & 0 & High \\\\\n",
       "\t7 & 1 & Speed & 0.39 & 0 & High \\\\\n",
       "\t8 & 1 & Speed & 0.587 & 1 & Low \\\\\n",
       "\t9 & 1 & Speed & 0.603 & 0 & Low \\\\\n",
       "\t10 & 1 & Speed & 0.435 & 0 & High \\\\\n",
       "\\end{tabular}\n"
      ],
      "text/plain": [
       "\u001b[1m10×5 DataFrame\u001b[0m\n",
       "\u001b[1m Row \u001b[0m│\u001b[1m Participant \u001b[0m\u001b[1m Condition \u001b[0m\u001b[1m RT      \u001b[0m\u001b[1m Error \u001b[0m\u001b[1m Frequency \u001b[0m\n",
       "     │\u001b[90m Int64       \u001b[0m\u001b[90m String15  \u001b[0m\u001b[90m Float64 \u001b[0m\u001b[90m Bool  \u001b[0m\u001b[90m String15  \u001b[0m\n",
       "─────┼───────────────────────────────────────────────────\n",
       "   1 │           1  Speed        0.7    false  Low\n",
       "   2 │           1  Speed        0.392   true  Very Low\n",
       "   3 │           1  Speed        0.46   false  Very Low\n",
       "   4 │           1  Speed        0.455  false  Very Low\n",
       "   5 │           1  Speed        0.505   true  Low\n",
       "   6 │           1  Speed        0.773  false  High\n",
       "   7 │           1  Speed        0.39   false  High\n",
       "   8 │           1  Speed        0.587   true  Low\n",
       "   9 │           1  Speed        0.603  false  Low\n",
       "  10 │           1  Speed        0.435  false  High"
      ]
     },
     "execution_count": 2,
     "metadata": {},
     "output_type": "execute_result"
    }
   ],
   "source": [
    "#| code-fold: false\n",
    "\n",
    "using Downloads, CSV, DataFrames, Random\n",
    "using Turing, Distributions, StatsFuns, SubjectiveScalesModels\n",
    "using GLMakie\n",
    "\n",
    "Random.seed!(123)  # For reproducibility\n",
    "\n",
    "df = CSV.read(Downloads.download(\"https://raw.githubusercontent.com/DominiqueMakowski/CognitiveModels/main/data/wagenmakers2008.csv\"), DataFrame)\n",
    "\n",
    "# Show 10 first rows\n",
    "first(df, 10)"
   ]
  },
  {
   "cell_type": "code",
   "execution_count": 3,
   "id": "8ef016c2",
   "metadata": {},
   "outputs": [
    {
     "data": {
      "text/html": [
       "<div><div style = \"float: left;\"><span>2×2 DataFrame</span></div><div style = \"clear: both;\"></div></div><div class = \"data-frame\" style = \"overflow-x: scroll;\"><table class = \"data-frame\" style = \"margin-bottom: 6px;\"><thead><tr class = \"header\"><th class = \"rowNumber\" style = \"font-weight: bold; text-align: right;\">Row</th><th style = \"text-align: left;\">Condition</th><th style = \"text-align: left;\">Error_mean</th></tr><tr class = \"subheader headerLastRow\"><th class = \"rowNumber\" style = \"font-weight: bold; text-align: right;\"></th><th title = \"String15\" style = \"text-align: left;\">String15</th><th title = \"Float64\" style = \"text-align: left;\">Float64</th></tr></thead><tbody><tr><td class = \"rowNumber\" style = \"font-weight: bold; text-align: right;\">1</td><td style = \"text-align: left;\">Speed</td><td style = \"text-align: right;\">0.110407</td></tr><tr><td class = \"rowNumber\" style = \"font-weight: bold; text-align: right;\">2</td><td style = \"text-align: left;\">Accuracy</td><td style = \"text-align: right;\">0.0451463</td></tr></tbody></table></div>"
      ],
      "text/latex": [
       "\\begin{tabular}{r|cc}\n",
       "\t& Condition & Error\\_mean\\\\\n",
       "\t\\hline\n",
       "\t& String15 & Float64\\\\\n",
       "\t\\hline\n",
       "\t1 & Speed & 0.110407 \\\\\n",
       "\t2 & Accuracy & 0.0451463 \\\\\n",
       "\\end{tabular}\n"
      ],
      "text/plain": [
       "\u001b[1m2×2 DataFrame\u001b[0m\n",
       "\u001b[1m Row \u001b[0m│\u001b[1m Condition \u001b[0m\u001b[1m Error_mean \u001b[0m\n",
       "     │\u001b[90m String15  \u001b[0m\u001b[90m Float64    \u001b[0m\n",
       "─────┼───────────────────────\n",
       "   1 │ Speed       0.110407\n",
       "   2 │ Accuracy    0.0451463"
      ]
     },
     "execution_count": 3,
     "metadata": {},
     "output_type": "execute_result"
    }
   ],
   "source": [
    "#| code-fold: false\n",
    "\n",
    "combine(groupby(df, :Condition), :Error => mean)"
   ]
  },
  {
   "cell_type": "code",
   "execution_count": 4,
   "id": "63ca47a6",
   "metadata": {},
   "outputs": [
    {
     "data": {
      "image/png": "[encoded data removed]",
      "text/html": [
       "<img width=600 height=450 style='object-fit: contain; height: auto;' src=\"data:image/png;base64, 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\"/>"
      ]
     },
     "execution_count": 4,
     "metadata": {},
     "output_type": "execute_result"
    }
   ],
   "source": [
    "dat = combine(groupby(df, :Condition), :Error => mean)\n",
    "\n",
    "fig = Figure()\n",
    "ax = Axis(fig[1, 1], ylabel=\"Average error rate\", xticks =([0, 1], [\"Speed\", \"Accuracy\"]))\n",
    "barplot!(ax, [0], [dat.Error_mean[1]], label=\"Speed\", color=:red)\n",
    "barplot!(ax, [1], [dat.Error_mean[2]], label=\"Accuracy\", color=:green)\n",
    "axislegend()\n",
    "fig"
   ]
  },
  {
   "cell_type": "code",
   "execution_count": 5,
   "id": "faf993ed",
   "metadata": {},
   "outputs": [
    {
     "data": {
      "text/plain": [
       "10369-element Vector{Int64}:\n",
       " 0\n",
       " 0\n",
       " 0\n",
       " 0\n",
       " 0\n",
       " 0\n",
       " 0\n",
       " 0\n",
       " 0\n",
       " 0\n",
       " 0\n",
       " 0\n",
       " 0\n",
       " ⋮\n",
       " 1\n",
       " 1\n",
       " 1\n",
       " 1\n",
       " 1\n",
       " 1\n",
       " 1\n",
       " 1\n",
       " 1\n",
       " 1\n",
       " 1\n",
       " 1"
      ]
     },
     "execution_count": 5,
     "metadata": {},
     "output_type": "execute_result"
    }
   ],
   "source": [
    "#| code-fold: false\n",
    "\n",
    "df.Accuracy = ifelse.(df.Condition .== \"Accuracy\", 1, 0)"
   ]
  },
  {
   "cell_type": "code",
   "execution_count": 6,
   "id": "0475c9ba",
   "metadata": {},
   "outputs": [
    {
     "name": "stderr",
     "output_type": "stream",
     "text": [
      "\u001b[36m\u001b[1m┌ \u001b[22m\u001b[39m\u001b[36m\u001b[1mInfo: \u001b[22m\u001b[39mFound initial step size\n",
      "\u001b[36m\u001b[1m└ \u001b[22m\u001b[39m  ϵ = 0.05\n"
     ]
    },
    {
     "name": "stderr",
     "output_type": "stream",
     "text": [
      "\r",
      "\u001b[32mSampling:   7%|███                                      |  ETA: 0:00:01\u001b[39m"
     ]
    },
    {
     "name": "stderr",
     "output_type": "stream",
     "text": [
      "\r",
      "\u001b[32mSampling:  90%|██████████████████████████████████████   |  ETA: 0:00:00\u001b[39m"
     ]
    },
    {
     "name": "stderr",
     "output_type": "stream",
     "text": [
      "\r",
      "\u001b[32mSampling: 100%|█████████████████████████████████████████| Time: 0:00:01\u001b[39m\n"
     ]
    },
    {
     "data": {
      "text/plain": [
       "Chains MCMC chain (500×14×1 Array{Float64, 3}):\n",
       "\n",
       "Iterations        = 251:1:750\n",
       "Number of chains  = 1\n",
       "Samples per chain = 500\n",
       "Wall duration     = 7.26 seconds\n",
       "Compute duration  = 7.26 seconds\n",
       "parameters        = p_intercept, p_condition\n",
       "internals         = lp, n_steps, is_accept, acceptance_rate, log_density, hamiltonian_energy, hamiltonian_energy_error, max_hamiltonian_energy_error, tree_depth, numerical_error, step_size, nom_step_size\n",
       "\n",
       "Summary Statistics\n",
       " \u001b[1m  parameters \u001b[0m \u001b[1m    mean \u001b[0m \u001b[1m     std \u001b[0m \u001b[1m    mcse \u001b[0m \u001b[1m ess_bulk \u001b[0m \u001b[1m ess_tail \u001b[0m \u001b[1m    rhat \u001b[0m \u001b[1m \u001b[0m ⋯\n",
       " \u001b[90m      Symbol \u001b[0m \u001b[90m Float64 \u001b[0m \u001b[90m Float64 \u001b[0m \u001b[90m Float64 \u001b[0m \u001b[90m  Float64 \u001b[0m \u001b[90m  Float64 \u001b[0m \u001b[90m Float64 \u001b[0m \u001b[90m \u001b[0m ⋯\n",
       "\n",
       "  p_intercept   -2.0898    0.0461    0.0027   284.3024   296.8910    1.0042    ⋯\n",
       "  p_condition   -0.9587    0.0804    0.0052   244.7954   267.3729    1.0022    ⋯\n",
       "\u001b[36m                                                                1 column omitted\u001b[0m\n",
       "\n",
       "Quantiles\n",
       " \u001b[1m  parameters \u001b[0m \u001b[1m    2.5% \u001b[0m \u001b[1m   25.0% \u001b[0m \u001b[1m   50.0% \u001b[0m \u001b[1m   75.0% \u001b[0m \u001b[1m   97.5% \u001b[0m\n",
       " \u001b[90m      Symbol \u001b[0m \u001b[90m Float64 \u001b[0m \u001b[90m Float64 \u001b[0m \u001b[90m Float64 \u001b[0m \u001b[90m Float64 \u001b[0m \u001b[90m Float64 \u001b[0m\n",
       "\n",
       "  p_intercept   -2.1801   -2.1224   -2.0882   -2.0595   -2.0019\n",
       "  p_condition   -1.0997   -1.0192   -0.9605   -0.9000   -0.8067\n"
      ]
     },
     "execution_count": 6,
     "metadata": {},
     "output_type": "execute_result"
    }
   ],
   "source": [
    "#| code-fold: false\n",
    "#| output: false\n",
    "\n",
    "@model function model_logistic(y; condition=df.Accuracy)\n",
    "    # Priors\n",
    "    p_intercept ~ Normal(0, 1)\n",
    "    p_condition ~ Normal(0, 1)\n",
    "    \n",
    "    # Likelihood\n",
    "    for i in 1:length(y)\n",
    "        # Linear model equation\n",
    "        p = p_intercept + p_condition * condition[i]\n",
    "        \n",
    "        # Inference\n",
    "        y[i] ~ BernoulliLogit(p)\n",
    "    end\n",
    "end\n",
    "\n",
    "fit_logistic = model_logistic(df.Error, condition=df.Accuracy)\n",
    "posteriors_logistic = sample(fit_logistic, NUTS(), 500)"
   ]
  },
  {
   "cell_type": "code",
   "execution_count": 7,
   "id": "35729348",
   "metadata": {},
   "outputs": [
    {
     "data": {
      "text/plain": [
       "HPD\n",
       " \u001b[1m  parameters \u001b[0m \u001b[1m   lower \u001b[0m \u001b[1m   upper \u001b[0m\n",
       " \u001b[90m      Symbol \u001b[0m \u001b[90m Float64 \u001b[0m \u001b[90m Float64 \u001b[0m\n",
       "\n",
       "  p_intercept   -2.1812   -2.0035\n",
       "  p_condition   -1.0957   -0.8047\n"
      ]
     },
     "execution_count": 7,
     "metadata": {},
     "output_type": "execute_result"
    }
   ],
   "source": [
    "#| code-fold: false\n",
    "\n",
    "# 95% CI\n",
    "hpd(posteriors_logistic)"
   ]
  },
  {
   "cell_type": "code",
   "execution_count": 8,
   "id": "6a7ddf32",
   "metadata": {},
   "outputs": [
    {
     "data": {
      "image/png": "[encoded data removed]",
      "text/html": [
       "<img width=600 height=450 style='object-fit: contain; height: auto;' src=\"data:image/png;base64, iVBORw0KGgoAAAANSUhEUgAAAlgAAAHCCAIAAAC8ESAzAAAABGdBTUEAALGPC/xhBQAAAAFzUkdCAK7OHOkAAAAgY0hSTQAAeiYAAICEAAD6AAAAgOgAAHUwAADqYAAAOpgAABdwnLpRPAAAIABJREFUeAHswQmUnXVh8P/vs9312e4yM3e2zGQmk5ksJCEsMUhqII1iUhGXKqc1AZTWU8/xSGk9PWqxsdYgPVhFhcN5QW05+noARbYoKLKUYMEQ9mQmy0xmMvt27/M8d7937r0vmdPwhz9aFSc0ML/PR63VagiCIAjCYqUiCIIgCIuYiiAIgiAsYiqCIAiCsIipCIIgCMIipiIIgiAIi5iKIAiCICxiKoIgCIKwiKkIgiAIwiKmIgiCIAiLmIogCIIgLGIqgiAIgrCIqQiCIAjCIqYiCIIgCIuYiiAIgiAsYipvX5s3bwY2b96M8Oaq1WqAJEkIwmJVq9UASZIQ3lyPPvoo8Oijj/J7UxGEhVapVEqlUigUQhAWq3w+7/P5VFVFOO2pvH1t3rwZ2LVrF8KbK5/PZzKZuro6BGGxmp6e1nU9GAwivLl27drFH0hFEARBEBYxFUEQBEFYxFQEQRAEYRFTEQRBEE5jL7zwwm233abrOsLrZDKZnTt3rlmzhj+CiiAIgnAau+22255++unNmzcjvM7TTz8NXH/99fwRVARBEITTmK7rmzdv3rVrF8Lr7Nq1iz+aiiAIgiAsYiqCIAiCsIipCIIgCMIipiIIgiC85ZTLFAq8AYEAmobwKiqCIAjCW0u5zOc/j+PwsmSSlw0P84q+Pl7W08MrWlt5WTTKy2yb3bvRNISTVARBEIS3lkIBx+HWW/kf7NvHK/bt4xVXXkmhgKYhnKQiCIIgCIuYiiAIgvCWk0zyxiSTCK+lIgiCICx6mUxm7969/f39oVBo1apVZ599tizLnBp9fX3lcvmMM87g9KAiCKdAJpOpq6tDEIRTZHiYN2Z4mNfp6+u78sorZ2ZmVq1alc1mn3vuufe85z0333xzMBjkFHjsscfuuuuuBx98kNODiiAstFKpNDMzY1lWJBKRJAlBEE5v1157ra7rd911V319PbB///5LLrnkjjvuuOyyy1gEVARhofl8vmg0Ojs7W61Wo9GoLMsIgnC6KpVKzz///GWXXVZfX8+8s8466/zzz3/uuecuu+yyu+++u7GxcWpq6tlnn21oaLjkkksaGhqY19vb++CDD6bT6fXr11900UWKojDviSeeeOyxxyRJ2rx588aNG5k3PT3905/+dHp6es2aNZxmVAThFDBN0+fzzczM1Gq1aDSqKAqCIJyWNE1rbm7+4Q9/uG7durPOOss0TeCHP/wh87797W9v2rTpgQceWLVq1T333PP973//jjvuaGxs/MUvfvFXf/VXZ511Vjwev/XWW9///vd/4xvfkGX529/+9u7du7du3VqpVG644YYvfvGLn/rUp0ZHRz/ykY+k0+nVq1f/4Ac/uPjiizmdqAjCqWFZliRJyWSyWq3GYjFVVREEYaH09fHG9PXxWpIkffnLX77qqqs+8IEP1NXVnXPOORdccMGWLVs6OjqYd//99+/Zs6e+vn5kZGT79u3/8R//cfXVV3/pS1+64oorvvjFL0qS9OSTT37wgx/80Ic+1NbWdt11133zm9/88Ic/DHz/+9//whe+cMkll9xyyy25XO5nP/tZc3PzyMjI9u3bE4kEpw0VQThlTNOUJCmVSk1PT8diMZ/PhyAIp5/169c/9NBDhw8ffuqppx555JFrr712165dN9544yWXXAK8733vq6+vB1paWrZv3/7EE098+MMfPnLkyJe+9KUnnniCecuWLXv++edd1w2FQolEYu/evUBbW1u1Wu3v73/88cc/+MEPNjc3Ay0tLdu3b9+/fz+nDRVBOJUMwwBc152ZmYnFYn6/H0EQ/ng9PezbxxvQ08NrHT169NChQxs2bFg97xOf+MTExMTf/u3fXnvttdu2bQOam5s5KR6Pu66bzWYLhcK1117LSZqmpdNp13Wz2eyuXbs4afny5dls1nGc5uZmTmpra9u/fz+nDRVBOMUMwwA8z5udnY1EIsFgEEEQThuVSuWyyy67//774/E48xKJxLvf/e6vfOUrpVIJOHbsGCcNDg7G43HDMILB4PXXX79u3TqgUqkcOHBA1/WDBw8Gg8E777wzEokA6XT62LFj7e3tDQ0NAwMDnDQwMMDpREUQTj3DMIBMJuM4TrVaDYfDCIJweujo6DjrrLN27dp13XXXdXd3AwMDA9///vc3btyo6zpw5513XnrppStWrNi3b99PfvKTa665ZsmSJWvXrr311lt3796t6/ojjzxy+eWX33fffevXr69Wq7fffvvHP/5x4Ac/+MG3v/3txx9//N3vfvdNN9106aWXrlq1qre39+67725vb+e0oSIIbwrDMIBsNpvJZKrVqmEYCILwhvX18cb09fFamqZ9/etf/7u/+7stW7bEYjHAcZw/+ZM/2b17N/Muu+yyD3/4w7ZtDw8Pb9269WMf+5iqql/5ylc++clPvvOd7zQMY2xs7Oqrrz7zzDOBa6+99h/+4R++853vSJKUSqX+7d/+LRKJXH755Y899tif/dmfdXZ2jo6OXn311XfddRenDRVBOAVyuRyvYxgGkMvl8vl8rVYzDEOSJARBeAO2buWuu3gDtm7ldVauXHnfffcdOnRodHRU07Smpqauri5ZlpnX0NBw7733HjlyJB6Pn3322YqiAGefffYvfvGLZ599NpfLdXd3L1++nHkf+chHNm7ceODAAUmSVq9e3dzcDNi2/cMf/vCJJ56Ymprq6emJxWLnn38+pw0VQVhoc3NzxWLRdV3TNCVJ4lUMwwDy+XypVHJd1zRNWZYRBOF/m6qqq+bxmyyfx2tFo9EtW7bwOq3zeK1AILBlyxZOSyqCsNBUVbUsq1arOY5jmqaiKLyKYRhAoVCoVquO41iWpSgKgiD8QaJR3phoFOG1VAThFJBl2bKsdDqdSqUsy9I0jVcxDKNWq5VKJUVRUqmUZVmapiEIwunna1/7WiAQ4G1NRRBOgWKxKEmSaZrZbDaVSpmmGQgEeBXTND3PK5fLmqY5jmNZls/nQxCE30cggG1z5ZW8LJnkZcPDvKKvj5f19PCK1lZeFo3yMtsmEOD3tnbtWt7uVARhoZXL5XQ6nc1mw/MURfE8r1qthkIhXsU0Tc/z5ubmAoGA4zimaQYCAQRB+J00jd27KRR4AwIBNA3hVVQEYaFpmmZZVj6fr1aruq4HAgFZlj3Pq1Qquq5LksRJpml6nlcul8PhsOu6tVotGAwiCMLvpGloGsJCUBGEU6BQKNTV1aXTadd1TdP0+Xy2bXue57quaZqyLHOSYRjpdLpYLJqmmclkqtVqOBxGEIT/UblaLswV+MMF1IAmawivoiIIC606L51O67qez+dTqZRlWaqq2radTqcdxzFNU1VV5kmSZBhGOp3O5/OGYWQymWq1quu6JEkIgvCblKvlz//y807BAZL5JDDsDnNS30wf0BPv4aRWqxWIBqOAHbB3b9mtyRrCSSqCsNBkWTZN0+fzua5rmma5XE6lUpZl+Xw+0zQzmUwqlbIsy+fzMU+SJMMw0ul0LpczTTOTyXieZ5qmJEkIgvA6hbmCU3BufeZWfrt9Y/s4ad/YPk66cv2VhbmC5tMQTlIRhFNgenp61apViqI4jqPrejgcTqVSpmkGg0HDMBRFSaVSpmkGg0HmSZJkGEY6nc5kMoZhZDIZx3Esy5JlGUEQhFNJRRAWWjabPXjwYDgcXrJkSTQadV3X5/NZluV5XrVaDYfDoVBIURTXdavVajgcZp4kSYZhpOdZlpXJZBzHMU1TVVUEQXitZD7JG5LMJxFeS0UQToFIJHLgwIF8Pr9s2bJIJJJOp3O5nGEYuVyuUqkYhuH3+yORiOd5lUrFMAxJkgBJkgzD8DzPdV3LsnK5nOM4lmVpmoYgCKfY3NxcX18fsHr1ahYTFUFYaKFQKBqN+ny+I0eO5HK5VatWWZaVmRcOh4vFouM4pmlqmmbbtud5juOYpqkoCiBJkmmanue5rmvbtizLjuOYpun3+xEE4aRhd5g3ZNgd5rd45plntmzZYtv2k08+2dzczKKhIggLrVAoDA4Orpx34MCBbDZ75plnGoahqqrnebquVyoVx3FM09Q0zbbtdDrtOI5pmpqmAZIkmabpeZ7jOLZty7LsOI5lWYFAAEEQTpl77713zZo1AwMDjzzyyMc+9jEWDRVBWGiyLM/NzQ0MDLS0tJx55pkHDhz49a9/vW7dumg0qiiK53m+eY7jmKbp9/tN08xms6lUyrIsv98PSJJkmqbnea7rWvM8z6tWq6FQCEEQToFMJnPfffft2LFj//79d91118c+9jFO6u/v37Nnj+u6Z5xxxvbt2zVNA/r7+/fs2eO67hlnnLF9+3ZN0+655x5Jki6++GKgVqvdc8898Xj8/PPPv/fee1taWoaGhg4cOPCP//iPnuft2bPn6NGjPp9vw4YNmzdvZl4ymbz33nuHh4eXLFnyvve9T9O0hx56aOnSpevWrQOq1eo999wTDAYvuugiFpqKICy0arVqGAYwNDSUz+fXrVt3+PDhp556avXq1U1NTZFIxPM8IBgMOo5jmmYwGAyHw7IsO45jGEYoFAIkSTJN0/M813Uty7Jt23XdarWq6zqCICy0J598cmJiYtu2bS0tLZ/+9Kf7+/s7OzuBp556aseOHStWrEgkEt/73vceeeSRG2644amnntqxY8eKFSsSicT3vve9Rx555IYbbvjlL385Nzd38cUXA9Vq9V/+5V8+97nP1Wq166677tJLL/3mN7+5atWqubm5nTt3DgwMnH/++alU6rrrrrvhhht27NgxOTn50Y9+dG5ubt26dffdd98PfvCDO++885Zbbjn77LPXrVsHHDhw4FOf+tSePXs4BVQEYaEFg8GOjo5cLjc1NTU+Pl4qlZYvXz48PPzcc89lMplly5bZtp3JZPL5fCgUymQylUpF1/VgMKgoiuu6lUpF13Vpnmmanue5rmtZViQScV23Wq0ahiFJEoKwiPXN9PGG9M308Zvcdddd55xzzooVK2zb9vv9P//5z//mb/6mVqt99atfvfDCC2+88UZFUR566KEdO3Z85jOf+epXv3rhhRfeeOONiqI89NBDO3bsuOqqq/jt7r777scee6ypqam3t7evr++OO+5Ys2YN8Nd//dePP/74jh07vve975VKpfvvvz8ajQ4ODm7evPnxxx+/5JJLvvOd73zhC1/w+/179uxZuXLl2rVrOQVUBGGhFYvF/v7+s846KxwODw4Ozs7OFgqF7u7uUCjU39+fz+e7u7sNw1AUJZ1OB4PBYrFYqVRM0/T5fJFIxJtnGIYsy5IkmabpeZ7rupZl2bbtuq7neYZhyLKMIAgLYWZm5sEHH/zCF74wOjoKbNq06Sc/+cknP/nJVCr1zDPP3HLLLYqiAOedd97dd99dLpefeeaZW265RVEU4Lzzzrv77rvD4TC/3fbt25uamoCenp79+/cXi8XDhw+PzGtpaanVar/85S+3bdsWjUaB9vb222+/PRQK9fT0/PM///Pzzz+/du3au++++7LLLlMUhVNARRAWWrVazWQyzz333KpVq1auXHn48OFMJvPcc8+tWLGip6fnyJEjhUKhu7s7Foupqup5nqZp1WrVcRzTNFVVtW3b8zzHcUzTVFVVkiTTND3Pc13Xsizbtj3Pc13XNE1FURCERakn3rNvbB9/uJ54D6/zn//5n8PDw/84D6jVarlc7uDBg7ZtZ7PZaDTKvFAotGHDhpGRkWw2G41GmRcKhTZs2MD/yDRN5uVyuc9//vM/+9nPTNNsampqaGgAqtVqMpmMxWKctGHDBqBWq61Zs+bBBx+cm5sbGhp673vfy6mhIggLTVGUYrFYKpVeeumlzs7OVatW9ff3z8zMvPjiix0dHStXrhwYGDhw4EBHR0dTU1MkEvE8r1arSZKUSqUsy9I0zbKsTCbjOI5pmj6fT5Ik0zQ9z3Nd15qXTqcdx7EsS1VVBEH44/zoRz+66KKLbrrpJuYVi8XNmzf/9Kc//cQnPqHr+vj4OPPS6fTNN9+8atUqXdfHx8eZl06nb7755vPOO49Xyefz6XSa17nzzjsffPDBH/3oR93d3X6//5Of/GStVlMUpa6ubmxsjJO+9rWvRaPRK6644uKLL77tttsymcy73vWu9vZ2Tg0VQVho1Wp1bm7Odd1oNDowMFBfX79s2TK/3z8+Pn7kyJGWlpalS5eOjIwMDg7m8/klS5bYtp1Op0ulkqIoqVTKsiy/328YhqIoqVTKsqxAICBJkmmanue5rmtZlmmamUzGcRzLsjRNQxCEN+r48eOPPvro7t27W1paOOnCCy+89957r7rqqk2bNn33u98977zzIpHIww8//PWvf33v3r2bNm367ne/e95550UikYcffvjrX//6hz70IUmSjh07ls1mg8HgvffeOzk5yevMzs7G4/Fly5b5/f7e3t5f//rX55xzTqVS2bZt28033/yXf/mX3d3dBw8e/MY3vnHTTTcB7373u//pn/7J87wvf/nLnDIqgrDQarXa1NRUc3NzKpWyLGt6erpUKrW2tgaDwcHBwaGhoXw+v3Tp0qmpqcnJyVwut3TpUsuycrlcOp32+XyO4xiGEZqnKIrrupVKJRwOS5JkmqY7z7IsXdclSUqlUpZl+f1+BEF4Qx566CFZlrds2cKrXHLJJVdcccWzzz57zTXXfPzjH9+0aZNt2yMjI5/97Gc7Ojquueaaj3/845s2bbJte2Rk5LOf/WxHR8cHPvCBnTt3XnDBBeFwOBgMnnvuubzORRdddOutt1544YXhcNjzvMsvv/xf//Vfr7322quuuuqpp57atm1bIpGYnJx873vfe9FFFwFLly7dsGFDX1/fu971Lk4ZFUFYaOVyWdO0kZGR5uZmz/M0TatUKrVaLZFILFu2bGxsbGJiIp/Pd3V1ZbPZYrF4+PDhtra2uro6RVE8z1NVNZPJVCoVXdf9fn8kEnFdt1KpGIYhSZJlWe48y7LC4bAsy47jmKYZDAYRhEWj1WrdN7aPP1yr1cprnXvuuQ888EBrayuvsmXLlr179/r9/q6urgceeGDfvn3pdHr58uU9PT3A8uXLH3jggX379qXT6eXLl/f09ACbN29+7LHHXnzxRdM0zz333ImJCb/fL0nSv//7v/t8PuatWrXql7/85fPPP6+q6plnnhmLxTZt2mRZlq7rt9122/79+8fHx5ubm9evXy/LMiBJUigU2r59ezQa5ZRREYSFFgqFgsGgruvHjx9PJBKyLM/MzMzNzVUqlaampubmZk3TJiYmXnrppY6OjlAoVC6Xh4eHs9lsa2trJBLxPE+W5UKhUK1WDcPQNC0SiXie5ziOaZqKoliW5c6zLCsYDMqy7LpurVYLhUIIgvAHWr16Na9jmubq1auZp+v6BRdcwGvpun7BBRfwWkvnMa+jo4N5XV1dvErTPE5av3498xRFOffcc3mVoaGhZDL58MMP//jHP+ZUUhGEhZbP51OpVCQSaWtrGx4eNk0zFotNTU0VCoVqtdre3t7Q0KAoyvj4eG9vb3t7u67rsiw7jpPP59va2iKRSDqdLhQKxWKxUqlYlqUoim3bnuc5jmOapqZplmW5rut5nmmafr/ftm3XdavVqq7rCMIiEA1GeUOiwShvEd/61rduu+22bdu2nXfeeZxKKoKw0BRFsSyrWq06jtPe3j40NOS67tKlS7PZ7ODgYLFY7O7ubmlpURRlYmJiYGCgqakpHo+HQqFSqdTX17d06dJoNKooSjqdnpubS6VSpmn6fD7LsjKZjOM4pmn6/X7LslzX9TzPNE2fzxeJRFzXrVarhmFIkoQgCG9xV1999eWXX97T06MoCqeSiiAsNEVRMplMY2NjNpudnp5ua2ubnJw8ePBgd3d3tVodGhoqFourV69ub29X5g0PD+dyuaampnA4HAgEBgYGCoVCIpFQVdXzvGq1mkqlLMsKBAK6riuK4jiOYRihUMiyLNd1Pc+zLEtVVdu2Pc9zXdc0TVmWEYS3qYAasAP2leuvBJL5JDDsDnNS30wf0BPv4aRWqxWIBqOAHbADaoC3gqZ5nHoqgrDQUqlUb29vtVpNJBKaps3OzpqmGQ6He3t729raQqHQ0NBQNptdv359V1dXMBhUFGViYqJYLDY1NVmWVV9fPzU1lc1mW1tbI5GI53nlcjmVSpmmGQ6Hg8Ggoiiu61arVV3XLcty51mWpSiKZVme5zmOY1mWoigIwtuRJmu7t+wuzBX4wwXUgCZrCK+iIggLTZKkdDp98ODBdDrd1tYWDodLpZIsyytWrDhy5Ihpmk1NTePj448//vj69eu7u7t1Xff5fCMjI0NDQ4lEIh6PJxKJ6enpI0eOtLW12badTqfz+bznedVqVdd1n88XiURc161UKoZhmKbpeZ7rupZlybJsWVY6nXYcx7IsVVURhLcjTdY0n4awEFQEYaGpqhoIBNLp9NGjR/P5fFdXl2EYxWIxk8l0d3cPDw8fPnx42bJljuM8/vjj2Wx23bp14XBY1/UjR44MDg4WCoVisdjS0pJMJgcGBpqamuLxuKqqnudlMplKpWKapqqqkUjE8zzHcSzLMk3T8zzXdS3LkiTJNM1MJpNKpSzL8vl8CIIg/HYqgrDQyuWyoih1dXWpVOrYsWOZTGbFihV1dXXVatXzvObm5lQqdeDAgc7OznK5/F//9V+e523cuHHlypXhcPjFF18cGBjI5XKFQqGrqyufz4+NjRUKhUQiEY1GU6lULperVCqWZamqallWJpNJpVLmPM/zXNe1LEuSJF3XZVl2HMeyLL/fjyAIwm+hIggLrVgsplKpaDRq23YmkxkZGcnlcsuXL1+yZEmtVsvn86ZpBoPBY8eONTQ02Lb97LPPOo5z4YUXdnZ2hkKhQ4cODQwM5HK5ubm5np6epqamiYmJXC7X2toaj8dd1y0UCnNzc5FIxOfzGYYhy7LjOOY8d55lWZIkhUIhWZYdxzFNMxgMIgiC8JuoCMJC8/v9xWJxdnZW1/VgMKiqaiqVevbZZ/P5fGdnp8/nq1QqkiR1dnaOjo7mcrn6+vqjR4+6rvue97ynqakpFAqZpvnCCy8cOnQok8msW7duyZIlY2Njx48fb2hosCxLVdV0Oj01NRWLxYLBYDgcVhTF87xwOGxZljvPsixJkgKBgCRJrutWq9VwOIwgvAVlMpmnn356165dCK/z6KOPnn322fxxVARhocmyHIvFZmdn0+l0pVLRdT2RSExOTr744oupVOqMM84wDKNUKgFtbW0TExOjo6NNTU1TU1N33HHH9u3bly9f3t3dbZrmM88809/fn8lk3vGOd7S1tY2Ojo6PjxeLxVgspqpqKpWamZmJRqPhcDgQCCiK4rputVo1TdPzPNd1LcuSJMnv90ciEdd1q9WqYRgIwlvNzp07EX6Ls88+e+fOnfxxVARhofl8vqVLl9q2PTQ0lMvlJEkKBoPRaDSfzx87diydTq9duzaRSJTL5VKpVFdX5zjOxMRELBbzPO/222/funXrO97xDlVVA4HACy+8MDg4+PDDD59zzjmdnZ0zMzPT09OFQqGhoSEej8/Ozs7MzFQqFcMwNE2LRCKu66bTacMw0um053mmaUqSpGmabdue57mua5qmJEkIwlvHmjVrrr/+eoRTRkUQFposy8ViccmSJaZp9vf3O45TqVR0XTdNU1XViYmJ2dnZc889t7OzszrPsqxAIOC6bigUUhTlvvvum56e3rZtWyKRUFXVtu2+vr5HHnnE87x169ZpmjY9PT06OlpXVxePx13XTaVS5XLZtm1FUWzbTqfTrusahpHNZj3PM01TkiRVVW3bdueZpinLMoIgCPNUBGGhFQqFZ555ZvXq1YlEYuXKlQMDA+Pj4+VyWdd1y7I0TZuent67d6/jOGvXrlUUpVqtBoNBRVFc15UkqbGx8Ve/+tXMzMyf//mfNzQ0aJpmGMZLL7301FNPpVKpTZs2tbS0jI+PT01NRSIRy7J8Pl8qlZqbm4vFYqqqWpaVyWRc19V1vVAoeJ5nmqYkSbIs27bteZ7jOJZlKYqCIAgCqAjCQnNdt1arPf30013zenp6gsHg0NBQuVyWZTkcDicSiWQy+cILL8zMzGzcuNGyrHK5rGmabdupVEqSpI6OjsOHD990001/8Rd/0dLSomlaIBDo7e3t6+tzXfeCCy5oa2sbGxtLJpPFYjEajdbV1U1PT5fL5bq6Or/fr+u6oiie5+m6XiqVPM8zTVOaZ5pmJpNJpVKWZWmahiAIi56KICy04LxAIHDo0KFUKrVixYqurq5oNPrSSy9NTk5a8+LxeDgcHh4e3rNnz8aNGzs6OkqlkizL0Wg0nU6XSqXly5cPDAzceOONl1566bp161RV9fl8mqaNjo7u2bPnne98Z1tb28zMjOd5tVrNNM2GhoaZmZmxsbFEIhGcJ8uy53l+v79SqXieZ5qmNM8wDFmWHcexLMvn8yEIwuKmIggLrVwu5/N5TdPq6uqSyeSTTz65atWqpUuXbtiw4aWXXpqenp6bm4vH44ZhLFu2bHh4+KGHHlqzZs369esrlYqqqrZtZzKZQqHQ2to6MzNz6623vu9973vPe96jKIqqquFweGhoaO/eva7rrlixwufzzc7OVioVwzDi8bjrumNjY3V1daZp+v3+SCTiuq4sy5VKxfM80zQlSQLC4bAkSalUyrKsQCCAIAiLmIogLLRoNGqaZj6fz2Qytm1ns9n9+/c7jrNixYr169cfPXp0YGCgUCg0NjYGAoG2traZmZnnnntudnZ2w4YNsVisUqnoup7NZqvVakNDg8/n+8lPfjIyMrJz586GhgZZloPB4LFjx1544YVcLrdy5cqGhoaZmZlqtVoqlQzD0DRtamqqXC5Ho1FVVSORiOd51Wq1XC57nmeapiRJQCgUkmXZ87xqtRoKhRAEYbFSEYScfoHnAAAgAElEQVSFNj09XSqVgvNc11VV1TTN/v7+qamp1atXd3d3m6Z54MCB48eP19XVmaYZjUZ1XR8eHv75z39+zjnntLe3z83N+f3+SqVSKpVisZjf73/22WcnJyevuOKKRCKhqmowGDx8+PCRI0cKhUJPT09dXV0ymczlckAoFIrH49PT0+Vyua6uTlEUy7LS6XRhHmCapiRJQCAQkGXZdd1qtarrOoIgLEoqgrDQdF2XJKlUKkmSFIvFUqmUJEmxWCyVSv3617/2PG/lypW6rj///PPj4+OVSsW2bVmWly1bdvz48b17905PT69cuTIQCPh8PiCbzYbD4TVr1hw6dOhrX/vazp07V69e7ff7NU07ePDg6OhorVbr7Oy0bTuXy6XTacDn89XX18/MzJRKpcbGRk3TTNNUFCWdTudyOcA0TUmSAJ/PZ9u267q1Wk3XdUmSEARhkVERhIWWz+cnJydt2w6Hw7lczrbtYrGYz+cNwygUCr29vbOzs2ecccaGDRt6e3uPHz+eyWQaGxsVRWlra5uamjp8+LDneStXrozFYn6/X9f1TCaj6/rq1asHBgZuuumm97///Vu3blUUxefz9fb2jo+PVyqVjo4O27ZlWXYcxzRNVVXj8bjrusePH29qagoGg+FwWFEUx3EymYwkSYZhSJIEaJoWiURc1/U8zzRNSZIQBGExURGEhebz+QzDmJ2dzefzdXV12WzW5/NZluU4jiRJuq5PTk56ntfV1bV69WrDMA4fPjw0NNTc3BwMBi3LCoVCk5OThUKhs7OzpaUlEAiEQqFisej3+7u6unw+31133TUyMvLRj360sbHR5/P19fVNTU2Vy+Vly5bFYrFQKJRMJiORiCzLhmHk8/njx483NjaaphkIBKLRqDOvVquZpilJEqAoim3bnuc5jmNZlizLCIKwaKgIv1O5TKGA8HsKBILB4IoVK2ZnZwcGBsbGxmKxGFAqlSKRSDabnZubM03T87ze3l7P83p6egzDOHDgwPHjxxOJhGVZxWKxqalpdHT0wIEDxWIxkUiEw2G/318oFFRVbW9vDwaDzzzzzOzs7Ec/+tGGhoaVK1cGAoGRkZFDhw61tbW1trYahpFMJo15Pp/Ptu2xsbFSqRSLxXw+XzQSSTlOMpms1WqWZUmSRLksFwpWKOTl86lUyrIsVVUplykUeNMEAmgagiC86VSE/1m5zOc/j+PwsmSSlw0P84q+Phatnh5e0drKy6JRXmbboeuvdyEBNhyGSQiDCVkIQg3SEIAKDIEH3XA29MEkZKARFGgAF/qgCAkIgQkVSEMrBOAQ/J9rrrkEVkIX+GEQBqEE7VAHM1CAOk6IwCzMQT1IEAMFZqEKEU6QmpullhbrqafS4IAFEqhXXsnLkkleNjzMK/r6eMN6enhFaysvi0Z5mW2zezeahiAIby4V4X9WKOA43Horwv/Pvn28Yt8+TkqDCx6kIQZnwjE4BiWIQAE0sMADGSSYgTI0wnIIwxAMQwJ0qEEGBiAH7TAHIU6YgTrwQy/8X9gKG2Ep+KAPxqAKrdAMozAELaBABFwoQjNUIQIyTEEVYsDoKKOjgAEypMCG2q23Siy0fft4xb59vOLKKykU0DQEQXhzqQjCglLADy7oMAoFaIMYHIQpsKAGJYhCFvIQgDTMQRo64Aw4DKNggw1+SMMYZKELauCHKkxAHNZDL9wP03AhtIIPDsA4VKEBWsCFAWgCE0zIwiC0wBzYoMAYVKCB/08QFEiBDRrICILwdqYi/E7JJMLvrQRTUAAPEpCENDTCO+AQjIEfwpCECGjgQQDKMAtFqIeVMAQpqIAOOiiQhQOwBFpBhjyMQRTOhD74FaRgK9TDWuiFSahBAVqhEwagAA1QgwIcgxbIggGtMAI1SPDfZPBDBBzQIcSbIplEEIT/DSqCsKCC0Ahx8GAcTDBgCGzogjo4AC4YMAUWRMEFBXLgwBzkoAX8MA4FsMCAGuRgCLLQDjaUYBRKsBJ06AMXtkEzrIIjMA0SVKAJVsMxOAJtoIMEg9AIYQjCEhiBUWgCiRMk0CACDlRBRxCEty0V4XcaHkb4Q+RAhzzEIA1ZqAcHctAI58EBSEEQZsEP9eBBhRM8qEAB4rAURsGDCuigggtJmIMmaAIFpiAPTRCEQ3AH/Cl0wVIYgwlogFHIQidMwRFoBQMkmIQyNIAGS2AYhqEZFE6QQIUIuFAFAyROpeFhBEH436AiCAtKAgU8iEIadCjBBERBgWMQhTUwCsdAgRKMQD2EYRo0yIIEkxCCBLiQhRKEIQouuFCEDLRCHKYhC22wDg7C/XAubIRmUGCGEyQoQivocBQsaAAZHChCMye0wQgMQzOoIIEEKtjgggsmyAiC8HajIggLqgYVSEIK6kCDKkTABRXqwIE0tMLZ8AKUwQ8TYEIjTIIMBShADUpgggIZTvCDDVkowgwUoBnqIQ1HoBl6YAR+BUnYAvWgwCyUIA4D0ARr4CgMQiPY4MIxaIEatMIYDEMLqCBzggI2eOCCCQqCILytqAjCgpIhAN1wBMbBBAMyEIYyHIc6CMAgxGA9HINp8IEDaUhwwiTUIAVRcEEFHUpQhjKEoAQe1GAQXOiAEIxDHBLgh6Pgwp9CghOmYA4SMAEF6IRJGIc42ODAEWgHBZpgAoahEUL8NxksSIMDFiggIQjC24SK8Dv19SH83lQIggdrYBTGIAsRKHGCDUnIQj0kwYUlYEM/KCDBcYhBC4xDCZJgQAAKEAAVSpADFSxwOSENL0EHNMIYmBAFCUbgbtgEKzhhEuagDTKQgxYIwxgYYIMDA9ACcUjAFExCHHSQOEECEzKQAhtUkFhQfX0IgvC/QUUQFlQNHJiEWWgHG47BFNigQRF0KMFxSIAKR6Ee1sBhKEAIUpCBBORhBhwIQxTykAUDJKhADQzIQBFicATisAQ8mIRGkGAKHoIkbAQZxuEYtEEQ+qEFlsIwSGCAAsehAE1QDzOQgioYIPPfdJAhBTZoICEIwlueiiAsNBkCUIRDUAcrYRQmwQchyIMPVBgFC+phGvLQCVOQAh9UYAQi0ART4EEZ6mEOUhAEA0pQBB3KMANxSEIGujhhGBrBD1PwDEzAn0IbDMEAtEAExiAG7TABOQiCBJOQhzaIQxLSUAETFJA4IQAypMACH8gIgvDWpiIICy0DGdDAB7OQhlYwYRxcCIIMJbAgD8egAcowCAkwYIQTFJgFHerAhTSMQANEYQYKUA8KFKAGGkyBBRo8C51QD1NgQCv4YRzugfOgE47DIJQgAQ7kIQEpyIEJEsxCETogAg4UwQELVJBABj9EwIEwhBEE4a1NRRAWWg1UyIEffFCAoxCHpTABSVDBDwUIwhyMQQTqYAoMaIVpyIEGOZiDIMTBgVGIQhPMwBDUgwl5KIIEKZiDOAyCA+2QhTloBD+MwUOwDlbBNAxBFpZBFYagGfyQhBgEYBQOQgdY4EEFkmCDBjJIoEEEXKiCgSAIb2EqgrDQDIiAChkogg+qMA15aAAbxqAIGhShBjq4kIUEFCAHEdAgzQkVSEMAopCBacjCMgjBBBjQCBJkQYIcTEIccvAitHNCCkyQwYGnYRI2ggZTUIQVEITjkIB6mIA4LINBOAgdEIcM1MCFMIQ5QQINbHDBAwMkBEF4S1IRhIVWAQ00MKEMOdBAAg8KEIUmmIUM+KEEOQhCEYagDnRIgw5+SEEFCpDjhCBokIQD0AEdMAiHoRNUyEAZKjAK9RCGQ9AIDZAFP1jghxn4KZwJDZCCF2E5GDANOrTAFARhOYxAL7TCEsiCCnmogAESJ6hggwcumCAjCMJbj4ogLCgJImCAAg4nWFCEEqhQgknIQwxCMAsBUCALGvhhErIQhyxoEIMUKJCHHARAghhkoA+aoBuGoBeWQBRcyEMRpqEKMZiBDDSDDAFQQIY87IMOaIcKHIQ2aIYcTEA9eDAJS8CEXvCgC+ZAgwo4YILCCQrY4IEDFigIgvAWoyIIC60ECqgQgzTkwAdh8KAKCqSgCBY0QBIUiEEKKhCGAhyHRlBgDmzIQg2qkAMN/KCDD0bBgxUQhQEwoR3S4EAOqlCEOFTgCDRADHTQoAoajIIHS8CGEShAO1RhBBJQgSFognPgIDwPy6AGAaiCAyaoIIEEJmQgBRaoICEIwluGiiAsNAlmQQcNFPCDB3kIwxzkQII8VEAHGwqQgQjkwAMDyjAGBsRABQtUSIMOOciCDirEwYX9sBxWwVF4EZZBHSQhB3NQgnqwYBzS0AJRiIADAShBP8SgCWYhB51gwBRYEIdRiMN6OAovwRKIQhgUcMACFWSQwAAJHLBBBQlBEN4aVARhoRXBhknQwQQF/JCEPNSgDtKQhSqUoAQ6WOBBEEwYhRqEIA0FiEIFTPBDEgzIQQpMkMGGHPRCAyyHMTgCCYiDCx4UYQ4aoAFmoR8ysATqwIEsBCAJJYhDDfqhFXTIQgHqIQkl6AITjoAHjRAFHVJgQIj/poMMKbDABxKCILwFqAjCQjOhDkIwCdMQgRCo4IEDKQhDCFwogAdzEAYLslCENpiFFIShAmMQhTKY0AAzoIIFGdAgBEHwwwSkoQtCMA5pWAIazMIMlKAJIpCBUfCgHeIQgGnwQRHGwYISJ8ShDmowBXHIw3FoBgP64Ag0QitEwIUq6Py3ACjggAl+kBEE4XSnIggLbQ5sqEIC0pCCIOgQhxDMggs+iEMBkuBBHqKggQwemGDDCFQhACnIQhFMaAQXZsCCDKTA5oQIZOElWAJLYRT6oRFaYAJSUII4NIMfPHgJ2qAFWmAa8uCHWShDGSpQhSj4YBoioMEgNMIZ0A8TkIYuiIALFTBABhl8EAUHqhBGEITTnYogLDQNuuE4zIIEMmRhBgwIgx+CMAtTEIYWSIIH0xAFHwQgDwoshzGYgQDMwRTkoQh14INZ8IMCKQiBCibkYQBi0AQOTIAB9ZAEB8pQgHaog2nohwwshSaYAQ90cKAENShBEaIQgjT4IQrjEIPlYMAwvABd0AAZcMACGSRQwQYXqqCDhCAIpy+V/w2ZTGZqasqyrFgsxm83ODgYCAQSiQQn1Wq18fHxubm5pqYmVVURTksSpGEZNMAgzIIMGchBBcJQBwZMgAcliIIJkzAJQYhDGLIwAXUQhwEogR9cKEERotAGE5AGG1zQIAwBUCEFRUiABh5UwIAgTMAklGEJNMEMTEIGuqAegjALKhRhCiqcUIIo6FCCItiQghI0QgDGoBcy0AZlSIEFKkigQQRc8MAECUEQTlMqb7of//jHu3btmp2dDQQCn/rUp/7+7/+e36RWq1199dWXX375xRdfzLyZmZnPfOYzjz32GLBmzZpvfetbnZ2dCKefDMzCNCyD9TAMIzADs1CCEugQhjaYhUkYAxPaIAmTUIYYmJCDKfDBCpiECVAhB2XIQx7i4AMHdCiAA2FQwIAijIANYSiDB35ogUmYhBI0QhOEYBpehBZYAgmYgRIoMAF5qIACZQhCCBwwoAQjkICl4IfjkIdO8EMKLNBABhls8MABC2QEQTgdqby5BgcHr7766k9/+tM7duz41a9+deWVV65du3br1q28iuu6vb29Dz/88M9+9rPLL7+ck7761a/29/c/8MADgUDg6quv/tznPnf77bdLkoRwOpGgHjbBC/Ai1EMrNMEh8MMseJCBMgShGUwYBRfyYEMXTMAoGNAAKmRgBOogCoOQgyqUIQ8FiEMTpKAGGqQhAD5QoQCzYIIOc/w/9uAs1taEIBT0t9b61zyvPe+z9z5nn6kGTzGD0gqXixH6CfTBYHyQhMT44JMPJOqDwoMPPGCiCSTqfSNREzraxsSkbblXozcX1NsURVUdzlRn2POw5rX+Na/V2SchDek2ShcURfF/nwlzlmhxzpQuV9nhgPu0uckl6gyYU2fAiCssmJKmQ56AfdbZIcU+r7FJmjZ58sSIUaZDixKBf9uzz4pEIj8MgTfW3/7t3xYKhV/7tV8rFou/8Au/8Kd/+qdf/vKXf+7nfs53ePTo0ac//WlkMhnf1mq1/vIv//Kzn/3srVu38Bu/8Ru/9Eu/9Nprr127dk3kTWbOV3mOHV7kG1znnWzyGvsc03NhRpIbnLLPOQXWyXHOPmWW6XBGkqvUOWLOnDO6rLFEig45xszIkGVGmzkZF+bEKJDhjBEjrnCZU04Iuc4WTVrM6DKhwwtkCIkzJ0WeY2pskOCIPdbI0GdOgRgxynRpUSYgJhKJvIkE3lgvvvjic889VywWPfWe97znr/7qr2azWSKR8G1vf/vb//Ef/7HT6bzwwgu+bW9v7/z8/G1ve5unnnvuuUQi8dprr127dk3kzWRBnxz/xAbv5oS7HHOd93OfB+zTJEOWGesUOeScAVWucsQZfZZJ0WefGs+wT5c5E6b0WWGJDgmGdMiRYcaACRlSzIgRsMoZh8zocZk8+3yTNjcJaDFlTJ2v8k42WNAgz4w8TcasEnDEKasE9JhRIkaMInFalEkSE4lE3iwCb6zT09NisejblpeXG43GdDpNJBK+Wzwe9x16vR7K5bKn8vl8EATNZtN3+MxnPnPnzh3fdnR09L73ve/8/NzrEOv1aotFTOQ/KkaGLXa4zd9znXdzl2+wzQ0ucZf7HNCg6kLADQocUSfLJi0aHFOiQo+2C9v0OWbImDEhG1TokaTHiDgpEgzpuxAwJ02KGm2OGNFjl2d4xD163GCdJkOmjPkqt7jJJnXqDKgxYMQyASecsEaCLmNqJIiRJUGTCknivst0Om3X64vRSOQtodFojEajTCYj8sYKwzCbzfpeBN5CnnvKt335y19OJpO5XM7rMZvFRL43czokeDshL/OIa6zyhGNu8h42+RZ3aJKiyIRVyjyhzZAaW5zSYkCREn32qHCVY9r0mDFmmSJx4ozpMiBFkhkDYmRZEJCmRpcWQ0Kucp1jjmnzDJdo02dKgq/T4gU2CDliwBJxjllmkxPOqFKgy4g1EiRIUaFNgZzvEtvezmazcjmRt4QwDLNPibyxksmk71HgjbWysnJ2dubbGo1GpVIJgsC/p1gsotvtemowGEyn03K57Dt84hOf8B1u376NXC7n9ZjNxGIi36MSTY4p8AEOeJU0m/R5lRV2+Bm2eInHnLDCggQ3OeGMM/JcokWPFlnypAkJWaLECWMGDKmxTJYEKc4ZkyBGjBlDEuRcSFMhzTlDJnS5TJYnvEyH50nTZESGhzR5N7s8wyGHFFninDLrnNFlSoUBj9mgQJwUVVrMKfh/JIIgl8vJ5UTeErLZbC6Xy2azIm+sZDLpexR4Y73jHe/4whe+EIZhLpfD17/+9RdeeCGRSPj3XLp0aXl5+ZVXXrl16xbu3bs3n8+vXbsm8uaT5DonnNOmxwr/K69wlwprNPkGV9hlhfu8xAkBFXrUyHNGgwHL5DhhxJQ0BUbUSbJFh3NCRvRZIcuYFXqEJEgzZ+JCmzRJF3Ks0OSMCX12eYYn3KXFLVZoEJKlyX+jw7PsUOeUkBWaFFjmnBl1lkixxzIrLgRUaTOnSMxTtZpIJPLDEHhjfeQjH/m93/u9L33pS7/8y7/8ta997Stf+cqXvvQl/MM//MPf/M3f/PzP//z73/9+/1+q1erHP/7xP/qjP3r/+9+fSqW++MUvfvCDH7x27ZrIm0+cGJcpcEqdfYo8w3W+yUOqFHhEnW3eyRovc5dTykxJskmWFidkuESTkDlTAkp0qVNgkw5dzuizSYUhBXKcMyRwYUKSIaesknUhTp0GI0Zsco1T9ujzAqs06JJnzFdp8XYuUeKMAwrMybBEnSwNCmxywoANYgRUaNOmRFwkEvmhCbyxdnd3P//5z//u7/7u5z73ucVi8elPf/ojH/kI5vP5n/3Zn33sYx/zHUqlku/w27/927/+67/+wQ9+MBaLPfvss1/84hdjsZjIm8+YOXXy3OSAM9rcY4X3c8IrHFBmzG02WeWDbPOvnBCnzIgiWVL0OaZGliZxZozIM6ZLgjJZmgx5QpclAhYs0yckQYIRaRIcUKFGyoUeHSb06XKVAg/5F65xkwznBJR4lQ5v5waXyHHEKWXGlOmSY8CYDdo8ZIOiCxU6tCkR+y//Jf7FL4pEIm+4wBvuF3/xFz/60Y+enJxUKpWVlRVP/fRP//Qrr7ySyWR8W6FQ+Jd/+ZcgCHzb8vLyn//5n+/v789ms62trSAIRN6UAioU6DBknXUOOOSADmt8iMe8QosaxzTY5CbLvMqrNMkzI8EySULaBKzSZkySPglyjOmSpsaIFnU6bFBgRIY0bSZkCAnI06TPJVYJCGhTZ8SQTX6CR9ymwTtZ54wuVU7577R4gSWy1GkxZECNkDxxzlgizREDakwo06VFmXgyKRKJvOECPwylp3yH1FO+WyaT8d1isdj29rbIm1uME7JUmNFmzhYr7HPAHdbZ5BJ3eI0ZFR6wwgo/ySav8ogEAUNyJAmY0CRLmg4pFyYkSTAiRpI1uvTYo0qFBHMq9BkQsKBNkREP2WCNNAv6dJgyoMcGJR7wT7yNdeq0yTPmFc55N9vEyXNKhwE1+hTJ0yDPKk2GLLlQokeL8mSSTCZFIpE3ViAS+X6LscUZhxSpMKdBjKtscJdjztnibVzmVfbJcEqTbbapssor9MgwI0mJLgFDFlQZMiFgSIIMQ8YEFMnQokWPGiXG5EjSZ0GSFgUC9ulwjSL7dBlxzIiQS7ydB3yVm9wgTZsUI075J57jBZJkOGHIKVnG1CjTYUyVPi1GFCkQo9lslsvldDotEom8gQKRyPfbgoBNRpxwwBIbDKkT5wWucIc7nHGZn+QyL9Egzz0qbHKLFV7hgBgpBhQJWbgwIk6KMSnmzEgyZcqMGCv06FJnTI4kAVlmjEkxIEGRkJfZ5gaHHDHllCFDlrnJIa9wzntY5Yy5C2luU+d9FLhEkw4ThgxZYYk2HfLMGFOnSI54sdhqtUqlUjabFYlE3iiBSOQHIEWCGZcJOaFBjS36NAl4F6fc5v/iEtv8LPe4w5gxLXZYpcxr3KVLgZAMAX1SLJiTZkaCORNSzBgQMCJLkh5dBhTIkiRBghELZnQoMOMhHa5T4LELbQaM6HGFIg/4b7ybFZoMOWWJBv8n72abGnlOSDDmCSFbDOmTJk6MASMKiUSlUmm32/P5PJ/Pi0Qib4hAJPIDcEieKguSXKPLPk2q7NCiSYkP8YC7nLHDM2xxm30W3KPCDjdY4S4HZInRo0iXOQFT4kxZkGXkQo6QOSkSLNFhTJsxOeIkCEgyYEafNFnO6fEMz/OYFmMOGTNknVs84r9zlecJ6XDKhBX+mTNeIMU250wIOGXENgVCYgQEJGg2m/l8vlKpdDqdxWJRKBREIpEfvEAk8v0W5xpnPKJGlTFpnqPFExqss8sZbTbY4S53OeEy72GT24yp02KDZd7GMg8YUSFkwYQeSeLEGTEly5gpeYaMSDInT4YOY+YEpMkwIE3AkClZMox5hW1ucMAhSc7oMKHDdc55QIt3UaNNnSHX2OOc91BhjTRNF1rMWCfHiAlzZhQKhfF4PBqNcrncYDCYz+fFYjEWi4lEIj9IgUjkByDJMjVOecQSJYbk+Qla7JFigyUO6XGDbV7lZVbY4oM8YJ8FezS5xDYlnnBEkSxdF/osSJBmwYQ4WcakSdF1YUGcGgNC0iwYk2LGnCxjeuTIMOQRLa6T4YAEPfaZ0OMqN3nMP3CLdTKc8A1uEed/8BzblMlyzoguAXlKzFgwodVqVatV9Hq9VCo1mUza7XapVIrH4yKRyA9MIBL5wUixYIceZ7RYokhIhTJnPCLDNnMeMeW9HPCAl9jgMks8JM6Mu5RZ5SYVHhFnhSRJhvSJkybGjBkBM2aU6dMl7UKeJD1ixJiRIkefJAlCxhSY0eBlbnCdPRaMOaLMhFWuccLX2eF5rvKQf+VZtrlLnZvk2STFEWfEiZNiRpLZfF6v12tP9Xq9+Xw+nU5brVa5XE4kEiKRyA9GIBL5gYm5kOUKbc5oskyKkFWWOOE+eXYZsk+On+IJe7RZ5RbHHJGmx31qrFDkCXXWCGkQY8jAhZQLMRYkiJEnSY8hBQIqDAnJMKNPihlzivRpUSJFn5e4zC5HNEnRZsSIJjco8Zg67+AWd/gmPZ6ny4tcY4kVsuyzxwZLBAxJzOfxePz8/LxSqZTL5cFg0O12B4PBbDarVqtBEIhEIj8AgUjkByzhQpESTU5Is0SckE1WOOIeNa7T4oRNVrnHAU2WeIYj4i506FFmmwr7ZLjEOV36jBkRECPNggkzktTo0iVNiiwBAxcC+iQIGJFhSossZTq8RofLpGkQ0GLClJfZ5ToHfJXrvIt97tLmJ4lxjx7rFLjGEY8YskmR7mw2Go0ymUy9Xh+Px7VaLZVK9Xq9drs9Go1WV1dTqZRIJPL9FohE3hAJF8pUqLNPgRoLpmyzwhn3WOMGJ3R5hgZHHFNghTxtkoS0iJPhJkd02WTEIR1mDJkSIyDLhKELFTLUGTIlQ4WQMUliTEgxY06WkBE1RpwQco1V2gR06TDhLits0eVbNPgpfoqv8bf8DEscM2SNKttkuc+YTdZrtfF4fHJyUigUWq3WZDJZWVmpVCrpdPrs7Gxvb299fT2fz4tEIt9XgUjkDRS4UKVCnSeUqTBlyiVqNHjEOjWOyPMsR7QZkWeJPgEz+gzpU6XIKQmu0eDAhTkhM8YUqBAyIsMW53QZEVImQ5skaUYupBiTZcQpNaq0eYmrLNEgTZ86U0Z0uMo1HvN/8E5+ln/iK7yLZ+hzwIAqS6S4zyOGjx5tbW1dvnz59PR0Npt1Op3BYHDp0qVsNnvp0qXz8/PHjx9vbGxUq1WRSOT7JxCJvOGSLNigwhmPqVFmxJxNirQYssKCfVYpc0yfFHkXpgQMmNJnxhotJixT4TF1ikwZUCfDCkNaBKwScs6EGXlqDBiSYmmiDZYAACAASURBVMGANHOSxDmjwBJtHrDCJTrEiVNnQZ+XWecK53yVM/4z3+B/0OC9LtSZ0WOZmzzh5OQkDMPLly9vb283Go1utxuG4f3793d2dkql0traWiaTOTo6Gg6Hq6uriURCJBL5fghEIj8MMRfS7NDjjDbLlBmQJ0dIiwnbhJyzRZsOIWnSzCkwI82Ajgs5BsS5wSr3mFEiJGSfJdbpMCDJFud0GdNljRwdF7KMXQhcSNFjxCoTTuiwS4I4OU7pkmWfkB0y3KXFR1jiX6nzISq0yDGnzBVOKpVut/utb31ra2vrypUruVyu1Wr1er07d+5sb2+vra2Vy+V0On10dPTkyZP19fVsNisSibxugUjkhyfuQpYrtDl3YZkyA2KkGdJhzjo9FzI0GZGgzIgRcRcKdDkjyZw5ed7BE/bJUKTJAXm2yNFmSo0CdYbsUaHCkAEpJkyIExAQsscyy7R5hS0KLNjihB45Ggy4xGXO+N/4AP+Zr/HXfIBr9JgxJ8fy8nIQBGEYHhwc9Hq9mzdvLi8vp1KpbDb78OHDTqezu7ubyWS2t7fPzs6Ojo6q1WqxWAyCQCQSeR0CkcgPW8KFIiWanJJiiQw94gRMCUmRpkeSLgNC4uQZEWNKhuuc0iBBQIqrrHGXkCpZWnyLDTbo0iLOBk16nNNnlSo9AhemLEiRZcQpRWoMOaLAMgs26VAn4cJjqqwS8nc8x3/i6/wdJ/wUM3rMmPR6uVwO8/m81+u9+OKLN2/erNVqnU4nn88fHR299NJLV69erVara2trzWaz1+uNRqNSqZTL5UQikf+/ApHIm0PChTJl6hySo+pChwQBU0ZMCUjRo0GcCQmKjIkzYpkqe4QMKZHjnRzygBjbnHJAi23W6RBSIEuHkCdUWCNkRIoJQ5IUCOkwokaVNkdUyVEhzx59Mpwwo0iVu5zzM5R5iTofpkjItNfLZrNBEAwGg0ql0uv1Xn311cuXL29uboZhuLOz02w27969u7m5uba2VqvVgiAIw7DX643H40KhEASBSCTyvQtEIm8mgQtrVGhwSJEKU9ouBKSZ0WBBQI8FC6YulJnTZM51WjzhnAIF1qjxgDplypxxm2XWKNEkpEyWNuf02aDEmBkpJsQpEGfAMWWKhJxQoEiRXfYZElBnSo4cXf6Wd/BeXuF/5wPcoD8eLxaLXC6Xz+e73W6xWOz1eo8fP+73+7u7u7PZrFKpFAqFvb29Xq+3sbGRz+fj8fhgMJjP541Go1AoZLPZWCwmEol8LwKRyJtSig3K1NmnzBIj2i6k2STknCwtuiQI6ZGhyoJzMrzAIQeELJHkWeo8YMIlGjTocokVRpwzYZkhTR6wzDIJZoQMmVMgQZcGQ0qkCBkTUuMGx5wyZ8qQFRemfI0b3OIBf8cx/0smM3xqOp3m8/l2u53P5zOZTKPRGI1GV65cSafTs9lsd3f37Ozs+Pi4VCqVy+VsNjscDnO53GAwGI1GhUIhmUyKRCL/YYFI5E0p5kKGLXrUabPEKiFdxuQp0WJKjg5DSnQZU2WTPnVWqbDHITmWKHOLA84oUOGIRxRZZYcWpyTYpM0ZPTZIUSZgQJccKzQYMKZEngl9hoRsUeIRM7qM2GLswms0uUmO27T+5m8+9KEPYTKZjMfjbDY7mUwSiUSpVArD8O7du1tbW+VyeTQara6udp6KxWLJZDKRSPT7/VKpNJvNGo1GoVDI5XKxWEwkEvkPCEQib2JxF3LkaVOnyTKrdOi6UKJKnRgZ2mTJ0SGgSIk6U27Q4iH7LJNzocwpHTbocs6AJWpc5YwGBQocc59VquTJ0qRLjkuc06HBjCxJZpzRZZdb3KXPnNfYJmDEOW1+gm0OTk7++q//+v3vf/+VK1cmk8l0Op3P57Gn8vl8v99//PjxxsZGrVabzWalUimVSnW73VKplEgkFotFo9GoPtXr9UajUbFYTCaTIpHIvycQibzpJVwoUqTFGUlqFGjTJWCFGsekaNGmQo8zclQo0qDEcxxxQp4KCRKUOSHHZY45pcMqm1R4wpBLdDmjxRpFVunRZsQKBU5oMiJDhjwDbrPFLR5xRozHVFmnw4SX2GFjY6Ner//93//9c8899973vnc2myWTyTAMU6lUuVzOZDKDweDw8HA6ndZqtdlslkqlyuVyt9stFArZbLbX6x0fHy8tLVWr1TAMG41G/qlYLCYSifzbApHIj4jAhWVKNDklQ5kS59TJcpkVTjjjhCQZWoQUWSekww4VDjhkhRoxNmgTsk6PJvt0WOJ59jgjR4ED9ilTo0SOc44oscshfcbMGJNhxiOaPEOZ11w4JWSXgQuPqH/rW1euXJlOp3fu3Gk2mz/90z8di8Xy+Xy32x2Px1tbW/F4vNvtnpyczOfzSqWSSCRQLpd7vd5sNiuXy8Ph8OjoaDgcrqyspFKpXq/XaDSKxWIqlRKJRP4NgUjkR02SNco0OCXHGiPOOCPDNVZY4oATisxoMqDAKh3S5DjhlBxrtF3I0qVIhnNa9FlljXXuErJNhyYhNSqs0+GcPpfocEabrAtxcrT5n9zg3bxKyIDbbBO40Ov1vvnNb+7u7iaTyfPz86985Svvete7Ll26lMvlptPpvXv3rl27lk6n6/X6wcHBZDJZXV3FdDotFothGNbr9aWlpZ2dnaOjozAM19fXK5VKGIatViubzebz+Xg8LhKJ/L8EIpEfNTEXUmwQ0uCYAlv0OGNEgeuscMI9BpQIaZAl70JAiTKHHFJjiyMWzBmxRocuh3RZ4gUec0qeLCcc02OJChlOeUKNHU7oMybPjCIjXmGD53jCKQkeskaVCclk8v79+7VabW1tbTgc/vM///Pu7u6tW7eSyWS5XL59+/a1a9e2t7dPT0+Pj48Hg8GVK1cWi8VgMMhkMpPJpNlsFgqF7e3tRqNxcHBQqVTK5XI6ne52u81ms1AopNNpkUjkuwUikR9NcReyXKLPOX3KXKFNnT4lrrPOI+4QJ0mfEXlyjFlnmdc4IccWDRosSJAhRY82Q4ZssMIDJmzSpcWQHsts0eCcPJt0aNImx5w0BY5pcZMV7hFwRp/1WGw6nRYKhXa73e12t7a2MpnMgwcP+v3+29/+9kKhsLq6+vjx45WVlc3NzWw2e3h4+PLLLz/77LOZTKbf76dSqWQyGYbheDwul8uZTKbT6YxGo2KxWCqVRqNRu93OZrP5fD4ej4tEIt8WiER+lMVdyLFDh5YLFQrUOSVHiWe5wis8IMWCDgE5Ahee5xL32GONIod0SLBGihQdjuiwzAs84owcaRq06LPMEhlOOaLCBi16jMmQpUyPb7DL89xjQMjDhw83NzeRTqdns9mjR4+WlpZKpdLx8fFgMHj++edXVlaq1Wqj0RgMBpcvX7527drjx4+//vWvP/vssysrK81mMxaLZbPZ+XzearWKxWKlUgnDcDweD4fDfD5frVb7/X6j0SgWi+l0WiQSeSoQifzoS7hQpECbFnGWKHPGMUUKvIfrfIM9AkaMSZNjTpH38Zg9YlymzR59StQ4psOAfQbssMIDZiwxIOSELqtsc84pBcpkadBlwpgyU+5zznXOqBOLx/f396vV6srKymw2y+fzjUaj3++XSiW89NJLV69evXTpUi6XG4/Hr7322ubm5tWrV8/Ozl5++eWdnZ0bN250u912u53P5xOJRK/XS6fT2Wx2NBpls9nRaDQcDvP5/GKx6HQ66XS6UCjE43GRyI+9QCTyVhGwYJkCLRok2WTAMX0KVPhZ9vifNIgzZESeBGMus849Tihyg2PqxNihxRk9jumyxju5T500ccYMeEyVGmmajCmyTouQPkOKLNHlRa5xhb14PJlMdrvdwWCwtbUVhmEmk4nFYmdnZ4PBYHV1dTgc9vv93d3dTCYTi8WOjo4qlcrq6moul9vb22u327du3VpeXj47O0ulUplMZjqdIplMhmFYLBZjsVi3200mk8VicTQaNRqNQqGQyWREIj/eApHIW0jMhRRrDGjSIMVlehyTosw6H+MeL9IiTZc4OSYEvINTHhGyQYYzjilxg8eEDHlEhx1WeEiMFCnGtOizyjpntMlQIUubKW0GVJlzjwq7u7t7e3vT6XQ+n9+7d29zczMIgtlslsvlwjDc29tbWVmZz+dhGF6/fj2fz8discFgMBwOl5aWrl+/fnR09LWvfe3WrVuXLl06OTnpdDr5fD6bzU4mkyAIut1usVhcWloKw7DdbudyuUwm0+12R6NRoVBIJBIikR9XgUjkLSfuQoYNQlq0yXCNBmekqfAMu3yDO/SJMSPJnDErVHlIgxI56pzR4Qohh/Ro0WOZt7PHKVOSxBmzR4kaQzqMKbJMlyEDxuSp0eP27dvb29uDwaDb7RYKhYODg2q1ur6+3u/38/n8fD4/ODjodruTyaTf79+4caNUKo3H45WVlVarlcvlNjY20un0nTt3ms3m9evXe71eo9EYj8fVanU+n6Pdbs/n80KhkMlk+v3+eDzOZDKz2azRaBQKhWw2KxL5sRSIRN6i4i5kydKjzZAyJeqckKfA+7jOS7zGlC4pAk7J8SxNDuixSY5TDshzg0NaDNinxQ419miyIMecPj2WqdGiQZYlevSY0iVkmUQu9/Dhw+pT9Xq9UCh0n9rZ2en3+6lUqlQqtdvt4XA4Ho97vd7NmzeXlpaOj4/X1tZGo9FwOCwWi+l0utFovPTSSzdv3tzY2Dg8PJxMJsvLy5lMJgzDbrc7n8+LxWK5XB6NRv1+f7FYpFKpfr8/Ho8LhUIikRCJ/JgJvG4vvvjiX/zFXzx48OBjH/vYwcHBhz/84Xe84x0ikTeHhAsFcvTourBCiVP6lCjwM+xyhycMGZKnRZ9VnuWEc1bIc8opHTaosU+HPnepcYUlDugSkGfCOUmqjBhyxDIBIWMmnJJrt5eXl7vd7mAwKJVK/X4/k8ksFouHDx+ur68nk8l2u10qlYbD4YMHD7a2tl599dXNzc2dnZ29vb319fVsNtvtdvP5/OrqarPZvH379tZT9Xr94OBgeXm5WCz2er1OpzObzcrlcjqdTqVSg8Gg3+8nEonZbFav14vFYjabFYn8OAm8Pv/1v/7XX/mVX3nb296WSCQWi8XJycnHP/7xP/7jP/7oRz8qEnnTSJCgSo4ufWJs0adOmzLbrHKfJ5zQJkaWJ1TZosQhAVlynLFHgSu0OWHAOW02uMEZRwxJUWDACUXyDDgjR5UeEwaEYbi/v7+0tJRIJOr1eqFQmE6ni8WiWCyenp4OBoPl5eVWq5XP58vl8pMnT5aWlubzea/Xu3z58mKxqFQqS0tL4/EY5XJ5OBweHh4Oh8P19fVMJnN6etrv99fX10ejUbvdnk6ntVotkUjkcrlMJtPv98MwTCQS3W53NBoVCoUgCEQiPx4Cr8Nisfj85z//yU9+8rOf/eynPvUpfO5zn1tfX//DP/zDj3zkI7FYTCTyJpNiiTwdBiTYpkWLLjWeZ50nnPKIFhkOabLOTc6ps06JKo94zBq7nHPOjD0ybLHEI5oEpMkQ0qfEgi5DaiQI6CeTk8nk5OQkn89XKpXRaJRMJtHtdvP5/Gg0Ojw8XFpaCsMwCIJarXZ2dtbr9XZ2diaTyfr6+mQymc/n1Wo1m832+/0gCDKZTK/XOzg4WFpaWltbq9frDx8+3NnZqdVq5+fn0+l0ZWUlCIJ4PF4sFjOZTL/fH41G4/G4Xq8Xi8VcLicS+TEQeB1Go9HDhw8/85nPBEHg2z7wgQ984QtfCMMwn8+LRN5kYi6kWSGkw5AcReockafK81RZ5ZTbjF24zzJrZGmSJ0mRE/ZJskqVJ4QMeECNGzR5wogUeSY0yJBlSp0sGYJyeTAYjEajMAzH43GpVJrNZvF4PJFIdLvdQqGAs7OzcrmcSqXa7XatVgvD8M6dO1euXJlMJu12u9frLRaLfD5fLBan0+lsNkskEuPx+OzsrFKpLC8vN5vNhw8fbm5urq+vn5yc7O/vb2xspNNpJJPJSqUyGo16vd5kMmm326PRqFgsBkEgEnlLC7wOQRDUarVXX331ve99r2979dVXV1dX0+m0SOTNKu5Clhw9OsyoUqLOI6psUSLDJg95lQWHnHKVHeqkGJChyn0eU+MGTfZZcE6DS7yNhzSYkGSJDj3SLvSYkJ5Os091Op3pdNpsNjNPJZPJVCrV6XRSqVQymex0Ovl8PplMxmKxfD4fBMHDhw87nc7W1tZwOOx0Os8///xoNCqVSvl8vtfrYbFY1Ov1Wq1WKpWCIDg6OgrDcG1trdlsPn78eGtrK5fLeSqdTqdSqcFg0Ov1BoNBGIaVSiWXy8ViMZHIW1TgdQiC4Fd/9Vd/8zd/8/DwEKPR6Pd///f/4A/+4Ld+67eCIBCJvLklXMiTpU+fOKsUafKQJa5ywvNc5Rs8ZMjLrLFLnjZZEjxPnSe0WOEFnlB34TFFLrPEE0ZMKDKjS0CcCbHxeDKZBEFQrVZ7vd5gMBiNRphMJul0OpfLhWE4mUwymcxgMJhOp4vFYjweFwqFcrncaDRGo9HW1tZ0Op1MJjdu3JhMJsVisVqtNpvN8Xicz+c7nU6xWCwUCrFYrNfrDYfDzc3NZDL56NGjzc3NSqXiqVgslsvl0ul0GIbtdrvRaAwGg3K5nEwmRSJvRYHX55Of/GQqlfqTP/mT+/fvf+UrX9nd3f2d3/mdT33qUyKRHxEJElTI0mNEhk3aNGmyxphzPsRP8DVOeMIBN1inR5Ieaco84Yw2W2xwjykDXmWdn+AhfULi1OgyIsFsMMhkMpOnstlsLpdrt9vj8TgIgtlsFgRBLpcbjUZhGKbT6fl8vlgsMplMs9msVCrlcrnb7d6/f39zc3MymQyHw93d3UQi0e12L126NJvN6vV6JpNJJBKz2axcLqPf7+/v7688dXh4OB6PV1ZWYrGYpxKJRLFYzGQyvV6v3W73+/2lpaV8Ph+LxUQiby2B1+f27dsf/vCHP/GJT7Tb7cViUSqVDg4OvvWtbz333HMikR8pKWoM6TGhSI4G+2RZo83/zR6cxtp2EHTD/695Hvba89lnPueeO/TeDrQyCIiVpgKJBj4oGFHESviEDfigiQQShGg0MeGTBowmYv2g9YMRE4PkkcgbTKDt7W1vudM590x7nz3vtdc8r7Xf9CRNMHLfFzlMbdfvpwO/DOwBV4Eh8DxQA+4D6gADaEAfYIAGcAgcAQrwANADTvCyPmABK0AA9IEcCAARYIEAyPPc8zxBEERRdByH5/lGo2HbdhiGi8WCIAjbtgVBYBgmjuM8z4uiyPOc47j5fC7LsqZpnucdHh6GYRicWiwW9Xr9zp07nU5neXn56OgojuNmszmZTOr1uiAI4/F4MBgYhtFoNObzeRzHS0tLFEXhFQzDVCoVQRAsyxqNRpIkGYbBsixKpdcQGj8o13UBPPnkk5/+9KdFUaRpGkAYhjdu3PjCF77w1a9+FaXSqwqBl3EAB4SAC1BAFVABE+gDBkACDnARWAeuAzeAHvB/gU3gEhABy4APjAAWGAEzYBdoA3XgFhACMXAbqAPngD7gAwlAAirgkWSWZUEQhGFoGEYcx+PxWNd1juM8z0uShGXZKIpIkuR5Pssyz/NEUSyKgmEYx3GSJNF1fbFYDIfDJEniOH7++efPnz+/vr4+Go0sy1pfXx+NRr1eb2lpaTweV6vVtbW1o6Oj6XRqGIau647jHB4edjodnufxXXiebzabvu9Pp9Ojo6N6va5pGkEQKJVeE2j8oN73vvft7e15nvcbv/Eb+C5Zlj3++OMolV6dSLxMAATAAzyAASggBCwgBVTAAwjgrcAm8CJwB7gJdIEHgAbAAjIwAHhAB06AASACV4AR0AUWwBSwgRYgAlMgAwpA07QwDKMoyrJsOBzquq4oimmaHMdVKhXLsoqiIAgiyzLf9xmGIQgiiqI0TQVBSJKkKAqCIBRFYVl2Op2GYZhl2QsvvOA4zoULF0iSfOGFF3Z2dhRF2d/fb7fbFEUJgrC1tTUcDkejUbVaFUUxiqJut9tsNhVFIQgCryAIQpZlQRAsyxqPx47jNBoNnudRKr360fhBfepTnwLwJ3/yJ08++aQoivgu999/P0qlVzMSL5MAAfDxMhZgAQewAQrggBnQAN4JbAHXgD3gP4EO8CAgAG3AAPoAD0yBEXAA1IA3ALvAFMiBI8AAloApEAFpmvI8z3Gc4zgkSTqOEwRBvV4Pw3AymWiatlgsoigiSTLLsiRJCIKgaTrLMtd1RVEMwzA9paqqYRi2bfd6vWazeevWLcuyHnjggU6nc/v27Wazee7cudu3bwdBsLy8PBgM2u22JEm9Xk87FYbhcDhM01TXdYqi8F0oiqpWq4qiTKfTw8NDwzBqtRpJkiiVXs1o/KAeffRRAHmer6ysnD9/Hq+4fv36N77xjfe9730olV7lKIACdEAAfIAEeEAETCAAKGACiMB5oAacA14EbgH/ClwELgAMsA2YgAAoQA8YAypwEZgA+0AKmIALNIACGAFZlrEsW61WHccJwzBJksFgoOu6KIqWZQmn0jSlaTpN0zzPkyQBQJJkFEU0TRMEMZ/P4ziu1+u6rnued3Jyout6lmW+71+8eHFnZyeKops3b25vb49Goxs3bpw7d+7k5KRWq+3s7Ozv7ydJUq1WAUwmkziOq9Uqx3H471iWXVpaUlV1NBq5rttoNBRFQan0qkXjbN761rf+0z/907/927/hFbPZ7Otf//p73/tegiBQKr0msAALRIAPUIAAzAEXKAAfiIEK8AagDWwCzwO7wCFwGWgCBqAAA0AG+sAMOAbqwBuBW8AUSIEuUAU6nc50Oo2iiKKoSqXC87zrukmSTKdTnucNw0jT1HVdlmUJguB5viiKMAyLosjzPE3ToijyPOc4zvO8NE2bzaYkSSzL2rYdBEGe59evXx+Pxw888ECtVtvd3W00GhzHXb9+/cKFC6ZpSpK0s7PT6/WGw2Gz2VwsFrZt53leqVQkSSIIAv+dLMuSJE2n0263q2lao9FgGAal0qsQjbP5oz/6o6eeeurcuXPPPvvsI488kud5r9f70z/9U4IgUCq9VhB4GQdwQAj4QAtQgSngAjlwAlSADqABS8AN4EXgWaAOXAYEYAXQAQaoAAdAF2gC9wEj4ACIgSng9PuNRiNN0/F4nGWZqqocx9m2HQRBFEXj8VhVVYZh4jimaXqxWDAMI0lSGIbZK2iaJkmSoqg4jo+PjxuNhq7rJEn6vn94eNhoNNI09X3/8uXLGxsb8/mc5/l2u/3SSy+trq622+0oijqdjmVZk8lEVVVBECzLKooiyzJFUSiKwn9HEES9XldVdTwe3717t16vVyoVkiRRKr2q0DiDJEm++tWvfuELX3jf+973a7/2ax/60Icef/zxT33qU4eHhyiVXnNIvEwABMAHFsAyYAMTIANMwAEawDlAB9aAl4CXgP8HWAWWABm4AIwBDhgCI8AB1oEKsAeYQBiGJycnuq53Oh3zlCzLS0tLk8nE87w0TS3L4nlekqQ8z7Msy/OcYRhVVaMoiuM4y7I4jrMs43leFMUkSbrdbpIkrVYryzKSJKfTaRAEeZ5fvXrVNM2dnR2SJIMgWF5e7na7tm3v7Oz0+/16vc7z/GAwkGVZUZT5fJ5lWRzHuq5zHIf/geO4lZUV27bH47HjOI1GQ5IklEqvHjTOYLFYRFG0sbFBkuTW1tbu7u573vOe97///R/96EeffPJJhmFQKr3mkHiZCAiADxCAAkyAKZAAXcAAqoAK1IAOcB04BMbAOqADTUABJKAC7AM3gTXgIeAuMJDlMAwnk4nv+41GQ5bl4XAYx3GtVpMkybZt13WDIIjjWJIknufTNM3zvCgKWZY5jnNdN8/zLMt83y+KQtf1OI5PTk5c193Z2UmSBEAQBPv7+0tLS2ma+r6/sbHRbDbDMFxdXe33+88888zly5cnk4mu68vLy+PxmGVZXddd181OaZomSRJBEPgfNE2TZXk6nfZ6PU3TDMNgWRal0qsBjTNgGKbRaHzzm9+8dOnShQsXvva1rwHIssx13TRNGYZBqfQaReFlGiAAHtAGdKAPWMAMcIA60AYkoAPcAp4HbgENoALowAVgAsjAIXAETIHzQOuhh27duuU4ThiGvV5P1/VOp2OaZrfbrdVqq6urk8lkPp8nSeJ5XhRFiqIQBBGGYVEUoijquu55HoAsy8IwjKKoUqkYhjGbza5du3bx4sVGo2Gapu/7R0dHURTlee77vud5KysrlmUtLy9blvXtb3/70qVLJEmyLNtqtabTKUEQlUrFsizbtvM8T9NUVVWKovA/UBTVbDYVRRmPx8fHx9VqVVVViqJQKv10o3EGJEn+zu/8zsc//vH5fP6BD3zgM5/5zBNPPHHnzp03vvGNoiiiVHodYAADiAAK2ARc4ADwgQUgATqwDshAG7gJ3AQsoA6YQBvYAnigChwCV4EdknzrW9/60ksvTSYT3/dnsxnLss1mU5Kk8XjseV6n0+F53jRN3/fzPLcsi+M4SZLSNLUsS1EUTdPCMHRdNz81nU5lWV5aWhqPx88999zq6urm5qYgCLPZrN/vh2HonYrjuNFoAKhWq4Ig3Lhxo9FobG9vJ0lSrVY9z4vjuNFoTCYT13XzPA+CoFarcRyH70UUxZWVFdu2TdN0XbdarYqiSBAESqWfVjTO5oMf/OCDDz54cnKys7Pzl3/5l08//fTb3va2J598EqXS6wOBl7FAFQgACrgMjIAu4AMRoAEGIAFVYA24CgwAGQgBCVgF6oACHAP7+/uSJN1///2TyeTmzZuO4yRJ0u12dV3vdDrj8Xh3d7fdbq+trY3HY8uy0jSN4ziKIlVVaZq2bTuO40qlwjCMbdtZluV57rpuFEWdTidJkoODA9M0H3jggbW1tcFgMJ1OwzCMoiiO4/X19Xa7uB027wAAIABJREFUHcdxpVK5//779/f3r169ev78+TzPDcPIsmw+n7daLdu2gyBIT1WrVVmWCYLA/0BRlGEYkiTNZrPxeCyKoqZpPM+jVPqpROMM4jj+2Mc+9thjj/3qr/4qgHefQqn0+kPiZQIgAD5AAXXgEOgDEVABOKAFCEAFOARuABMgB0KgBmwBIqBsbR0fHz/77LPnzp37hV/4hatXr45GI9/3LctyXbdWq8VxPBqNTNPsdDqyLA8GgziOCYJwHIdhGFEUoygaj8e6rhuG4bqu7/sMw+R5fnh42Gg0tra2jo+Pv/nNb54/f77T6WiadnJy0u/3gyAIw9BxnK2trTAMVVXd2dkZDAa3b99ut9u+77daLVVVh8Nhs9kUBGE2mwEYjUZRFBmGQVEUvheO41qtluu6tm1PJhP5FMMwKJV+ytA4A4qiDg8Pb968iVKpBJB4mQgIgA+cAxrALnAItAEFkAAOkIEWcBO4A7BADlhADVAvXlRV9fj4eG9vr9/vX7lypdPp3Lp1az6fJ0kynU5VVe10OqPRaG9vr16vb29vj0aj+XxOEERRFK7rsixLEIRpmrIs67ouSdJ8PgdAUdR4PPZ9f3V11TTNGzduDAaDy5cvnzt37uTkZDabJUnindrZ2QnD0PO8zc1NRVFOTk7CMIyiqFqtGoYxmUwqlcrS0tJsNlssFpPJJIqiRqPBcRy+F5IkNU3jed5xnOCUoiiSJFEUhVLppwaNM6Bp+nOf+9xnP/vZL3zhCw899BBJknjF29/+dpRKr0sUXqYBAsACMjAEbgMW0AQYoAIIgAosAzeBPiACKaBG0crKiiiK/X5/MBhcv359dXX1LW95y82bNweDgeM4pmmKothsNn3fn06ntm13Oh1JkobDYZIkJEkmSZLnOUmSrusWRcHzvGEYlmWFYchxnO/7+/v77XZbFMXRaPTMM8+snIqiaDKZjMfjMAwdxzl//vzS0tKNGzc6nc7Gxkav15tOp3EcB0HQaDQcx+F5vtFoWJZFUZTv+wcHB+12W1VVgiDwvXAcV61Wfd93XTcIgiiKZFkWBIEgCJRKPwVonM3nP//5mzdvXr9+nSAIvOLBBx98+9vfjlLp9Y0BKoAAcIAB3AUOgBpQBRigArBAHdgDdoE5kM5mcRxrmsZxHM/zg8Hg+PhYUZTt7e2lpaU7d+5MJhPf99M0VVV1ZWVlOBzevXu3Wq1ubGyMRiPXdQmCyPN8sVjkeZ4kiaZpPM/rui6K4nw+p2m6KIrBYKBpWrPZnM/nBwcHjuOsr6+vra2Nx2PLspIk8X3fcZytra3Dw0PDMJaXlyeTSRAEADzPa7fbSZJMJhPDMMIwFATB87yjo6NGo1Gv1ymKwvdCkqSiKBzHua6bpqnrumEYyrLMcRxKpZ80Gmfz93//9yiVSt8LgZexAAcIgAA0gDvAHGgDIiACFHAJqAJHwGEcO45jnNrY2BBFsdfreZ53cHBQr9fvv//+Xq93fHxsWdZ0OlUUZWlpybZt0zRt215dXVUUZTQaLRYLACRJ5nlumqYgCJqm0TRtGIbjOEmSkCRpWVYYhtVqNYqi2Wzm+3673W61WpqmjUaj4XAYhuFkMrly5cpisbAsa3t7O03TMAxFUez1epqmybI8Ho+r1episTAMIwiC8XjsOM7y8rIoirgHlmUNw/B93/O8xWJh2zbLspIkMQyDUuknh8bZqKqKUql0byRexgM8IAIy0Ae6gAg0ABkggGWgCrTe/Oa9vb3RaGRZVqfTabfbqqru7e2ZpjmdTgVBaLVahmEcHR2dnJy4rhtFkaqqq6urk8nk7t27qqp2Oh3TNKMoStMUAE3Tvu+HYVir1TiOU1U1jmPf92majuN4OBxWq1VN0xzH6Xa7ruuurKwsLy/P53PLsoIgcF33woULq6urN2/ebDabmqZ5nifLsuu6URTJsnxyctJqtQiCUFVVUZR+v3/79u3V1VXDMAiCwPdCEIQsyyzLep4HoCgK0zTFUxRFoVT6SaBRKpV+9Ei8TARWAAOoAIdAH5AAA0jwsvX1dV3Xe73e/v5+t9sVRXFtbe3hhx/e3d09PDz0PK8oClmWNzc3DcM4OjoyTXM+n4uiWKvVFEUZjUa+7zebTUEQ5vN5kiRZlvE8n2XZeDyWZblSqdA0rShKHMcEQSRJYpomz/OGYdi2PZvNoihqNptLS0s8z89ms+Fw6Pv+aDS6fPnyYDBwXbfVaoVhKAhCmqZBEFAU1e12G40GAI7jNjc3h8PhwcGBbdvLy8ssy+IeWJatVCpBEHiex3FclmWmaUqSJAgCQRAolX68aJRKpR8XCi/TAAEwgCNgDAwAFRCBiGF0XRcEoVKp9Pv9vb29GzdutFqtixcvLi8vP/PMM7Zt53nOcZwkSRcvXjw55ft+kiSSJK2trU2n036/L0mSrutRFIVhmKYpQRA8z7uuG4ZhtVplGIZlWYZhAGRZ5vt+HMeqqqZpGgTBwcGB67oXL15kWXY2m1mWlaap4zgXLlxYLBZJktRqNYqiaJoGwDAMz/MnJyeVU0VRLC8vq6p6fHx88+bN9fV1TdNwDwRBSJLEsqzneYvFguf5KIrCMJRlmeM4lEo/RjTO5uTkhGGYRqOBUqn0fWOAFqABPaALOAANqOzLFovF8vKyLMuVSqXX6x0fH89ms83NzXe+8503bty4c+dOkiSLxYKm6ZWVFU3Tjo+P5/O5bdtJkqiqKgjCfD6P41iWZVVVfd+P4zjLMp7nsywbj8eiKMqyvFgsRFEsisL3/TzPHceRJElVVdu2x+NxkiTnz59vtVrmqfRUs9nc3NyM41g/pShKnueO42iaZtu24zitVmuxWGiadunSpePj45s3b3ZOkSSJe2AYRtf1IAg8zxMEgSRJx3EYhpFlmaZplEo/FjTOIIqixx9//Pd///c/9KEPoVQqfd8IvIwDtoEqcABMAMuyWJYVBCHPc13XWZaVJKlare7v7+/u7qqqeuXKlXa7/eyzz87nc03TkiQRBOHChQuDwWA4HEZRFMexLMuNRmM+nzuOIwgCx3E0TSdJkmUZQRAcx8VxnKapoihZljEMU6lUHMdJksT3fZZlVVUNgsC27atXr25ubm5sbPA8PxqNBoNBHMeu666trQVBEEVRGIa6rvM8b5qmruskSR4dHdXr9TRNDcPY2trSdX1/f9+27Y2NDUmScA8EQUiSxHGc67ppmsqynGXZbDYTRVGSJJIkUSr9iNE4A57n3//+93/lK19573vfq2kaSqXS/waJl6nAA0AfONZ1z/OCIOA4jiRJQRA4jpMkSVGUfr9/eHj4/PPPdzqdd73rXS+88ML+/j7P8wAIgmi1Wpqm9Xo927Y9z6NpWtO0JElc182yTBRFlmUBZFmW5zlO2bbNcVxRFEmSqKoaRZHv+0VRpGkqy3KWZVEU3blzZz6f33fffVtbW71ebzQaRVGU53mlUonj2HXdLMtUVa1Wq47jMAyjqqpt2/6ppaWlWq2mKMrh4eFLL720srLSbrcJgsA90DRdqVSCIHBdVxAEXdfDMJzNZpIkCYJAEARKpR8ZGmczGo00Tfu5n/u5ra0tvEIUxaeeegqlUun7QONlq0DlgQeOjo7G43GWZXmeUxRFkmS1WuV5nmVZXdePj497vd5sNrtw4UK73b569WoQBBzHFUXBMMza2trsVBAEnufxPK9pmud5tm1zHMeyLEmSWZbleb5YLBiGieM4z3OKotI0VVVVEATLstI0dV1XFEVBEOI4Ho1GrutevHjxvvvu6/V63W43juM0TX3fb7VanudVq9U0TZvNZhzHw+GwVqstFovZbBaGYafT0TRtZ2dnNBrt7+/btr2xscHzPO5NFEWWZT3Pc11XURRBEDzPi6JIkiSO41Aq/WjQOJtms5nn+fLyMr4LRVEolUr/K//n/yg8f+HCBcMwRqPRfD5PkoQkSc/zOI5bXV1VFEUUxdFo1Ov1bt261Ww23/nOdz7//POj0UiSpCRJiqKo1WqCIEynU8/zwjBkWVaW5ejUYrEQBIGiqCiKAKRpSpIkQRBxHDMMY1kWx3GGYbiuG8ex7/ssywqC4Pt+FEXXr1+fzWaXLl3SNG13d3d/f7/T6RRFUalUwjD0fT9JkmazqWnacDisVCqCIERRdHBw0Gq1qtVqq9VSVXV/f//FF19cX1+v1+sEQeAeaJrWdT0MQ8dxOI7TdT2OY8dxWJaVJImmaZRKP2w0zuYzn/kMgKIofN8HIEkSSZIolUr/W5aFKKIVpd1ua5o2GAxM07Rtm6bpoihs267VaqqqCoKg63qv15tOp77vX7lypdPpXLt2jeM4QRB836coqtFoiKLouq7neWmachxH07Tv+57n0TStaZrneYvFoiiKNE05jsuyjCTJMAyzLFNVlWGYMAyjKMqyTJblIAjSNO12u47j7OzsPPjgg8enPM9LkkSW5TRNPc+zLGttba3RaFiWFQSBpmkURU0mkzAMa7WaJEmXLl3q9/v7+/uWZa2trXEch3sTBIFlWc/z5vO5LMuGYQRBMJvNJEkSRZEkSZRKPzw0zmaxWDz11FNf/vKXDw4OiqLY2Nj48Ic//MEPfhClUukHQhCEJEmrq6uqqlqWNZlMPM/jed6yLJqm19bWdF1nWVaSpMlksru7u7S09PM///PXrl1zHEeW5TRN4zgWBIGiKIZhwjD0fZ+maUVRoiiK4zjPc1EUi6KI4zhN0ziOWZYFsFgs4jg2TVMQBFEUk1O2bauqmmVZEASWZb3wwgvz+XxnZ0dRlL29Pd/3O51OFEWVSiXP89lstrW1tba2FsfxcDhUFEVV1TiObduOokiSpE6no6rqwcHBd77znbW1NcMwCILAPVAUpWlaGIau67IsK8syz/O+75umKUkSz/MEQaBU+mGgcTZ/9Vd/9elPf/qJJ5743d/93cVi8a1vfeuTn/xkGIYf+chHUCqVvn+mie/CsmytVhNO+b4/HA6LolgsFqPRqFqtXrp0SRRFVVWHw+FsNuM47uGHHz4+Pr579y7LsrquR1HkeR4AhmEkSbJtO0kSQRAoioqiyHVdURRlWQ7DME3TKIqYU2maZlnmeZ4gCAzD8DxfFIXjOAzD6Lruum4YhgcHB67rrq+vX7ly5fj4+OjoqF6vh2Ho+361Wg2CwHGcixcvNpvNXq8Xx3GWZXmeG4YRBEEURbIsX7p06eTk5ODgwLbtTqfDcRzuTRAElmU9zzNNU5ZlXdejKPJ9PwxDWZZZlkWpdGY0ziDLsr/927/94z/+4yeeeAKnfvmXf3ljY+Nv/uZvPvzhD9M0jVKp9IMiSVJRFJZlbdtWFMU0zeFwmOf5fD5nWXZjY6PRaPA8P5vNRqPR3t7eyspKtVp96aWXXNfleV7X9TiOTdNcLBbVatVxnCRJCIIQRTFJkiAIoiiSZZmmaYZhgiDI85zjuMVikaZpEAQsyzIMQ1GUIAhxHFuWJctymqZJkozH4yRJWq3WysqKoii9Xi+KoizLTNPsdDoEQViWdfHixbW1tdFo1O/3VVVNkqTdbkuSZFkWx3FLS0uqqvb7/du3b3c6nWq1inujKErTtCiKPM9LkkSWZcMwgiCwLIvjOEmSaJpGqXQGNM4gy7L5fH7//ffjuzz44IPj8ThJEpqmUSqVvk/dLr4XjuOq1arneRRFGYYxOBWG4cnJiWEYDzzwQK/XEwRhPB6PRiOapn/mZ37m6Ojo5OSEoiiWZVdWVubz+WQy4XleVVXLssIw5DiOJMkwDC3L4jiOZVlN04JTLMvyPB/HcZqmRVHQNE1RFM/zi8XC8zyKonieT5JkOp36vh9F0dLS0tra2mg0Mk3TMIyDgwPLstrtdhRFq6ur58+fd113Op16nhdF0erqar1ej6LIsixJktbX10ejUbfb9Tyv1WpxHId743meZVnP82azmaIokiTxPO/7vmma4imSJFEq/UBonAHHcSsrK//6r//60EMP0TQNIM/zr3zlK9vb24IgoFQq/TBQFKVpGsMwnuetr6/X6/Ver9fv98fjcRRFS0tLtVrt4OCg2+3OZrPj4+N2u12r1fb29nzfz7KsUqnwPD8ej+M4FkWR4zjXdWmaVhQljuMoirIsY1lWFEWO41zXzfNcFMUkSeI4zvOcZdmiKCiK0jTNPyVJUp7nYRgeHR0FQbCysrK0tDQej03TrNVqlmWZptnpdLIs833/4sWLS0tL3W73+Pg4SZIoilZXV3me930/z/NGoyHLsmmau7u77XbbMAyCIHAPJEmqqspxnOu6cRzLsqyqqiAInueZpilJkiAIKJX+92icAUEQH//4x3/7t3/7W9/61kMPPQTg2rVrL7zwwl//9V8TBIFSqfTDI4oiy7Ku60qSdOHCBcMwut3uaDRyHKfZbF68eLFWq+3t7Y3H4+FwKEnS5cuXu93udDqNoijP8/X19ekpAJqmJUkSx7EgCCRJJkkSRVGWZSzL6rrun+JPxacYhimKIssynucFQbBtm6IojuOyLBuNRnEct07NZrPBYNBsNnmePzg4mE6n29vbvu/fd999m5ubR0dH+/v7juOEYbi1tVWpVMIw9H2fpul6ve553nA49Dyv2WzyPI974ziOYRjf903TlGVZFMVKpRJFked5URRJksSyLEql/w0aZ/Oud73rK1/5yj/8wz9cv36dIIgrV6587nOfe+SRR1AqlX7YaJrWdd0/1W63DcM4OTk5ODg4PDysVCorKyuqqh4fH+/v789ms16vV6/XdV0fjUa2bXueJ8uyKIrj8TgMQ47jACRJwvM8SZJJkmRZVhQFSZKSJBVF4fs+AJ7n0zSN45iiKJqmfd9nWbZWq7muGwQBx3GLxcI0zTAMgyBot9uiKA4GA1mWNzY2BoPBc889t7a2Fobh9vb2+fPn+6csy/I879KlS6qqchwXBIHv+6IokiSZJMn+/n6j0ahWqwRB4B5IklQUhWVZz/PiOFYUhed5juOCILAsi+d5SZIoikKp9P2hcQZxHH/sYx977LHH/uzP/gylUuksbt3C94EgCFmWWZZ1XZdl2e3t7Uql0u/3d3d3X3zxxfX19StXrhiGcXR0dHx8PB6PVVVdWVmRJMl1Xdu2F4tFu922LMt1XeZUFEX0qSAI8lOu67IsqyhKFEVpmlKnkiRZLBYkSSZJMp/PNU3jed6yLJZlGYYJw3A4HIZhuLS0tLy8PB6PX3rppZ2dnVqttr+/PxgM5qcefvjher3+4osvPvPMM9Pp9M1vfnOtVpNlmed53/ezLCNJkmXZ6XTq+36z2eR5HvfGcRzDMEEQzGYzWZZFUZQkied53/dns5kkSaIoEgSBUun/D40zoCjq8PDw5s2bKJVKP0Ysy1YqFc/z4jiu1WqqqlYqlb1Tw+FwZ2fHMAxN046OjobDoW3btVpNFEVZlk3TdF1XkiSWZR3HSdNUEIQwDFmW5TjOdd04jgmCSJIkTVOe51mWjaJosVgwDFMURX6Koqj5fM5xXKvVms1mURSxLBvH8WQyybKsWq0ahhEEwa1btxqNxuXLl4+Pj5955pl+vz8cDt/ylre89a1vfemll65fvz6dTh999NHV1VWapjVN43nedV3P80RRLIri8PCwVqsZhkGSJO6BJElZllmW9TwvSRJZlhmGUVWV53nf98MwlGWZ53mUSv+faJwBTdOf+9znPvvZz37hC1946KGHSJLEK97+9rejVCr9yJAkqapqFEWu63Ict7a2pmlap9O5c+fOM888s7q6evny5Xq9fnh4eHBwMJvNRFGUZZnnecdxZrMZQRC6rtu2nWUZRVFBEADQdd113TAMiVOe57Esy/P8YrHwPI+maY7jkiTJ8zzLsqIo8jyXZTnP8yiKFosFQRCmaeZ5niSJoii1Wm0ymdi2vbW1VavV7t69O51OZ7PZG97whje96U2NRuPq1atPP/30O97xjoceeoimaY7jWJYVRXE6naZpKknSfD73fb/ZbPI8j3tjWbZSqfi+b5qmLMuiKLKnwjD0PC8MQ1mWGYZBqXQPNM7m85///M2bN69fv04QBF7x4IMPvv3tb0epVPoR43meYRjXddM0NQxDkiRd14+Ojvb39weDwYULFx5++OFKpXJ4eNjtdieTSbValU/N53PbtjVN8zwvjmNVVaMoCsNQkiSe5+fzeVEUDMNkWea6riAIuq7HcZymKUmSBEGkaZplWVEUWZaJoqgoShiGaZouFgvLsqIoSpJE1/VKpeL7/q1bt9rt9n333dfv92/cuNHv909OTt7xjnc8/vjjV69e/Zd/+Zejo6Nf/MVfVBSFIAhRFDudjmVZk8lEEASCII6OjqrVqmEYJEniHgiCkGWZ4zjXdeM4lmWZZVlBEDiOC4JgPp/zPC9JEkVRKJX+Bxpn88UvfpGiKEEQUCqVfhIoitJ1PQgCx3EkSep0OqIoVqvVg4OD69evV6vVra2tdrtdr9d3d3en0ylN0yzLNhoNRVHm8zlJksEp9pTneRzHtVqt+XweRRFFUQDCMIyiSJZlQRAsy6Ioiuf5JEmKogjDsCiKNE1ZlqUoKo7jxWIRBMFisUiSxDAMQRBIkhwOh67rLi0taZo2GAy+8Y1v9Hq9t73tbVeuXGm3288999zJycm73/3u7e1tkiQpiqpWq7IsD4fDMAwlSZrP577vNxoNQRBwbwzDVCqVIAjm87l0iiRJWZZ5nvd9fzabSZIkiiJBECiVvguNM4ii6D3vec8nP/nJX//1X0epVPrJEUWRYRjXddM0rVarsiwLglCtVrvd7re//e3Nzc3777+/VqvdvXt3d3fXtm1FUSiKarVasiybpklRlOd5aZqqqhoEQVEUrVZrPp9blkWSJMuyaZq6rsuyrKIoaZpGUcQwDIAoitI0zbIsTVOe5wVBSNM0z/MoipIkSdO0Wq0KggDAcZwsyzRNazQaURTt7+/PZrOjo6M3velNP/dzP3fjxo2nn376zW9+85ve9CZJkgiC4DhubW3NNM3RaCQIAoBut2sYRqVSoSgK90AQhCRJLMt6nmeapqIoLMvSNK1pWpIknudFUSRJEs/zKJVeQeMMeJ5/9NFHv/a1r/3Kr/wKy7IolUo/OQzDVCoV3/cty1IUZWNjQzvV7/cHg8FwOFxbW3vzm9+8vLx87dq10WiUZZksy4qisCwriqJpmpZl+b5P03RRFEEQVKtVWZZHo1GSJBRFFUURx3GWZYIgKIoShiFBEIIgpGmaZVkURUVRcBxHURRJkhRFpWlqmmaaprVaTVEUgiDiOJ7NZkmSKIpSq9Usy/qv//qv0Wj00EMPra+vG4Zx9erV0Wj0lre8ZWlpieM4AIZhiKI4mUyiKOJ5fjab+b5fr9dFUcS9MQyj63oYhpZlCYIgSRJJkizLViqVKIo8z4uiSJIkhmFQKgE0zqbRaOR5/u53v/vSpUt4Bcuyf/7nf45SqfTjRRCELMsMw7iuyzBMtVpVFEUQBFVVx+Px3bt3VVVdWlp65zvfubu7e+3aNc/zBEFgWbZarSqnJpOJbduLxYLjOMdxFEXZ2Ng4OTnxfZ8gCIZh8jz3fZ/jOIZh8jzPsoxlWYIgsizL89zzPEEQWJYtioJhGJqmfd9PksQ4xbKsZVmmaS4WC4ZhJElaLBa7u7uz2ezy5ctbW1s7OzvD4fDf//3fH3zwwe3tbVVVGYbheb7T6cznc9u2WZbNsuzk5KRSqei6TtM07oEgCFEUWZb1PG8+n8uyzHEcQRCCIHAcFwSBaZriKYqiUHp9o3E2h4eHSZKsrq56nodXMAyDUqn0E8JxHMMwrutalqUoysbGhqZpoihqmjYajXZ3dw3DuHjxYqfTefbZZ7vdbhRFoiiyLNtoNCRJGo/Hs9nMdV2apoMgYBhmc3NzNpsNh8M8zwmCKIoijuM8z2maZhgmyzKaphmGCYIAQBRFeZ5zHJdlGUVRgiAkSTKZTHzfb7fblUrFtu3ZbCZJkqZpi8WiUqnM5/Nvfetbrus2m81Go1EUxbVr1yzL2tnZMQxDkiSapqvVqiAIpmkuFossy6bTqe/79XpdEASCIHAPNE3ruh4EgW3bPM/LskyekmWZ53nf903TlCRJEASCIFB6vaJxNl/84hdxKo5jiqJomkapVPpJI0lS07QwDG3bFgShXq8ritLtdhmGCYJgNpvt7e3V6/XHHntsb2/v2WeftW2b4zjlFMdxoihaljWZTJIkSdN0PB5XKhVJkobDoeM4NE0XRZGmKUEQABiGKU5JkhQEQVEUURQtFgtBELIsS5KE53mCIFzXzbKs0WhUq9UwDC3LiqLIMAzHcURRLIri2rVra2trQRDwPF+tVk9OTqIoOnfunK7riqKIp2iadhwnz3OapoMg6PV6hmFomsYwDO5NFEWWZT3PM01TlmWe5wHQNK1pWhzHvu+HYSjLMsdxKL0u0Tizf/zHf/zyl798fHz8h3/4h9euXXvwwQc/8IEPoFQq/aQJgsAwjOu6pmmqqrq9va1pWrfbZRjG933LsqbTaavV+qVf+qXnn3/+zp078/lclmWWZVutliRJHMfZtj2dTouiME1TkqTNzc3BYGCaJkmSWZbFcUzTNACCIGiaTtNUFMX0VJIkeZ7zPM8wTBiGJEnyPJ+m6WAw8H1/aWmp1WpNp9PBYGAYBkmSNE0LgnD37l3Hcc6fPx+GoaqqBEHcuHFjfX291WpFUSSeMgzDdV2CIHietyxrNBq5rluv1yVJIggC90DTtK7rYRi6rpskiSRJFEUB4DiOZdkwDB3HYRhGkiSGYVB6naFxNn/3d3/3iU984iMf+UilUgHQaDT+4A/+wPf9J554AqVS6SeNpmld14MgME1TluVGo6Fp2vHx8Wg0kiQpCIKTkxNBEB555JHV1dWrV68Oh0OWZavVqmEYAARBUFW13+/btu04TpIk9XpdUZTxeOz7flEUaZpmWcYwTFEULMvmeU5RFE1Ez6TRAAAgAElEQVTTQRDkeR6GoSAIHMfFcRxFEcuyi8XCtu0kSQzDqFarQRBMp1NRFCuVCkVRqqrO5/Nnn332/PnzeZ5bltVqteI49jxvbW2tKIowDCVJUlU1DEPXdRuNRhRF0+m03+9rmlapVFiWxb0JgsCyrOd5pmkqisLzPACCIERR5Hne933TNEVRlCSJJEmUXjdonEGe51/60pc+//nPf/SjH/3N3/xNAJ/4xCdardZf/MVf/NZv/RZFUSiVSj9pBEFIksQwjOu6SZIoinLu3Dld1w8ODgiC2NjYcBzn8PBQ1/VHH3309qnxeKyqaq1W43kewNbW1nw+7/V6QRDkeS4IwsrKynQ6tSyrKIo4jrMsI0kySRKe59M0zbJMFMU4jsMwzPNcFEVBEJIkiaKIYRiSJIMgyLIsiqJqtdput+fz+WAwMAyDZVlJkuI4vnbt2sbGxvLycrfbVRTF87wwDNfX16vVqu/7YRhKklSpVFzX5Xl+bW1tPB4Ph0PP8xqNhiRJJEniHiiK0jQtiiLXdeM4lmWZoigAJEkqiiIIgud5s9lMkiRBEAiCQOl1gMYZpGk6m80efvhhfJdz584Nh8MoiiRJQqlU+unAsmylUvF93zRNRVEajYaiKL1ebzgc6qdOTk48z9vc3KxWq7dv3+73+67rLi0tqap6dHQkiuKlS5eOjo5M08zzPEmSSqXC87xpmgzDhGGYpmme51mW8TwvCEIQBAzDUBSVpqnv+2maSpJE03QURQRB0DSdpul8Pk+SpFqt1mq1KIrm8zlN04vFQlEUiqL29vbm8/n29vZ8Ps/zPAgC0zR3dnba7bYsy47jMAwjy3J0qtPpeJ43GAx6vZ6u64ZhcByHe+N5nmEY3/dN05RlWRAEnKJpWtf1OI49z4uiSJIkjuNQeq2jcQYcx62trX31q199wxvegFf8x3/8x+bmpiAIKJVKP01IklQUhWEY13XTNJVleXt7W9f1w8NDz/M2NjZc1+33+xzHPfDAA41GY29vr9vtqqp64cKF4+Pj8Xh87ty56XR6cHCQnZIkqdPpjEajxWLBMEySJEVRRFGUJIkkSVmWFUVB0/RisUjT1LZtURQVRQmCoCgKAEVRhGE4GAx0XVcUpdlsOo4zGAyCINA0rd1uTyaT55577ty5c4vFIs9zALZtb29vr66uNhoNkiRt2+Z5nmVZy7IURdnZ2Rmdcl232WwqikKSJO6BoihVVaMo8jwvjmNZlmmaximO41iWDcPQcRyGYWRZpmkapdcuGmdAEMTv/d7vffjDH37hhRcoirp9+/YHP/jBr3/961/60pdIkkSpVPrpw/M8wzCe55mmqShKvV6XJKnX6w2HQ57nz507Nx6PPc+rVquiKPZOdbvdTqfTaDRu3rzJ8/wb3vCG3d1d27bzPKdputVqeZ43m80IgsiyLM/zNE0dxxFFURCEMAwpigJQFIXneWmaKoqSpmkcxyRJEgSxWCxs287zXBAEWZYVRZnNZo7jGIbRarVs275161ar1arX63EcG4bxne98Zz6fb25uLi0taZpWFEUYhgzDeJ7HcVyn01FVtd/vd7tdVVUbjQbP87g3nudZlvU8zzRNWZZFUcQpgiBEUeQ4LgiC2WwmSZIoiiRJovRaRONsHnvssX/+539+6qmnvvOd7/znf/7nhQsXnn766Z/92Z9FqVT6aUVRlKZpQRDYti2KoiRJ29vbuq53u13HcVqtVhRFo9FIFMWlpSXDMI5O1ev1N77xjfv7+ycnJ1tbW5ZldbvdPM8nk4koiisrK5PJxPM8iqIYhonj2Pd9hmEEQSiKIooiABRFxXGcJImu66qqhmGYJEmapkmSAIiiKI5jRVGq1Wocx47j2La9vLzcbreHw+F8Pl9eXvY8r9lsnpycuK47n8+XTqmqGsfxYrEIwzBJEk3Tzp07N51OJ5OJ7/v1er1SqVAUhXsgSVJVVY7jPM9LkkSWZZqmcYqiKEVReJ73fX82m8myzPM8QRAovbbQOLOHT6FUKr2qiKLIsqzruvP5XFGURqMhSdLJyclwOKRpem1tzbIshmEcx9nY2KhWqwcHB1EUbW5u1mq1Gzdu0DR94cKFg4ODOI7DMIzj2DAMjuPm83lRFBzHLRaLOI6TJFFO+b6fpilN0wRBWJbFcZymaXmex3Gc57njOIIgEASRZRnLsoZh8Dzvum6325VleXl52bKsw8PDSqXi+36n08lPua47n887nU6r1eJ5PggC3/eDIKjVaq1WS5bl4XDY7/dt2261WpIk4d44jmMYxvd90zRlWRYEgSAInGIYRtf1OI49zwvDUJIkjuNQeg2hUSqVXq9omtZ13fd90zQVRZEkaXNzU9O0Xq9n27aqqoIgiKI4m82KorjvvvsODg7u3r27vLz8yCOP3L17dzAYrKys2LY9n88BzOdzjuOWlpYsy3JdlyAISZKiKHJdl2EYRVGyLPN9P89zmqaTJJlMJpVKhef5OI6zLHNdN01TTdMATCYTWZYlSRIEwbKs27dvN5tNTdNs2/Z9PwzD1dXVPM/DMMyyzHVd0zRXVlYqlYogCPP5vN/va5pWq9XW1tYsyzJN8+DgoFqt1mo1hmFwDyRJKorCcZzrunEcy7LMMAxewXEcy7JhGNq2zXGcJEk0TaP0mkCjVCq9jhEEIcsyy7Ku6yZJoihKo9EQRXEwGIzHY5IkK5WKIAiGYRwdHa2srARB0O12dV2/fPlyo9G4ffs2x3HtdtuyrMViURSFbduiKPI8P5/PkyTheb4oijAMLcviOE6W5egURVEEQcxmM+lUnudxHKdpOhqNDMNQFMVxHIZhdF2vVqthGM5mM5ZldV0HMBwOfd9fW1tTVdV13bW1NZqmHcep1+vr6+vNZjMMw9Fo5Hles9ms1WqiKE6nU8uyHMep1+uVSoUgCNwDy7KGYfi+b5qmLMuiKBIEgVMEQYiiyHGc7/uz2UySJFEUSZJE6VWORqlUet1jWbZSqXieZ5qmcorjOFmWp9PpfD6naVrXdUVRer3eycnJuXPnut3u/v7+2traI488cufOnclkoigKwzBBEDAME0XRYrFoNBq2bbuuS1GUqqq+78dxnOc5x3EkScZxXBQFwzBBECRJIssyz/MEQfi+b5qm53m1Wo1hmOl0KsuyKIoMwyRJMv1/2YMTIMvOgn7Yv3PO+5793HPu2nv37GsISRiSkMQ/aExCBYUKikhRgRJxiUshggTZBCHBCAhBBTFAVbQsi2ITBGKhFChL/tZMEoaQWbt7pve+fe89+77d7+NWzVfxgyjSCunkPE+/L4qiJElxHJ86dWp6enpiYmJhYWEwGBw6dKjX6zmOMzmye/fufr9/4cKFdrvdbDYnJydd1/V9f3Nz03XdsbExSZLwBBiGUVWV53nf95Mk0TSNUopLOI6r1WqSJPm+b5qmoiiiKDIMg8qORfA/YWlpaXNzU9O0ZrM5NjaGSqWy07AsW6vV4jj2PC9NU1VVx8fHFUWRZXlrayuOY4Zh9uzZ02w2T506NTc353ne+fPnJyYmLr/88o2NjYWFBQA8z8dxXJZlURRBEAgjpmkmSaIoSlEUURSFYSiKoiRJSZJkWcYwTJ7ntm1LI7VaLUmSMAw3NjZ0XW80Gp7nJUmi67okSSzLMgwzGAw0TZNleXl52XGcvXv3Jkniuu7hw4cnJyeXl5e3trbm5uY6nY6qqt1u1/O8TqdjGIYgCJTSOI4XFxdbIxzH4QnwPF+v18MwNE1TGWEYBpdQSuv1ehzHQRBEUaSqKs/zqOxMBNvjuu5rX/vaBx54II7jD33oQ8ePH7cs633ve1+9XkelUtlpRFGklHqeZ1mWpmm6rvM8L0mSZVmmaUZRJMvyc5/73DNnzsRxfPDgwcXFxSAIpqenVVVdXl5eX18vy5IQEkVRkiRZlgFotVrBiCAImqaFYZgkCSGEjiRJgpEgCIqikCRJEASe5z3PsywrDMNWq1WWpWVZsiyLohhFUa1WK4qi1+spiuJ53qlTp/bs2TMcDk+cODE5OXn55ZcDOHfu3NbW1tyIaZr9ft/zvHq93mw2fd8XRdF1XcdxxsfHa7UangDDMIqi8Dzv+75lWaqq8jyPxxFFURCEMAxt2xYEQVEUQggqOw3B9txzzz0nT578xCc+cd999wF4+ctffuedd77rXe963/veh0qlsgNxHGcYRhiGlmWpqirL8tjYmCzLkiQNBgPf923bPnLkyNjY2MmTJ/fs2TMYDBYXFzudzsGDB3VdX19f73a7wojneXmep2kqiiKAOI4ZhlFVNUmSOI4ZhhFG8jxP05QQkqZplmWKovA832w2wzB0XXdra0vTNF3XXddNkqTRaCRJMhwO6/W64zgMw6RpeubMmbm5OcMwVlZWLMvav3//4cOHsyz7zne+Mz4+Pjs7K0mSaZqWZYmiKEkSz/McxxVFsb6+7jhOp9MRBAFPgFJqGEYYhpZlybKsKArLsriEYRhFUURRDILANE15hGVZVHYOgm1IkuSLX/ziXXfd9VM/9VP33XcfgKuuuurOO+983etelySJIAioVCo7kyzLlFLP89I01TTNMAxKqSiKjuOYprm5uSnL8s/+7M+ePHkyyzJN0zY2Nmq12sTEhKqqgiD0er0wDA3DCIIgSZI8z3me5zgujuMsyziOk2U5SZI0TTmOoyNhGA6HQ4ZhPM8TBCFN01qtJstyr9ezbTuOY03TCCH9fl+SJE3TwjBUFAVAEARFUZw/f77Vau3bt8/zvEceeaTb7V5xxRXtdttxnBMnTszNzbVaLd/38zz3fZ8QIstykiTNZjOKosXFxVar1Wg0OI7DD8IwjKIogiB4nmdZlqqqgiDgcTiOq9VqoigGQWCapqIoqOwcBNswHA7zPFdVFY/D83yWZWVZolKp7GSU0nq97vu+aZqapqmqyvM8pVSWZVVVe73e+vr6lVdeOTU1dfLkyZmZmcFg0O12O53Onj176vX6+vp6v9+XJInn+SAIkiThOE6SpCiKyrIURZFhmDzP0zQFIAiCqqpJkqRpCiDLsrIs8zxXFGV6errb7YZhWJZlmqaqqpZlGYZhs9nkOC7LslqtFkWR7/tZlkVRNDc3p2naysqKaZqHRxqNxvr6eq/Xm56eFgQhz3OGYeI45jhuOBxKI67rep7XbrdVVWUYBj8IIaRer4dh6DiOJEmKorAsi8fhR+I49n3ftm1BECRJQuVJj2AbRFG84YYbPvCBD+zevRsj6+vrH/nIR66++mpJklCpVHY4hmE0TeN53vO8NE1VVW21Wp7nUUplWR4MBouLi61W62d+5mceeeQRlmXDMOz3+4qitNttSqkkSaZp+r5PKXVdN4oilmUNw/B9P45jURQ5jmNZNhkhhIiiSAgJwzAboZQWRZEkSbvdTpLENE3XdfM8lyRJVdWtrS1ZltvtdhzHqqpyHBcEQb/fT5JkbGxsYmIiTdOHH354ZWXl8ssv37dvX1mW58+fNwyj1WoVRSHLMoAwDBmGKcuy0WikabqxsaGqarPZFAQBT0CWZZ7nfd83TVPTNEEQ8B+JosjzfBAElFJUdgKC7Xnzm9/867/+69ddd1273T5//vydd965a9euj370o6hUKk8VgiBQSj3PsyxL0zRd13meZ1lWEARd15eXl03TvPrqq5eXl+fn53medxxnOBzW63VCiCRJtm33+33DMHieD8MwTVNRFDmOi6JIlmVKKcMwRVFkWVaWJc/zuq4nSRJFUZZlw5HNzU1d16empvr9fhRFRVHEcWwYRhiGKysrjUaD53lFUQRB8H3fNM0kSWzbnp2dNQxjMBh8/etfX11dvfzyyycmJqIoWlhYaDabeZ6rqlqv16MoCsMwiiJCSKfT8TxvdXXVMAxd1wkh+EEIIYZhRFHkuq4gCKqqsiyLx2FZVpZlVHYIgu2ZmZn57Gc/+61vfevUqVNlWR48ePD6669XVRWVSuUphGVZXdejKHIcR5IkVVXb7bbneRzH7d+/v9vtnj59enJy8rrrrjt58qQgCP1+P45jRVEopYQQRVG2trY4jpMkyXEc3/cZhtE0zfM8lmUlSUrTlGGYNE2TJBFFkRBSq9WCIMjzfDgcFkWR53kcx61Wy3Vd3/fLsrQsi1Jar9e73a6maYZhCIIgSZIgCI7jJEkyHA5t2x4bGxNF8ezZsxsbG8985jP37ds3OTnpOI5lWcZIo9GQZTkIAs/zoijSdb0oCsdxPM9rtVqyLLMsix9EkiSe533fN01TVVVRFFHZmQi2Z2lpCcDeEYwMBgPTNBuNhqqqqFQqTyGSJFFKPc+zLEvTNMMwKKW2bU9PT7darXPnzuV5fuzYseXlZZ7nHceJoojn+fHxcdM0y7IMgsB13UajwXFcEARZlqmqmiRJFEWiKFJKWZaN4ziKIkEQAMiynGVZHMfD4bAsy6Io8jzXdb3RaPi+n2VZWZbdbtcwjCAIoihqNpuCIOi6rqpqr9frdrvRiK7rnU4HwIMPPri6unr06NG5uTnDMPr9vmVZtm1PT08bhiFJkuM4pmmKothut4MgGAwGvu/rui5JEn4QjuN0XY+iyPO8JElUVeU4DpWdhmB77rjjjkcffdRxHFEUAcRxXK/XOY4TRfG2225761vfKooiKpXKUwUhxDCMMAxN01RHeJ63bZvjuMsvv3xjY+P06dPT09ONRuPs2bOu69q2PRwOW62WKIpbW1uCINi2zfO8LMumaUZRRCllGCbLMo7jJEnieT4aIYQIgsBxnKqqcRynaQogCII4jlutlqZpQRCUI7Zt8zyvadrW1latVlNVlRAyNTXleZ5t21EUJUkSx3G73W40Gpubm71e7+DBgwcOHJicnEySpNfrWZY1PT09OTnZbrc1Tev3+xsbG41GQ5Zlx3F6vZ46wvM8fhBJknie933fNE1VVSVJQmVHIdieO+644y1vecvdd9995ZVXMgxz8uTJe++99z3veU9Zlm9605tardZrX/taVCqVpxCGYRRFoZR6npdlmaqqrVbL8zzf96empgzDOHfuXFmWl1122draGqU0CIIoiiRJmpub29jYoJR6nseyrCiKg8HAdd2yLAkhRVEwDCMIAsMwhJAoipIkIYQAEASBZdk8z4uRbrerqqqu63Ec53nOMEyapoPBQNd127bTNDUMI8sySun4+Ljnea7rJkkSx7HneY1GwzCM73znO6urq0eOHNm/f//s7OxgMFhcXOz3+7t37zYMY2pqyvO8brdLKa3X60VRhGEYRZGmaYqicByH78NxnK7rcRz7vp+mqaqqqOwcBNuQ5/mf/MmfvOtd7/r5n/95jBw9elRRlLvvvvuBBx54/etf/7GPfey1r30tKpXKUw7P8/V6PQgCy7JUVdV1ned527YVRTl27NjFixcXFxfHx8fr9frFixdN0yzL0vf9TqcTRRHHcYSQMAwnJydVVe31elEUASiKIkkSQRC4kSiKkiQRRREAIYRhmKIohiOu6yZJ0m63WZZNkoRSWpal4ziCIBRFkWVZvV4fjvA8L8tylmWu64Yjvu93Op04jk+cOLG+vn7o0KG5ublGo7G5ufnII49MT0/Pzs7quq4oymAwWF1dbTabqqoGQeD7fhRFqqrKsswwDL6PKIo8z/u+PxgMkiRRVRWVnYBgG/I8tyzLMAw8jq7rS0tLSZLUarU0TVGpVJ6iWJbVNI1S6nlelmWqqrbbbc/zgiCYmZlpt9uPPfZYWZZ79+5VVXV9fV3X9SzL8jwfHx93XXcwGERRVKvVJEna2toaDAYsy2ZZVhSFqqocxw2HQ0JImqYsyxJChsMhwzBlWRZFwTBMkiTr6+u1Wk2W5SAICCGCIERRVBRFnudpmqqq2mw2syzL81wQhHq9HkWRaZpBECRJout6q9VaXV01TXN9fX3//v2Tk5O1Wm1ra8s0zdnZ2VarNTY2VqvVut2u53mGYXAcl6ap53lxHCuKIooivg/LsrVaTRCEpaWl4XCIyk5AsA2iKF577bV/+qd/2ul0du/eDeDChQt/9md/ds011/R6vU996lNHjx5FpVJ5ShNFkVLq+75pmpqmGYZBKbVtWxTFa6+9dnFx8cKFC81mU9O0tbU113VnZ2fX1tZEUZycnLQsy3EcAJOTk6qqbm5uRlHEsmwQBDzPa5rm+z4hJIqiLMt4ns/zHEBRFAzDsCxblqVt23EcG4YRx3FZloqipGkax/FwOCzLMo7jVqslSZLnecPhUNd1wzCCINjY2PA8LwiCdrstCMKZM2dM09yzZ8+uXbtmZ2dN07x48aJpmuPj44ZhzM3NWZbV7/cFQVAUJc/zoigcx4njWFEUSim+jyAIuq4zDIPKTkCwPX/0R3/0O7/zOz/90z/dbrcBbG1tXXHFFW9/+9vvv//+kydP3n///ahUKk91HMfpuh6GoeM4siwrisLzvG3bWZbt2rWr3W6fOnUqy7LZ2VnXdZeXl2dmZrIsW1hY6HQ6tVqt1+s5jqMoyu7du7vdrm3bDMOkaZplmaIoeZ5zHBfHcZqmlFJmJE1TABzHlWWZpulgMNA0DUAQBKIoUkrTNE2ShOf5PM8VRRkbG0uSxLKsNE1brZamaY7jbGxsBEHQ6XSazeZgMPA8r9vt7t27d2pqSpIkz/NWVlYsy2q324ZhqKo6GAxc1xVFkRnJ89w0TVmWFUVhWRb/EcuyqOwQBNszNzf3mc985vjx4wsLC2VZ7tmz5/LLLy/L8sUvfvFrXvMaTdNQqVSeHmRZppR6npemqaZprVbL933P8yRJuuaaaxYWFpaWllRV3b9//8bGRpqmV1xxxfnz54uimJyc1DRtY2MjiqKpqSlJkrrdblmWDMP4vq8oynA4VBQlGWEYhuf54XBYjnAcNxwOsyzzPI9SKopiHMcsywqCMBwO8zyP4zjP8yiKWq1Wp9MxTfPixYutVmtsbCzP816vF8ex7/vtdluW5YWFBcdxBoPB9PR0rVaLoijLsvX1dUmS2u12p9MJgsC27bIsOY7LskwUxTRN4zhWVVUURYZhUNmBCLat3++Pj2DkxIkT73znO7/61a8yDINKpfJ0Qimt1+tBEJimqWlarVajlNq2nWXZ3r172+322bNnPc+bmppyXbfX6x04cMC27fn5eVEU9+zZ0x/RdV0QhK2tLd/3BUGIoojjOJ7nh8OhIAi+7xdFoShKmqZhGCZJQinleT7LsjzPGYahlA6HwyiKhJGiKOI4Loqi2+16ntfpdFiW7ff7vu9PTEzMzc05jjMYDFzXbbfbY2Njtm17nmfb9vT0dKPRyPOcEFKW5dramqIozWZzbGzMcZyiKACEYUgIkWU5DMMoilRV5XkelZ2GYHs+8YlPvO51r8uyLAxDWZaHw2Ge57fffjvDMKhUKk8/DMOoqsrzvOd5aZpqmtZutz3PC4JAkqRnP/vZ8/Pzy8vLHMdNT08PBgNCyLFjx86fP9/v99vtdr1eX11dLYpiampqa2vL8zyGYYqiSJKE5/ksy1RVTdM0jmOe5xVFSdM0SZKyLHmeL8syjuM8zwkhPM9nWZamKaVUFMU8z5MkyfM8CIJGo9Fut13XXVxcrNfr09PTnU5naWlpY2MjCILx8XFVVefn53u93p49e8bHxymlQRB0Op2yLJeXl3VdNwwjSZIwDHmej6LIsixN0wghtm0LgqAoCiEElZ2DYBvKsvyrv/qr3/zN33zpS196xx13vPWtbzUM4w1veMPzn/98VCqVpzGe5+v1uu/7pmlqmmYYBqXUtu0sy/bt29dut8+dO2dZlmEYWZaZprlv3752u726uhqG4Z49ewaDwerqaqvVkiRpMBgAGA6HSZJQSrMsI4RQSsMw5DhOURSWZeMRSikhJM/zoiiGwyGllGXZNE3zPJckiWGYNE2Hw2G32/V9v91udzod13VPnz49Nja2f/9+13V7vd6FCxcMw5icnAyC4OGHH56Zmdm7d68kSSsrK61Wq9lsBkGwtLTUaDRUVY2iSFEUALZtcxxXr9cZhjFNU1GU4XCIyg5BsA1ZlnW73VtuuWX//v1Hjx5dWFh41ate9YY3vOF973vf85//fIZhUKlUnq5Ylq3VanEce56XpqmqqjzP27adZZmqqlddddXSyHA4bDabYRhKknTw4MGNjY2VlRVFUY4cObK+vg6A5/mtra08z1mWzfOcEMIwTFEUsizneZ5lmSRJoii6rpskCcdxlFKWZbMsK8uS4zhKKcuyQRAQQkRRLMtyOBzGcXzx4sVarTYzM5Omab/ftyxr7969Bw4c2NjYcBwnCILJycmxsbGLFy9ubm4ePnx4fHx8aWlpMBjs3btXVVXbth3HMQyDZdmiKDqdThAE3W5X07RarZamqWVZkiShshMQbAPDMIIg9Ho9APv27Tt9+jSAsbGxc+fORVEkyzIqlcrTmyiKlFLP8yzL0jSt1Wr5vu+6LsMwe/bsqdfrFy5c2NjY4HlekiTXdcfHx9vt9sLCwtbW1q5du+r1+urqalEUrutGUcRxXFEULMtyHJfnOcuysiynaQqgVqsFQZCM0JGyLAEMh0OO4yRJGg6Hvu9LksSybJ7nHMe5rnv69Onx8fFGo5Ekyfnz5+v1+v79+5Mk2djYWFtb6/f7+/bto5QeP3683W4/61nPiuP4oYcempubm52dTdPUNE1KqaIoYRjKsqyq6mAwWFlZabfbkiQRQlDZCQi2gef5m2666c477zx//vyVV1754Q9/+MYbb/zmN785PT0tCAIqlUoF4DjOMIwwDC3LUlVV0zRKqW3bWZYZhnH06FHDMC5evBjHsa7rcRxnWXb06NFms3nu3DlBEPbv39/tdtfW1mzbDsOQ4zgARVEIgpCNCIKQZVlZlrquJ0ni+34cx1mWSZIEoBjJ81weCcMQgCzLADiOK8tydXXVsqypqSld14MgOHHixNzc3IEDB7a2tizLOnPmTLvd3rNnjzUH3XAAACAASURBVGVZX/ziFy+77LIDBw7Mz89vbW3t379/amrK8zzLsgRBGA6HlNLx8fEoinq9nuM4qqpKkoTKkx7B9rz1rW9tNpthGN5www233HLLq1/96maz+d73vpfjOFQqlcolsixTSj3PS9NU07R2u+15XhiGDMPs2rVL07SVlZWNjY3hcNhoNBzHMQzjhhtueOyxxyzLqtfrjUbj4sWLq6urURSxLMtxXJqmHMeJohjHMaV0OBwmSSIIAiHE9/0oisIw5DhOluWyLAEEQZBlmaqqeZ77vs+PEEIAhGF47ty5TqczPj4OYGlpybKsAwcO1Gq1wUi/39+/f//hw4fPnTu3sLDw7Gc/uyiKhx56aGxs7NChQzMzM6Zpep5HCInjWNf13bt3nz9/XpIkVHYCgm0oy/LEiRM33njjsWPHALz//e9/29vexvO8oiioVCqV/4hSWq/Xfd83TVPTNMMwKKW2bRdF0Wq1ZFk2DGNpaclxHF3Xfd+P4/iqq666cOHC6upqnud79uzRNG1pacnzvDiOKaVZllFKFUWJoohhGEVRkiRhGMYwDFEUPc8riiIIAlEUCSEA0jQ1TbNWq6mqGkVRmqYAeJ4viiLLso2NDdd1x8fH6/V6kiQnT56cnp6empqyLMv3/fPnz6+trV122WUAvvGNb0xMTBw9erTf7z/44IO7du3avXu3ruuDwcDzvCiKNE2r1Wqo7BAE25Cm6Wte85rf+q3fOnbsGEbq9ToqlUrlCTAMo2kaz/Oe56Vpqqoqz/OO4yRJIgjCzMyMpmnLy8tra2scxymK4nnerl27ms3m/Py867q6rj/jGc+Yn5/v9/txHHMcxzBMmqayLGdZFsexKIppmhZFIQgCwzBhGMZxHIYhpZTneZZlATiOI0mSIAhlWSZJUpYlHWFZNo7jixcv2rY9OTmpKMrq6qpt2/v27ZNl2fd9z/Meeuih6enpI0eObGxsfOUrX9m3b9/c3Nzi4uLa2tqBAwempqaCIOj1eltbW3Ecq6oqSRIqT3oE2yCK4hvf+Ma//uu//j//5//s3r2bZVlcIggCKpVK5QcRBIFS6nmeZVmapjWbTd/3XdcF0Gw2CSG6rq+srGxubhqG4XmeqqrPetazzp492+/30zQ9cuTIysrK2tqa7/tZljEMk+c5IYRhmDRNKaUMw8RxzHFcrVYTBMH3/TRNi6LgRyilaZomSSLLMqU0y7KyLCmlPM9nWZamqW3bURS1Wq12u52m6aOPPrpr1y7DMARBiKJoZWVla2vr4Mjq6mq3292zZ0+j0Th58uTa2tr+/ft37drlOM65c+cIIajsBATb86lPfSpJkuuvv35sbAyXHDx48HOf+xwqlUrlCbAsq+t6FEWO40iSpGkapdS27aIoarWaJEmyLGuatra2RgjxPE+W5csuu+zixYuDkU6nU6vVLly4YNt2mqbD4TDPc57nKaVhGLIsK8tykiRlWfI8bxiG7/vJSFmWgiBwHFeWZRRFkiSJohjHcZ7nHMdJksSybDSyvr7uOE673W40GisrK47jTE9PU0oVRbEs69SpU+12e3Z2tiiK8+fP67o+MzPjOM6DDz44MzNz4MCB2dlZlmVR2QkItudVr3oVKpVK5UciSRKl1PM8y7I0TWu3257nhWHIMMzY2Jgoiqqqrq2tWZYVhmGWZQcOHNja2uJ53rZthmEOHjy4urq6tbUVhiHDMEmSUEoVRYnjOE1TSimAJEkYhtF1PUkSz/PiOC6Kgo4wDJMkSZZlgiCwLBsEQRzHuq6rqjoYDJIkYRhmbW3NcZx2ux2G4fz8/OTkpKIoY2NjYRj2ej3XdaempiYmJlzXXVpaUlV1cnJyfaTVatVqNVR2AoLt+bmf+zkAy8vLW1tbqqo2Go1Op4NKpVL54RBCDMMIw9A0TVVVDcOglNq2XZalruscx6mq2u12V1ZW4jheWFjYt2+fpmlnz56VZbnf709PT8uy3Ov1bNtO07QoijzPBUHIRjiOUxQlTdM4jiml9Xrd9/0sy+I4Hg6HhBAAhJAsy1iWJYQURTEYDFRVHR8fd0eyLGMYJooiwzAmJibW19drtdrY2JgkSZqmbW1tXbhwwfO8iYkJALZt53luGEaj0Zifn7/ssstQ2QkItsfzvN///d//0pe+FEXRhz70oePHjzuO8973vtcwDFQqlcoPgWEYRVEopZ7nZVmmqmqn03EcJ0kSSZJ4nhcEQdO0paUl0zRPnz49MzNz9dVXP/bYY4IgDAYDhmEkSVIUZWNjI4oiSmmWZZRShmGKokjTlBCi63oQBEmS6LoeRVEQBEmSlGVJKc3zfDgcUkrLshwOh5RSz/PiOO50Oqqq9vt9y7JkWWZZ1vM8wzAYhsmyrN1uD4fDsbGxJEkGg0EQBOPj47qu+76fJEmWZZIkhWEoyzIqT3oE23PPPfc8/PDDf/d3f/fxj38cwC//8i//4R/+4V133fWe97wHlUql8kPjeb5erwdBYFmWqqrNZtP3fdd1OY6r1+vcSL1eX1tbW1lZsW37qquuWl5eZhjG8zyGYSilHMdZIxzHlWU5HA5Zlh0Oh0VR5Hmu63ocx57n8TxPCImiKM/zKIoopWVZZlkmiqIkSWmasiw7HA7X1tZUVZ2amnJGBoOBpmm9Xs913dnZ2bIsdV1XVZUQMjs7a1nWxYsXm81mu90uy7Lb7VJKwzBEZScg2IYkSb7whS/cddddz3ve8z7+8Y8DePazn/3GN77x9a9/fZIkgiCgUqlUfmgsy2qaRin1PC/LMlVVKaW2bRdFoWkaIUSSJFVV19bW1tfXH3rooSNHjjQajVOnTgmC0Ov1xsfHZVkWBKHX65VlyTAMx3EAsixjWTYMQ47jWq2W4zhlWcqynGVZGIZFUQyHQ47joijKskxVVY7j4jhmWTYMw+Xl5YmJCV3Xt7a2XNcVRZFhmHPnzhmGsWvXrqIoRFEsy7JWq9Xr9cFgsLi4ODExoaqqaZqiKKKyExBsw3A4zPNc0zQ8jiAIaZqWZYknVhSF67qyLAuCgCcQRVEcx7qusyyLSqXytCGKIqXU8zzTNDVNa7fbnueFYcjzfL1eJ4RwHFer1S5evPjQQw/Nzc1dc801Z8+e5Xm+1+sBYFlWkqTBYOD7flmWDMNQSrMsA1AURRAEjUbD9/0wDCmlsiynaVqWZZ7nHMfleW7btjoSRVFZlgzDLC8v67o+MTGhaZppmq7ryrJs2/Z3vvOd6RGWZbMso5ROTEy4rtvtdh3HqdVqDMOgshMQbIMoitdff/299967e/dujGxubn7kIx85duyYJEl4Al/72tfe/va3Ly4uNpvN3/u933vlK1+J73Pvvffed999nucdOXLk7rvvvvLKKwF84hOf+PjHP45LWJb9/Oc/TylFpVJ5auE4zjCMMAwdx5FlWdd1Sqlt2wB0XSeE8DyvKMrS0tLm5uZgMLjssstarda5c+e2trb4EZZlFUUZDAZ5npdlKYpiNkIICYKA53lCSBAEzEhZlnEcF0XBcdxwOHQcJ0kSwzCKosiyjOd5x3HCMOx0OlNTU4PBwPd9QgjHcfPz871eb//+/ePj41mWDYdDQRB27dpl2/ba2lqapqjsBATb8+Y3v/nXfu3Xrrvuuk6ns7i4+MY3vnFmZuZjH/sYnsDm5uYdd9zxwhe+8MMf/vDXv/71173udXv37r3hhhvwOJ/73Ofe/e53//mf//nhw4c/8IEP/PZv//aXv/xlVVXn5+cppc961rNQqVSeBmRZppR6npemqaZpnU7HcZwkSSRJIoRwHLd3717DMJaXl48fP753795nPetZCwsLFy5c4DiOUmqapiiKjuO4rhvHsTASBAGAJElYljUMIwgClmXzPC/LcjgcFkXBcRzLsnEc9/t9VVUlSUrTlOf5NE3X1tZ0XZ+YmAiCwLKsoih4nvd9/5FHHpmYmDhw4IAgCGEYFkWhaRrP86IoorITEGzPzMzMP/zDP3zjG984depUURSHDh36qZ/6KU3T8AT+6Z/+qSiKO++8s9FoHDp06Atf+MInPvGJG264AY9z//3333bbbS95yUsAvOlNb7r++uu/9a1v3XzzzQsLC4cPH37HO96BSqXy9EAprdfrQRBYlqWqarPZ9H3fdV2WZRuNBh2RZXlpaWllZcU0zV27djWbzTNnzqytrU1OTq6vrxuGUa/XNzc3fd8nhNRqtTiOoygqyzLLMkVRwjDkOI5SmqZpkiRlWRZFQQjJssyyrDRN6/V6mqaCIBRFYZpmHMfj4+NjY2ODwSBJEkmSsixbWlrq9XqHDh2am5sryzJJEo7jsixDZScg2J7bb7/95pGbbroJP4QTJ04cOXKk0WgAYBjm2muvfeCBB8qyZFkWI0EQPPbYYy960YswMjdy8uTJm266aXFx8frrr7/nnnt83z927Nitt95KKUWlUnlKYxhGVVWe513XTdNU0zRKqW3bDMPous5xHMuyhJDBYNDtdr/73e/Ozs5effXVp06dWlxc3LVr1+rqqm3bu3fvtixrbW3NsqxarSYIguu6SZIAEEUxGxFFkeO4OI7zEUIIwzC+7ydJ0mg0OI4DoKqq7/sXLlwYGxtrNptRFDmOQymt1WpRFD3yyCNra2tHjx5ttVpRFJVlicpOQLA9zWbzrrvuetvb3nbrrbe+9KUvvfbaawVBwBPb3Nys1+u4ZGxsrNfrZVkmCAJGoiiyLKvT6WCE4zjDMNbW1oIgWF9fv+eee5773OfmeX7ffffddtttf/mXf8myLC55+9vf7rouLnn44YevvfZay7KwDYzv68Mhg0rlf9dwOHRse5jnqDwBhmFc1+31epqmEULiOI6iKMsydkRV1eFw2Ov15ufnFUWZmZkRBOHs2bOdTofn+aWlpU6n84xnPOP06dP9fl/TNMMwghGWZRVFYVk2jmNK6XA4JIRkIwzDEEKyLNvc3NRGsixTFCXLstXVVUVRpqamGo2G4zh5nkuSVBTFxsZGr9fbtWvX3NycaZqSJKHy4xXHsSAI+O8g2J57773Xtu1vfvObn/3sZ1/96le3Wq1f/MVffNGLXrRv3z78zxkOh47jvOxlL7v11luvueYaAA888MAv/dIvvfzlL7/hhhtwiT6CSx577DGGYTiOwzYwHIdK5ceC47ghx6HyBDiOMwwjjmPf9wVBMAxDFEXHccqyJIRQSgVBEEVRUZR+v3/hwoV2u/2c5zzn0UcfZVlWUZRz586JonjNNddcuHDh4sWLaZrqui4Igm3bvu8riiLLchRFgiDkeU4I4TguTdOiKARBKIrC9/04jmu1GiGEH/E8b3FxsdPptNtt3/dd1xVFsdVqBUGwuLjY7XY3NzdnZ2dR+fFiGAb/TQTbZhjGC0a63e6//uu/fvCDH/za1772j//4j/hBms2mbdu4xPO8Wq3GcRwu4Xle0zTf9zEyHA7DMGw0GlNTU+94xztwyXOf+9zJycmzZ8/ecMMNuOS1r30tHsdxHAC1Wg3bwTBgGFQq/8sYhtE0DZqGyn+qVqs1m03P84qiaI64rhvHsaqqQRBomqYoSrPZHAwGtm3neX711VevrKwsLS1deeWV58+fn5+fP3To0Ozs7IkTJ/r9vmEYk5OTg8HA931ZllVVjaKI47gkSeQR13XzPGcYhhBSlqVt27IsK4pCKW00Gp7ndbvdMAwnJyclSRoMBmVZ6rrOMIzrumNjY7VaDZUfL0EQ8N9EsG1Jkjz22GMPPPDAl770paWlpSuuuOK2227DEzh69Oj999+fJIkgCABOnjx56NAhQggu0TRt79693/72t1/ykpcAsCxrdXX1sssu+/SnP/3tb3/7jW98o6IoANI0zfO8VquhUqk8zXAcZxhGEASWZamqWq/XgyAAQAiJ45hhGI7jeJ6XJKk30ul0BEFYXV09cuTI/Pz8mTNnpqenb7755hMnTiwtLaVp2mg0wjD0PK8oCkEQ8jwXRTHLsqIo2u227/thGALgOK4syyiK0jSVJElV1Xq97nleEAQLCwtjY2MTExOu6zqOo6qqrus8z6OyExBszzvf+c4vfvGL8/Pzz3zmM1/2spfdfPPN+/fvZxgGT+Cmm25617ve9fnPf/622247efLkl7/85b/4i78A8OCDDz788MPXXHPNsWPHXvziF3/wgx/8lV/5lbm5uU9+8pOEkOuvvz4Igte85jXT09O33357WZZ/+7d/OxwOr732WlQqlaclRVF4nvc8L01TTdMopbZtsyzLMAzLslEUsSwry3K32zVNk+f5PXv29Ho9QRAWFxe73a7rulddddX09PTDDz/c7XabzWar1RoMBkEQiKLIsizP88PhMAgCnucFQbAsCwDLsuVIHMd5nouiWKvVRFF0XXdjY8PzvKmpKUVRut0uwzBpmqKyExBsz8mTJ1/4whe+4AUvOHr0KCEEI3meE0Lwgxw+fPid73znnXfeedddd7mue/vtt7/oRS8CEMfxW97yli984QsAXvnKVx4/fvyWW25RVTWKove+973j4+MA3vGOd/zxH//xvffeWxQFpfT973//zMwMKpXK0xWltF6v+75vmqamae122/M8juMYhmFZlmEYlmX37t27sbFhmqYsy41Gg+d5SZKWlpaWl5e/+93v7t69+8Ybbzx+/PjW1latVut0OpZlxXEsiiIAhmE0TfM8j2XZyclJx3GCIGBZthgBEARBHMfNZrPValmWFYbh/Px8u92enZ1dX18nhKCyExBsz9///d9TSjFSluXZs2cfeOCBr3/965/97GfxBH7jN37jBS94wcrKSrPZPHDgAEauvPLKRx99tFarAZAk6aMf/ejp06dd1929e/fY2BhGfvVXf/X5z3/+wsICIeTQoUONRgOVSuXpjWEYTdN4nvc8j1KqaRrP88PhUBAEnucBJEkyOzurqur6+jqlVFVVhmEOHjwoSdKFCxdWVlbq9fpznvOcxcXFhYWFwWDQaDTCMPQ8TxRFQkiWZYZhBEFgmqZhGLIsDwYDnueLokjTlOf5oig2Nzd1XW+1Wq7rRlHU7/d93+90OhzHobITEGwPpRTA0tLSv/zLv3zmM5/55je/KUnS8573PPynpkfwOMYILmEY5siRI/g+UyOoVCqVxxEEgRDi+75t25qmdTod13VZlgXgOE4cx81mU5blpaWl4XBoGMZgMNizZ48oiouLi67r5nk+MzOj6/rp06cty5IkSdd1z/PKsiSEJEkijjiOI4ri+Pi4ZVkYSdOU4zhRFMMwDIKg0+kIguC6bhAEq6ur3W73wIEDqDzpEWzD5ubm1772tU996lPf+MY30jS98sor77333htvvHF6ehqVSqXyY8RxnK7rURQ5jiNJUr1e53meYRie5y3LCoJAkqTDhw9fvHjR87x2u23b9vj4uKqq8/Pztm1vbW3VarVnPOMZFy9etG0bQLPZNE0zz3NFUeI4Zhim3W5bI/V6PRwhhMRx7Pu+JEkMw2xsbKiqWqvV0jSN45hSispOQPAj+eIXv/jpT3/6K1/5ShiG11133d133+04zr//+7+/8pWvRKVSqfyESJJEKfU8z3EcTdMopbZtE0IopaZpUkoPHjy4urq6tbWlKIqqqmVZHjx4cGVlZWtry/M8QRBmZ2clSXIcJ01TwzD8EVmWsyzzfd8wjDRNTdPUdV0QBNu2FUWJ4ziKIkEQeJ4PwzCO43q9rqoqKjsEwY/kq1/96r/927/9wR/8wS233LJv3z6GYd7//vejUqlUftIIIYZhhGFomqaqqu122/M8SikhpNvtJkmya9euer2+uLgYhuHExIRlWQzDKIqyurqaJIkgCO12WxRFx3HCMNR1PQgC3/d5npckKQgCURQ7nc5gMOB5vt1uW5YlimJZllEUpWmqaVqe56ZpyrIcRREqOwHBj2RiYmJsbOzNb37zJz/5ydtuu+3WW29FpVKpPDkwDKMoCqXU87wsy1RV5Xl+OByKori+vr65uTkxMXHZZZedO3fONE1d11VVBSCK4sWLF7MskyRJ07SyLAkhRVFwHCeKYr/fz/O8VqtFURSGYbvdjuPYtu1arRbHcZIksizHcey6rqZpLMtGUcQwDCo7AcGP5HWve93v/u7vPvLII5/97Gc/9rGPvfvd7z527JiqqufOndu/fz/DMKhUKpWfKJ7n6/V6EAS2bWua1ul0XNellG5ubq6srIyPj19++eUXLlxYW1sjhOzevXtpaenAgQNLS0tRFGmaxozEcczzfBzHHMdZlmWapqZphBDTNCVJajQajuMIgkAI8TyvVqsFQeC6rjRSr9dR2QkIflQ8z18z8uY3v/nBBx/81Kc+9c///M/XXXfd9ddf/wu/8AuveMUrUKlUniqyMovzGDuRAJETPc8TBMEwDJ7nOY7jeX5lZaVerx85cqRWq50/f96yrL17925sbADodruu66qqSghxXddxHE3TKKWCILiua1kWy7KapoVhmKapYRhZluV5rut6EASqqoqi6HlemqZbW1tZmcV5jMoPRyQiZSl+7Ai2TdO0m0d6vd5Xv/rVz3zmM3/zN3/zile8ApVK5SkhK7M3feVNdmwDMCMTwIqzgkvO9M/gyeFQ6xAumdFnADSkBgCVqB/4vx9ACpSAAJRADKSAje9pAiHQA2JABjIgAjzAByjAADGQ4ntYIANKwAVMQABYwAQIwAEMUAIZUAAMkODmL938erzejm0AZmQCWHFWcMmZ/hk8XR1qHcIlM/oMgIbUAGCIxt033k1Zih8vgv857Xb7l0aWlpZQqVSeKuI8tmP7ow9/FE9ux9eP45Lj68fxeCwgAhkQAxSQAQIQwAQ2gRYwBfQBC5AAFSAACzgAD6hACkRACvAABVggBFKABUQgBQqAAiwgAAlQAiJA8N5/fS8oKv8/x9eP45Lj68dxyauvenWcx5Sn+PEi+F8wNzeHSqVSebIhAAukQAHwAAc0AQ/YAgxgGhCAHsABIkAAEdgChoACDPE9OcABEkCACIiABKDAEEgBAvCADGRAAmQAReXJj6BSqVT+K2Zk4imAAThABDIgBnhAAQhAgQEQAx1AANaBFOCBGkCBPuADKsABGRABQ0AACECBEEgACohADOSACIiAAggAh8oPz4xM/CQQVCqVytMKA1CAAxKABQSAAwgwAFaBCWAfsAIEgAgoAAX6gAcoAA8MgRzIABZQAAYIgRwoABHIgRjIARUIAA4gqDzJEVQqlcp/ZcVZwVMJA3CABKRADAiABhDABNaAJrAHWAFsgAIy0AEGgA+IgA54AAFioAQkgAd8IAFSgAV4IAN8IABqqPzwVpwV/CQQVCqVytMTAwgAByQAARSAAjbQBxJgFpCBLhACEtAGeMABSkAHPEAEcqAAWEAHQiACcnyPAGRAEyCoPPkRVCqVytMZB0hACiSAADQBApjAKjAGyMAy4AEq0AI4wAFiQAUSIAY4IAcKQAE4IAQyIAMIKjsFQaVSqTydMQADiEAKRAAP1AEB6APrQBPYC6wAASABLYAHLCAHRIADPIAAQ6AEeIADIiABCiADhqg8+RFUKpXKf+VM/wye8ijAASlQAArAASYwAFRgDtgETKAAVIACW0AOCAABXKAEWGAIDAEV4IAYoACHyg/vTP8MfhIIKpVKpfL/YgAOEIEUiAEe6AA84AJdoA6IwABIAQGYAHpAAgiAAfhADLCAAKSAAFCAQ2VHIKhUKpXK/4cBeIADUoAFmgAPuEAf0IFxoA8kAAE6gAlEAA80AB/wgRwQgQLIgRiQUHnyI6hUKpXK4zEAAVggBVJAAwjgAB7AAy3AAVJ8TwMIAQsoAR2ggAdEgARQgEdlRyCoVCqVyvdjARHIgATggQbAAz7gAiqQATGQAxIwBFzAA2SAADwQAixQorIjEFQqlUrliRCAAxKAATSAAwLABSRABjIgA4YAARwgACRAB0TAB3iAQeXJj6BSqVQqT4QBGEAEMiAFFIAAFPCAISACFKBACGhACGRACQiAALCo7AgElUqlUvnPMQAFOCABKKAAPOACPiACEkAAgu+JgBwYAiLAoLIjEFQqlUrlv8QAHCABKVACPNAEKOAAOVADeIAALBACOVCgslMQVCqVSuWHxAACwAExMAR0QAC2gB7QAmqACJiAA2RAicqOQFCpVCqV/xYOkIEUiAEBmAbWgS7QAnhgDCCABTCo7AgElUqlUvlvYQAGEAEOCIAhMANsAj2gDkhAB9AAisqOQFCpVCqVHw0BNCAEEmASkIANoAZogAwUAEHlyY+gUqlUKj8aBuAAFUgAHzAAHljB9ygAg8qOQFCpVCqV7WAAHjAAF6DAbmAd8IBxVHYEgkqlUqlsEwswgAH4QAbMAD1UdgqCSqVSqWwfAzCABoRABLQBFpUdgfw/7cF9UBP2wQfwb8IvIbwHAoKACBYkK1YERCuKxgOKVsRebVdFa9dicT1f5lkd2qgDsZvO62wPb53bKv4x5da1VpijDpn4goqADmxlrQhaB9Y3iAjhJYTkucsdd3rO52kfBe1+388HRET0qCgAN0AAZsAOKEBPPgEiInq01IAKUIJ+EASIiOjRUgAK0A+FABERkcQEiIiIJCZAREQkMQEiIiKJCRAREUlMgIiISGICREREEhMgIiKSmAAREZHEBIiIiCQmQEREJDEBIiIiiQkQERFJTICIiEhiAkRERBITICIikpgAERGRxASIiIgkJkBERCQxASIiIokJEBERSUyAiIhIYgJEREQSEyAiIpKYABERkcQEiIiIJCZAREQkMQEiIiKJCRAREUlMgIiISGICREREEhMgIiKSmAAREZHEBIiIiCQmQEREJDEBIiIiiQkQERFJTICIiEhiAkRERBITICIikpgAERGRxASIiIgkJkBERCQxASIiIokJEBERSUyAiIhIYgJEREQSEyAiIpKYABERkcQEiIiIJCZAREQkMQEiIiKJCRAREUlMgIiI/4o5kAAAERRJREFUSGICREREEhMgIiKSmAAREZHEBIiIiCQmQEREJDEBIiIiiQkQERFJTICIiEhiAkRERBITICIikpgAERGRxASIiIgkJkBERCQxASIiIokJEBERSUyAiIhIYgJEREQSEyAiIpKYABERkcQEiIiIJCZAREQkMQEiIiKJCRAREUlMgIiISGICREREEhMgIiKSmAAREZHEBIiIiCQmQEREJDEBIiIiiQkQERFJTICIiEhiAvR/0utRXQ2iQaXX4wmm99VXX60G0WDS++rxOAgQERFJTICIiEhiAo+JxWJRqVQKhQIPYLPZrFarWq3Gvfr7+202m0qlAhER0UMTGHJ1dXWbN2+ur68PDAxcuXLlrFmzcJ/CwsKdO3eaTKZx48Zt3LjxqaeeAtDX1/f+++9/8sknVqs1JSXlnXfe8fT0xBAYMQLV1SAaVCNG4Ak2wmtE9dVqEA2mEV4j8DgIDC2TyZSZmRkdHf273/3u6NGjmZmZJSUlsbGxuEtZWdnKlSs3bNgQFRWVn5//1ltvFRcXazSaHTt2fPjhh1u3bnVxcdm4cWNvb+/27dtBRET0EASG1sGDB1tbW3/5y1/6+/tPmjTp6NGjhYWFsbGxuMtHH300Y8aMZcuWAQgICDAYDJWVlRMmTCgoKFi5cuXLL78MwGKxrFixYs2aNYGBgRhsPj4gGmw+PniC+bj4gGiQ+bj44HEQGFqVlZVRUVH+/v4AhBCJiYnl5eV2u12hUMChu7u7rq7u7bffhkNERERISMjZs2eHDx/+zTffJCQkwCE+Pr6vr+/ChQuBgYEgIiL6/xIYWlevXvXz88OAoKCgmzdvWiwWZ2dnOJjN5ra2tsDAQDgIIXQ6XUtLS1tbm0Kh8PPzg4NWq9VoNDdv3sRdtm3bhrucOHFi/Pjxd+7cwcPo61NrNIpXXwWgNJkAKFtaMEDZ0AD6T+x2u0KhAN3HFhGBAbagIAA2b28Ado3GYrHgzh08efpsfRpoXo16FYCpxwSgpbMFAxpMDaD72O12BRRQgO4X4R2BAUHuQQC8Nd4ANNBYuix3eu7gIfT29qrVanwfAkPLbrfjXlarFfey2Wy4l9VqBWC323EXuwPuYjabu7q6MKCvr89ut/f39+NhKJXdGzYoentB31lPT4/ZbNbpdKDvzO7sDKUS/f148iih3JCwodfaC/rOWltb3dzdNM4a0HfmLJyVdmV/fz8egt1ux/ckMLS8vLy6urowoLOz083NzcnJCQPUarWrq6vZbIaD3W7v7e318vJycXEB0N3dDQeLxWKz2VxdXXGXnJwc3CUnJweAt7c3aGh1d3c7dXZq/fxAJCuNUuPu7u7i4gIaWhqNBt+TwNDS6/WffvppX1+fSqUCUF9fHx4eLoTAAHd399DQ0Pr6ejh0dHQ0Nzfr9frhw4e7ubk1Njbq9XoAzc3NFoslJCQERERED0FgaCUnJ2/ZsqW8vPy5555raGg4dOhQXl4egNra2suXL4eHh48ZMyYtLa2wsDArKysgIOBvf/tbX1/f5MmT/f39DQZDYWFhcnKyEKKwsPDpp5/W6/UgIiJ6CAJDKyYmZtWqVYsXL9br9VeuXJk+ffpLL70EwGQyzZ8/v6ysDEBmZubx48dnzJjh5+dXX1//7rvvjhw5EoDRaFy0aFFycrKTk1NLS8uuXbvUajWIiIgegsCQMxqNs2fPvnjxYkBAwMSJE52cnABEREScPn3az88PgLe395///OfTp0+bTKYf/ehHkZGRcIiKiiotLa2pqenv7x83blxgYCCIiIgejsDjMNYBdwl2wACNRjNt2jTcR6fTpaamgoiI6BERICIikpgAERGRxASIiIgkJkBERCQxASIiIokJEBERSUyAiIhIYgJEREQSEyAiIpKYABERkcQE/nsdOXIEQE5ODmhoWa1Wi8Xi6uoKIll1dXWp1WohBGhoHTlyBN+TANGjdvHixWvXrhkMBhDJqqqqKiAgQK/Xg554Av+9jhw5AnociouLP/roo5ycHBDJas6cORkZGenp6aAnngAREZHEBIiIiCQmQEREJDEBokEQExMDIonFxMSAfiAEiB61dAcQSSwnJwf0AyFAREQkMQEiIiKJCRAREUlMgOh/1dPTU19f39bW5u7uHhkZ6e3tjUFz69YtpVLp4+MDosfBYrF0dHQoFAofHx+QNASIHqyqqmrVqlVXrlzx9fVtb29Xq9UbN26cP38+BsfSpUvHjh1rNBpB9Djs379/+fLl8fHxf/3rXxUKBUgOAkQP0NPTs2rVqoiIiL/85S/Dhg3r6OgoKChYvXp1fHx8eHg4iP7r7Nu3b/r06YcPH/7666/1ej1IDgJED3D16tXz589v2bJl+PDhALRa7euvv7579+4vv/wyJCSkvr4+LCystrb2xo0bI0eOnDBhAgY0NjbW1tYqlcq4uLiQkBAM+Oc//9nY2Ojq6pqQkKDVauHQ1tZWU1NjsVhiY2NB9Ph88803R48e3bFjx5kzZz7//HO9Xo8Bzc3N1dXVNpstOjo6PDwcDs3NzdXV1TabLTo6Ojw8HEBtba2Li0tkZCSArq6uCxcuhISEeHh41NfXh4WFVVZW9vT0pKend3Z2nj592mQyubi4xMXFBQQEwOHOnTsnTpwwm81hYWFxcXHffvvttWvXIiMjXV1dAXR2djY0NPj6+o4YMQL0SAkQPYDa4cCBAxEREf7+/gC0Wm11dbVSqWxvb09LS/vxj39cXl7u5eX11VdfZWVlbdq0CcDHH3+8du3a4OBgq9V6/fr1Dz74IC0tDUBeXt4f//jHyMjI69evOzs779q1a8yYMV9++WVmZubt27e1Wm1PT49erwfRY1JaWurh4WEwGJKTk4uKipYvXy6EAHDo0KGlS5cOGzZMqVRevnw5Pz9/zpw5hw4dWrp06bBhw5RK5eXLl/Pz89PT05ctW/bmm29GRkYCaG9vT0tLKysrs9lss2bNWrVq1W9+85tXXnll6tSpL7/88r///e/Q0NCrV6/29/d/9tlno0ePbmpqeu211zo6Ovz8/Orr65ctW/bqq6/Onj27oKAgJSUFQHl5+c9+9rOTJ0+CHjUBogcIDg5es2bN1q1b9+zZExcXN23atMmTJ8fGxgohAPT19V26dKm8vNzT0/Ozzz578803Z82aFRwcnJ2d/c4777zxxhv9/f3vvfdednb2lClT6urqfvvb3+7du9dgMLS3ty9btuwXv/jFp59+unnzZp1OV1RU5Ofnt3///gULFowdOxZEQ85ms33yySczZszQ6XTp6el79uz54osvYmJiurq6jEZjRkaG0WhUKpW5ubnbtm2bPn260WjMyMgwGo1KpTI3N3fbtm3PP/887mW32+FgsVgqKysrKir8/f1LS0ubmprKy8tDQkJu376dkpJSUVExevTod999V6fTHThwwNPTc9++fStWrFiwYEFiYmJJSUlKSgqAffv2JSUlBQQEgB41AaIHW7169YsvvlhVVXX48OHdu3dv2LBh+vTpO3fudHZ2BvD6669rtVoAc+bM2b59e0VFxVNPPeXs7GwwGJqbmwGkp6fn5+c3NjaWlZU9++yzYWFhV65cAbBo0aKsrKzGxsZTp07t2LEjICAAwJw5c8aPHw+ix6G+vr6mpmbdunU9PT0xMTEBAQEHDhyIiYn56quvmpqaFixYoFKpAMydO1ev13/xxRdNTU0LFixQqVQA5s6dq9fre3t78WCLFy8ODQ0FkJCQcOzYMV9f37a2tubm5r6+PgB37tw5duzYli1bvLy8ACQlJW3btq27u/uFF17YtGlTR0dHZ2fn4cOH//CHP4AGgQDRA1y4cMFqtT799NOjRo2aN29eT0/P0aNHlyxZ8v7772dnZyuVyrCwMDgIIfz8/G7duuXl5XXjxo20tDQMcHNz6+zsbGlpqa2tTU1NxQCNRtPW1tbZ2RkaGgoHIURQUBCIHoeSkhKz2bxkyRI4mM3m4uLiNWvWtLW1qVQqX19fOEQ7lJWVqVQqX19fOEQ72O12PIBCodDpdHAQQmzfvr2srOz27dve3t42mw2A2Ww2mUxBQUFw0Gq1GRkZADw8PMxmc3V19bVr17RabUJCAmgQCBA9wKlTp7Zu3VpVVeXu7g5Ao9GkpqYaDIaGhgYANpvtxo0bcLDZbCaTydPT08PDIygo6NixYxqNBoDFYmlvb/f19S0uLp44ceKuXbsUCgWA9vZ2i8Xi7Ozs4uJy/fr1Z555BoDdbjeZTCAachaLZf/+/W+99dYrr7wCh9bW1nnz5tXU1Li5uVmt1o6ODm9vbwBXrlypq6tTq9VWq7Wjo8Pb2xvAlStX6urqEhIScJfOzk6r1Yr7/PrXv66oqPjggw9Gjx7t6upqMBgAqNVqV1dXk8kEB4vF8ve//z0kJCQ6OnrSpEklJSVNTU3p6enu7u6gQSBA9ADjx4+/devW73//+yVLlri5udnt9q+//rqmpmbevHlw2Lt375QpU5ydncvKys6dO5ebmzt8+PCbN29WVFTMnj0bQHFxcW5u7rFjx6ZOnbpixYpLly5FRUXZbLb8/Pza2tri4uKxY8fu2bMnMTHR2dm5qqrq7Nmz06ZNA9HQOnv27L/+9a9f/epXzz77LBza29uDg4OLiorWrVun0+mKioqWL18O4ODBg/n5+SUlJTqdrqioaPny5QAOHjyYn59/8uRJhULR0tICh5KSErPZjPtcvHhxwoQJkyZNAnD+/Plvv/0WgE6ni4uL+/jjj5OSktRq9ZkzZxYvXlxWVgbgxRdfzMvLu337ttFoBA0OAaIHiIqK2rx586ZNmwoKCoYPH97X19fY2JiQkLB06VKbzaZUKru6umbOnKnT6Y4fP56RkZGYmKhUKt9+++2f/vSnf/rTn+x2+6lTp3Jzc319fZ9//vmioqL09PSEhITW1tYLFy4UFBQ4OTn9/Oc/f+2119LT00eOHFlRUZGVlQWiIbd///7Q0ND4+HgM8PLySk1N/fzzzzds2LB+/frs7Ozy8nKVSnXixIm8vLwRI0asX78+Ozu7vLxcpVKdOHEiLy/Pw8MjJSXlvffea2xs7HYICAjAfVJTU41GY3t7O4Bz587FxcXt3r07ODh43bp1ixYtmjlzZlBQ0MmTJ+fPn//MM88ASExMNJlMERER0dHRoMEhQPRgWVlZzz33XHV19dWrVz09PaOiouLi4pycnFpbWwGsXbv24sWLly9fzszMTElJUSqVANasWTN58uQzZ844OTmtXbs2NjYWgEql2rlz5z/+8Y9z587pdLrp06ePGjUKgMFgKCkpKS0t7e7u/slPftLe3i6EANHQmjJlytSpU11dXXGX+fPnJycn37hxY+HChWPGjDl+/Ljdbl+9enV8fDyAhQsXjhkz5vjx43a7ffXq1fHx8QCMRmNsbOz58+dDQ0Nnzpx59uxZrVar0Wj27t3r4+MDh8WLF4eFhZ09e3bYsGG5ubkATp06FRQUFBUVVVpaWlZW1traunDhwqSkJDhotdrg4OC5c+cKIUCDQ4DofxXqgP9EqVTOnTsX90lwwL1UKtUMB9wrygFEj09aWhruM3HiRAwY54B7jXPAXZycnNIc4GAwGOCQlJSEuyQ5YMBLL70Eh5CQkDfeeAN36erqqqysvHTp0syZM0GDRoCIiJ5I6enpDQ0NGRkZo0aNAg0aAaLvT61Wf/jhh25ubiCiQbN+/fr+/v6pU6eCBpMA0ffn4eHxwgsvgIgGk8FgAA0+ASIiIokJEBERSUyAiIhIYgJEREQSEyAiIpKYABERkcQEiIiIJCZAREQkMQEiIiKJCRAREUlMgIiISGICREREEhMgIiKS2P8Ap29J5i7UJvkAAAAASUVORK5CYII=\"/>"
      ]
     },
     "execution_count": 8,
     "metadata": {},
     "output_type": "execute_result"
    }
   ],
   "source": [
    "#| output: false\n",
    "\n",
    "pred = predict(model_logistic(fill(missing, length(df.Error)), condition=df.Accuracy), posteriors_logistic)\n",
    "pred = Array(pred)\n",
    "\n",
    "for i in 1:length(posteriors_logistic)\n",
    "    mean_speed = mean(pred[i, :][df.Accuracy .== 0])\n",
    "    mean_accuracy = mean(pred[i, :][df.Accuracy .== 1])\n",
    "    lines!([0, 1], [mean_speed, mean_accuracy], color=(:black, 0.1), linewidth=1)\n",
    "end\n",
    "\n",
    "fig"
   ]
  },
  {
   "cell_type": "code",
   "execution_count": 9,
   "id": "3bbd4446",
   "metadata": {},
   "outputs": [
    {
     "name": "stderr",
     "output_type": "stream",
     "text": [
      "\u001b[36m\u001b[1m┌ \u001b[22m\u001b[39m\u001b[36m\u001b[1mInfo: \u001b[22m\u001b[39mFound initial step size\n",
      "\u001b[36m\u001b[1m└ \u001b[22m\u001b[39m  ϵ = 0.025\n"
     ]
    },
    {
     "name": "stderr",
     "output_type": "stream",
     "text": [
      "\r",
      "\u001b[32mSampling:   2%|█                                        |  ETA: 0:00:10\u001b[39m"
     ]
    },
    {
     "name": "stderr",
     "output_type": "stream",
     "text": [
      "\r",
      "\u001b[32mSampling:   2%|█                                        |  ETA: 0:00:16\u001b[39m"
     ]
    },
    {
     "name": "stderr",
     "output_type": "stream",
     "text": [
      "\r",
      "\u001b[32mSampling:   3%|██                                       |  ETA: 0:00:17\u001b[39m"
     ]
    },
    {
     "name": "stderr",
     "output_type": "stream",
     "text": [
      "\r",
      "\u001b[32mSampling:   4%|██                                       |  ETA: 0:00:16\u001b[39m"
     ]
    },
    {
     "name": "stderr",
     "output_type": "stream",
     "text": [
      "\r",
      "\u001b[32mSampling:   4%|██                                       |  ETA: 0:00:17\u001b[39m"
     ]
    },
    {
     "name": "stderr",
     "output_type": "stream",
     "text": [
      "\r",
      "\u001b[32mSampling:   5%|███                                      |  ETA: 0:00:17\u001b[39m"
     ]
    },
    {
     "name": "stderr",
     "output_type": "stream",
     "text": [
      "\r",
      "\u001b[32mSampling:   6%|███                                      |  ETA: 0:00:17\u001b[39m"
     ]
    },
    {
     "name": "stderr",
     "output_type": "stream",
     "text": [
      "\r",
      "\u001b[32mSampling:   7%|███                                      |  ETA: 0:00:18\u001b[39m"
     ]
    },
    {
     "name": "stderr",
     "output_type": "stream",
     "text": [
      "\r",
      "\u001b[32mSampling:   8%|████                                     |  ETA: 0:00:17\u001b[39m"
     ]
    },
    {
     "name": "stderr",
     "output_type": "stream",
     "text": [
      "\r",
      "\u001b[32mSampling:   9%|████                                     |  ETA: 0:00:16\u001b[39m"
     ]
    },
    {
     "name": "stderr",
     "output_type": "stream",
     "text": [
      "\r",
      "\u001b[32mSampling:   9%|████                                     |  ETA: 0:00:17\u001b[39m"
     ]
    },
    {
     "name": "stderr",
     "output_type": "stream",
     "text": [
      "\r",
      "\u001b[32mSampling:  10%|█████                                    |  ETA: 0:00:16\u001b[39m"
     ]
    },
    {
     "name": "stderr",
     "output_type": "stream",
     "text": [
      "\r",
      "\u001b[32mSampling:  14%|██████                                   |  ETA: 0:00:15\u001b[39m"
     ]
    },
    {
     "name": "stderr",
     "output_type": "stream",
     "text": [
      "\r",
      "\u001b[32mSampling:  15%|███████                                  |  ETA: 0:00:15\u001b[39m"
     ]
    },
    {
     "name": "stderr",
     "output_type": "stream",
     "text": [
      "\r",
      "\u001b[32mSampling:  16%|███████                                  |  ETA: 0:00:15\u001b[39m"
     ]
    },
    {
     "name": "stderr",
     "output_type": "stream",
     "text": [
      "\r",
      "\u001b[32mSampling:  16%|███████                                  |  ETA: 0:00:15\u001b[39m"
     ]
    },
    {
     "name": "stderr",
     "output_type": "stream",
     "text": [
      "\r",
      "\u001b[32mSampling:  17%|████████                                 |  ETA: 0:00:15\u001b[39m"
     ]
    },
    {
     "name": "stderr",
     "output_type": "stream",
     "text": [
      "\r",
      "\u001b[32mSampling:  18%|████████                                 |  ETA: 0:00:15\u001b[39m"
     ]
    },
    {
     "name": "stderr",
     "output_type": "stream",
     "text": [
      "\r",
      "\u001b[32mSampling:  20%|█████████                                |  ETA: 0:00:14\u001b[39m"
     ]
    },
    {
     "name": "stderr",
     "output_type": "stream",
     "text": [
      "\r",
      "\u001b[32mSampling:  21%|█████████                                |  ETA: 0:00:14\u001b[39m"
     ]
    },
    {
     "name": "stderr",
     "output_type": "stream",
     "text": [
      "\r",
      "\u001b[32mSampling:  22%|█████████                                |  ETA: 0:00:14\u001b[39m"
     ]
    },
    {
     "name": "stderr",
     "output_type": "stream",
     "text": [
      "\r",
      "\u001b[32mSampling:  23%|██████████                               |  ETA: 0:00:14\u001b[39m"
     ]
    },
    {
     "name": "stderr",
     "output_type": "stream",
     "text": [
      "\r",
      "\u001b[32mSampling:  24%|██████████                               |  ETA: 0:00:13\u001b[39m"
     ]
    },
    {
     "name": "stderr",
     "output_type": "stream",
     "text": [
      "\r",
      "\u001b[32mSampling:  26%|███████████                              |  ETA: 0:00:13\u001b[39m"
     ]
    },
    {
     "name": "stderr",
     "output_type": "stream",
     "text": [
      "\r",
      "\u001b[32mSampling:  27%|███████████                              |  ETA: 0:00:13\u001b[39m"
     ]
    },
    {
     "name": "stderr",
     "output_type": "stream",
     "text": [
      "\r",
      "\u001b[32mSampling:  28%|████████████                             |  ETA: 0:00:13\u001b[39m"
     ]
    },
    {
     "name": "stderr",
     "output_type": "stream",
     "text": [
      "\r",
      "\u001b[32mSampling:  29%|████████████                             |  ETA: 0:00:12\u001b[39m"
     ]
    },
    {
     "name": "stderr",
     "output_type": "stream",
     "text": [
      "\r",
      "\u001b[32mSampling:  30%|█████████████                            |  ETA: 0:00:12\u001b[39m"
     ]
    },
    {
     "name": "stderr",
     "output_type": "stream",
     "text": [
      "\r",
      "\u001b[32mSampling:  31%|█████████████                            |  ETA: 0:00:12\u001b[39m"
     ]
    },
    {
     "name": "stderr",
     "output_type": "stream",
     "text": [
      "\r",
      "\u001b[32mSampling:  32%|█████████████                            |  ETA: 0:00:12\u001b[39m"
     ]
    },
    {
     "name": "stderr",
     "output_type": "stream",
     "text": [
      "\r",
      "\u001b[32mSampling:  33%|██████████████                           |  ETA: 0:00:11\u001b[39m"
     ]
    },
    {
     "name": "stderr",
     "output_type": "stream",
     "text": [
      "\r",
      "\u001b[32mSampling:  34%|███████████████                          |  ETA: 0:00:11\u001b[39m"
     ]
    },
    {
     "name": "stderr",
     "output_type": "stream",
     "text": [
      "\r",
      "\u001b[32mSampling:  36%|███████████████                          |  ETA: 0:00:11\u001b[39m"
     ]
    },
    {
     "name": "stderr",
     "output_type": "stream",
     "text": [
      "\r",
      "\u001b[32mSampling:  37%|████████████████                         |  ETA: 0:00:10\u001b[39m"
     ]
    },
    {
     "name": "stderr",
     "output_type": "stream",
     "text": [
      "\r",
      "\u001b[32mSampling:  38%|████████████████                         |  ETA: 0:00:10\u001b[39m"
     ]
    },
    {
     "name": "stderr",
     "output_type": "stream",
     "text": [
      "\r",
      "\u001b[32mSampling:  39%|█████████████████                        |  ETA: 0:00:10\u001b[39m"
     ]
    },
    {
     "name": "stderr",
     "output_type": "stream",
     "text": [
      "\r",
      "\u001b[32mSampling:  40%|█████████████████                        |  ETA: 0:00:09\u001b[39m"
     ]
    },
    {
     "name": "stderr",
     "output_type": "stream",
     "text": [
      "\r",
      "\u001b[32mSampling:  42%|██████████████████                       |  ETA: 0:00:09\u001b[39m\r"
     ]
    },
    {
     "name": "stderr",
     "output_type": "stream",
     "text": [
      "\u001b[32mSampling:  43%|██████████████████                       |  ETA: 0:00:09\u001b[39m\r",
      "\u001b[32mSampling:  44%|███████████████████                      |  ETA: 0:00:08\u001b[39m"
     ]
    },
    {
     "name": "stderr",
     "output_type": "stream",
     "text": [
      "\r",
      "\u001b[32mSampling:  46%|███████████████████                      |  ETA: 0:00:08\u001b[39m"
     ]
    },
    {
     "name": "stderr",
     "output_type": "stream",
     "text": [
      "\r",
      "\u001b[32mSampling:  47%|████████████████████                     |  ETA: 0:00:08\u001b[39m"
     ]
    },
    {
     "name": "stderr",
     "output_type": "stream",
     "text": [
      "\r",
      "\u001b[32mSampling:  48%|████████████████████                     |  ETA: 0:00:08\u001b[39m"
     ]
    },
    {
     "name": "stderr",
     "output_type": "stream",
     "text": [
      "\r",
      "\u001b[32mSampling:  49%|█████████████████████                    |  ETA: 0:00:08\u001b[39m"
     ]
    },
    {
     "name": "stderr",
     "output_type": "stream",
     "text": [
      "\r",
      "\u001b[32mSampling:  50%|█████████████████████                    |  ETA: 0:00:07\u001b[39m"
     ]
    },
    {
     "name": "stderr",
     "output_type": "stream",
     "text": [
      "\r",
      "\u001b[32mSampling:  51%|█████████████████████                    |  ETA: 0:00:07\u001b[39m"
     ]
    },
    {
     "name": "stderr",
     "output_type": "stream",
     "text": [
      "\r"
     ]
    },
    {
     "name": "stderr",
     "output_type": "stream",
     "text": [
      "\u001b[32mSampling:  52%|██████████████████████                   |  ETA: 0:00:07\u001b[39m\r",
      "\u001b[32mSampling:  53%|██████████████████████                   |  ETA: 0:00:07\u001b[39m"
     ]
    },
    {
     "name": "stderr",
     "output_type": "stream",
     "text": [
      "\r",
      "\u001b[32mSampling:  54%|███████████████████████                  |  ETA: 0:00:07\u001b[39m"
     ]
    },
    {
     "name": "stderr",
     "output_type": "stream",
     "text": [
      "\r",
      "\u001b[32mSampling:  56%|███████████████████████                  |  ETA: 0:00:06\u001b[39m"
     ]
    },
    {
     "name": "stderr",
     "output_type": "stream",
     "text": [
      "\r",
      "\u001b[32mSampling:  57%|████████████████████████                 |  ETA: 0:00:06\u001b[39m"
     ]
    },
    {
     "name": "stderr",
     "output_type": "stream",
     "text": [
      "\r",
      "\u001b[32mSampling:  58%|████████████████████████                 |  ETA: 0:00:06\u001b[39m"
     ]
    },
    {
     "name": "stderr",
     "output_type": "stream",
     "text": [
      "\r",
      "\u001b[32mSampling:  60%|█████████████████████████                |  ETA: 0:00:06\u001b[39m"
     ]
    },
    {
     "name": "stderr",
     "output_type": "stream",
     "text": [
      "\r",
      "\u001b[32mSampling:  61%|█████████████████████████                |  ETA: 0:00:06\u001b[39m\r",
      "\u001b[32mSampling:  62%|██████████████████████████               |  ETA: 0:00:05\u001b[39m"
     ]
    },
    {
     "name": "stderr",
     "output_type": "stream",
     "text": [
      "\r",
      "\u001b[32mSampling:  63%|██████████████████████████               |  ETA: 0:00:05\u001b[39m"
     ]
    },
    {
     "name": "stderr",
     "output_type": "stream",
     "text": [
      "\r",
      "\u001b[32mSampling:  64%|███████████████████████████              |  ETA: 0:00:05\u001b[39m"
     ]
    },
    {
     "name": "stderr",
     "output_type": "stream",
     "text": [
      "\r",
      "\u001b[32mSampling:  66%|███████████████████████████              |  ETA: 0:00:05\u001b[39m"
     ]
    },
    {
     "name": "stderr",
     "output_type": "stream",
     "text": [
      "\r",
      "\u001b[32mSampling:  67%|████████████████████████████             |  ETA: 0:00:05\u001b[39m"
     ]
    },
    {
     "name": "stderr",
     "output_type": "stream",
     "text": [
      "\r",
      "\u001b[32mSampling:  68%|█████████████████████████████            |  ETA: 0:00:04\u001b[39m"
     ]
    },
    {
     "name": "stderr",
     "output_type": "stream",
     "text": [
      "\r",
      "\u001b[32mSampling:  69%|█████████████████████████████            |  ETA: 0:00:04\u001b[39m"
     ]
    },
    {
     "name": "stderr",
     "output_type": "stream",
     "text": [
      "\r",
      "\u001b[32mSampling:  70%|█████████████████████████████            |  ETA: 0:00:04\u001b[39m"
     ]
    },
    {
     "name": "stderr",
     "output_type": "stream",
     "text": [
      "\r",
      "\u001b[32mSampling:  72%|██████████████████████████████           |  ETA: 0:00:04\u001b[39m"
     ]
    },
    {
     "name": "stderr",
     "output_type": "stream",
     "text": [
      "\r",
      "\u001b[32mSampling:  73%|██████████████████████████████           |  ETA: 0:00:04\u001b[39m"
     ]
    },
    {
     "name": "stderr",
     "output_type": "stream",
     "text": [
      "\r",
      "\u001b[32mSampling:  74%|███████████████████████████████          |  ETA: 0:00:04\u001b[39m\r",
      "\u001b[32mSampling:  75%|███████████████████████████████          |  ETA: 0:00:03\u001b[39m"
     ]
    },
    {
     "name": "stderr",
     "output_type": "stream",
     "text": [
      "\r",
      "\u001b[32mSampling:  76%|████████████████████████████████         |  ETA: 0:00:03\u001b[39m"
     ]
    },
    {
     "name": "stderr",
     "output_type": "stream",
     "text": [
      "\r",
      "\u001b[32mSampling:  77%|████████████████████████████████         |  ETA: 0:00:03\u001b[39m"
     ]
    },
    {
     "name": "stderr",
     "output_type": "stream",
     "text": [
      "\r",
      "\u001b[32mSampling:  78%|█████████████████████████████████        |  ETA: 0:00:03\u001b[39m"
     ]
    },
    {
     "name": "stderr",
     "output_type": "stream",
     "text": [
      "\r",
      "\u001b[32mSampling:  80%|█████████████████████████████████        |  ETA: 0:00:03\u001b[39m"
     ]
    },
    {
     "name": "stderr",
     "output_type": "stream",
     "text": [
      "\r",
      "\u001b[32mSampling:  82%|██████████████████████████████████       |  ETA: 0:00:02\u001b[39m"
     ]
    },
    {
     "name": "stderr",
     "output_type": "stream",
     "text": [
      "\r",
      "\u001b[32mSampling:  83%|███████████████████████████████████      |  ETA: 0:00:02\u001b[39m"
     ]
    },
    {
     "name": "stderr",
     "output_type": "stream",
     "text": [
      "\r",
      "\u001b[32mSampling:  84%|███████████████████████████████████      |  ETA: 0:00:02\u001b[39m"
     ]
    },
    {
     "name": "stderr",
     "output_type": "stream",
     "text": [
      "\r",
      "\u001b[32mSampling:  86%|████████████████████████████████████     |  ETA: 0:00:02\u001b[39m"
     ]
    },
    {
     "name": "stderr",
     "output_type": "stream",
     "text": [
      "\r"
     ]
    },
    {
     "name": "stderr",
     "output_type": "stream",
     "text": [
      "\u001b[32mSampling:  87%|████████████████████████████████████     |  ETA: 0:00:02\u001b[39m\r",
      "\u001b[32mSampling:  88%|█████████████████████████████████████    |  ETA: 0:00:02\u001b[39m"
     ]
    },
    {
     "name": "stderr",
     "output_type": "stream",
     "text": [
      "\r",
      "\u001b[32mSampling:  89%|█████████████████████████████████████    |  ETA: 0:00:01\u001b[39m"
     ]
    },
    {
     "name": "stderr",
     "output_type": "stream",
     "text": [
      "\r",
      "\u001b[32mSampling:  90%|██████████████████████████████████████   |  ETA: 0:00:01\u001b[39m"
     ]
    },
    {
     "name": "stderr",
     "output_type": "stream",
     "text": [
      "\r",
      "\u001b[32mSampling:  91%|██████████████████████████████████████   |  ETA: 0:00:01\u001b[39m"
     ]
    },
    {
     "name": "stderr",
     "output_type": "stream",
     "text": [
      "\r",
      "\u001b[32mSampling:  92%|██████████████████████████████████████   |  ETA: 0:00:01\u001b[39m"
     ]
    },
    {
     "name": "stderr",
     "output_type": "stream",
     "text": [
      "\r"
     ]
    },
    {
     "name": "stderr",
     "output_type": "stream",
     "text": [
      "\u001b[32mSampling:  93%|███████████████████████████████████████  |  ETA: 0:00:01\u001b[39m\r",
      "\u001b[32mSampling:  94%|███████████████████████████████████████  |  ETA: 0:00:01\u001b[39m"
     ]
    },
    {
     "name": "stderr",
     "output_type": "stream",
     "text": [
      "\r",
      "\u001b[32mSampling:  95%|████████████████████████████████████████ |  ETA: 0:00:01\u001b[39m"
     ]
    },
    {
     "name": "stderr",
     "output_type": "stream",
     "text": [
      "\r",
      "\u001b[32mSampling:  96%|████████████████████████████████████████ |  ETA: 0:00:01\u001b[39m"
     ]
    },
    {
     "name": "stderr",
     "output_type": "stream",
     "text": [
      "\r",
      "\u001b[32mSampling:  97%|████████████████████████████████████████ |  ETA: 0:00:00\u001b[39m"
     ]
    },
    {
     "name": "stderr",
     "output_type": "stream",
     "text": [
      "\r",
      "\u001b[32mSampling:  98%|█████████████████████████████████████████|  ETA: 0:00:00\u001b[39m"
     ]
    },
    {
     "name": "stderr",
     "output_type": "stream",
     "text": [
      "\r",
      "\u001b[32mSampling:  99%|█████████████████████████████████████████|  ETA: 0:00:00\u001b[39m"
     ]
    },
    {
     "name": "stderr",
     "output_type": "stream",
     "text": [
      "\r",
      "\u001b[32mSampling: 100%|█████████████████████████████████████████| Time: 0:00:13\u001b[39m\n"
     ]
    },
    {
     "data": {
      "text/plain": [
       "Chains MCMC chain (500×28×1 Array{Float64, 3}):\n",
       "\n",
       "Iterations        = 251:1:750\n",
       "Number of chains  = 1\n",
       "Samples per chain = 500\n",
       "Wall duration     = 19.93 seconds\n",
       "Compute duration  = 19.93 seconds\n",
       "parameters        = p_intercept_fixed, p_condition_fixed, p_intercept_participant_sd, p_condition_participant_sd, p_intercept_participant[1], p_intercept_participant[2], p_intercept_participant[3], p_intercept_participant[4], p_intercept_participant[5], p_intercept_participant[6], p_condition_participant[1], p_condition_participant[2], p_condition_participant[3], p_condition_participant[4], p_condition_participant[5], p_condition_participant[6]\n",
       "internals         = lp, n_steps, is_accept, acceptance_rate, log_density, hamiltonian_energy, hamiltonian_energy_error, max_hamiltonian_energy_error, tree_depth, numerical_error, step_size, nom_step_size\n",
       "\n",
       "Summary Statistics\n",
       " \u001b[1m                 parameters \u001b[0m \u001b[1m    mean \u001b[0m \u001b[1m     std \u001b[0m \u001b[1m    mcse \u001b[0m \u001b[1m ess_bulk \u001b[0m \u001b[1m ess_ta\u001b[0m ⋯\n",
       " \u001b[90m                     Symbol \u001b[0m \u001b[90m Float64 \u001b[0m \u001b[90m Float64 \u001b[0m \u001b[90m Float64 \u001b[0m \u001b[90m  Float64 \u001b[0m \u001b[90m  Float\u001b[0m ⋯\n",
       "\n",
       "           p_intercept_fixed   -2.0481    0.2256    0.0230    99.7675   140.05 ⋯\n",
       "           p_condition_fixed   -0.9625    0.1692    0.0126   180.3073   258.62 ⋯\n",
       "  p_intercept_participant_sd    0.5069    0.1549    0.0105   226.3741   317.15 ⋯\n",
       "  p_condition_participant_sd    0.3710    0.1561    0.0095   221.1466   211.47 ⋯\n",
       "  p_intercept_participant[1]   -0.1004    0.2396    0.0237   106.1729   136.06 ⋯\n",
       "  p_intercept_participant[2]   -0.2609    0.2613    0.0243   120.3266   178.11 ⋯\n",
       "  p_intercept_participant[3]   -0.1941    0.2410    0.0221   124.8252   157.89 ⋯\n",
       "  p_intercept_participant[4]   -0.2892    0.2378    0.0232   105.8760   123.49 ⋯\n",
       "  p_intercept_participant[5]   -0.5547    0.2561    0.0243   112.4796   144.32 ⋯\n",
       "  p_intercept_participant[6]    0.6773    0.2344    0.0224   113.8842   117.37 ⋯\n",
       "  p_condition_participant[1]    0.4103    0.2046    0.0139   218.4820   222.98 ⋯\n",
       "  p_condition_participant[2]   -0.2027    0.2649    0.0137   379.9427   378.99 ⋯\n",
       "  p_condition_participant[3]   -0.1530    0.2400    0.0169   213.4403   188.01 ⋯\n",
       "  p_condition_participant[4]   -0.1064    0.2056    0.0110   356.1722   347.77 ⋯\n",
       "  p_condition_participant[5]    0.2108    0.2253    0.0147   231.7768   273.08 ⋯\n",
       "  p_condition_participant[6]   -0.2946    0.2101    0.0145   211.9427   252.53 ⋯\n",
       "\u001b[36m                                                               3 columns omitted\u001b[0m\n",
       "\n",
       "Quantiles\n",
       " \u001b[1m                 parameters \u001b[0m \u001b[1m    2.5% \u001b[0m \u001b[1m   25.0% \u001b[0m \u001b[1m   50.0% \u001b[0m \u001b[1m   75.0% \u001b[0m \u001b[1m   97.5%\u001b[0m ⋯\n",
       " \u001b[90m                     Symbol \u001b[0m \u001b[90m Float64 \u001b[0m \u001b[90m Float64 \u001b[0m \u001b[90m Float64 \u001b[0m \u001b[90m Float64 \u001b[0m \u001b[90m Float64\u001b[0m ⋯\n",
       "\n",
       "           p_intercept_fixed   -2.4292   -2.1927   -2.0700   -1.9152   -1.5387 ⋯\n",
       "           p_condition_fixed   -1.2929   -1.0647   -0.9656   -0.8619   -0.6351 ⋯\n",
       "  p_intercept_participant_sd    0.2738    0.3920    0.4824    0.5905    0.8763 ⋯\n",
       "  p_condition_participant_sd    0.1348    0.2643    0.3469    0.4569    0.7595 ⋯\n",
       "  p_intercept_participant[1]   -0.6101   -0.2374   -0.0834    0.0564    0.3564 ⋯\n",
       "  p_intercept_participant[2]   -0.8331   -0.4147   -0.2380   -0.0926    0.2163 ⋯\n",
       "  p_intercept_participant[3]   -0.7322   -0.3385   -0.1768   -0.0342    0.2202 ⋯\n",
       "  p_intercept_participant[4]   -0.8230   -0.4265   -0.2688   -0.1316    0.1400 ⋯\n",
       "  p_intercept_participant[5]   -1.1046   -0.7101   -0.5436   -0.3855   -0.1001 ⋯\n",
       "  p_intercept_participant[6]    0.1923    0.5399    0.6880    0.8372    1.1330 ⋯\n",
       "  p_condition_participant[1]    0.0493    0.2698    0.4095    0.5395    0.8562 ⋯\n",
       "  p_condition_participant[2]   -0.7779   -0.3762   -0.1884   -0.0163    0.2480 ⋯\n",
       "  p_condition_participant[3]   -0.6536   -0.3022   -0.1406   -0.0061    0.3298 ⋯\n",
       "  p_condition_participant[4]   -0.5301   -0.2338   -0.0927    0.0270    0.2775 ⋯\n",
       "  p_condition_participant[5]   -0.2113    0.0633    0.2035    0.3729    0.6613 ⋯\n",
       "  p_condition_participant[6]   -0.6991   -0.4363   -0.2913   -0.1430    0.1157 ⋯\n"
      ]
     },
     "execution_count": 9,
     "metadata": {},
     "output_type": "execute_result"
    }
   ],
   "source": [
    "#| code-fold: false\n",
    "#| output: false\n",
    "\n",
    "@model function model_logistic(y; condition=df.Accuracy, participant=df.Participant)\n",
    "    # Priors for  fixed effects\n",
    "    p_intercept_fixed ~ Normal(0, 1)\n",
    "    p_condition_fixed ~ Normal(0, 1)\n",
    "\n",
    "    # Priors for the SD of the random effects \n",
    "    p_intercept_participant_sd ~ truncated(Normal(0, 0.5); lower=0)\n",
    "    p_condition_participant_sd ~ truncated(Normal(0, 0.5); lower=0)\n",
    "\n",
    "    # Priors for each participant\n",
    "    p_intercept_participant ~ filldist(Normal(0, p_intercept_participant_sd), length(unique(participant)))\n",
    "    p_condition_participant ~ filldist(Normal(0, p_condition_participant_sd), length(unique(participant)))\n",
    "    \n",
    "    # Likelihood\n",
    "    for i in 1:length(y)\n",
    "        # Random components\n",
    "        p_intercept = p_intercept_fixed + p_intercept_participant[participant[i]]\n",
    "        p_condition = p_condition_fixed + p_condition_participant[participant[i]]\n",
    "\n",
    "        # Linear model equation\n",
    "        p = p_intercept + p_condition * condition[i]\n",
    "        \n",
    "        # Inference\n",
    "        y[i] ~ BernoulliLogit(p)\n",
    "    end\n",
    "end\n",
    "\n",
    "fit_logistic = model_logistic(df.Error, condition=df.Accuracy, participant=df.Participant)\n",
    "posteriors_logistic = sample(fit_logistic, NUTS(), 500)\n",
    "# using MicroCanonicalHMC\n",
    "# posteriors_logistic = sample(fit_logistic, externalsampler(MCHMC(1000, 0.001)), 500)"
   ]
  }
 ],
 "metadata": {
  "kernelspec": {
   "display_name": "Julia 1.10.2",
   "language": "julia",
   "name": "julia-1.10"
  },
  "language_info": {
   "file_extension": ".jl",
   "mimetype": "application/julia",
   "name": "julia",
   "version": "1.10.2"
  }
 },
 "nbformat": 4,
 "nbformat_minor": 5
}